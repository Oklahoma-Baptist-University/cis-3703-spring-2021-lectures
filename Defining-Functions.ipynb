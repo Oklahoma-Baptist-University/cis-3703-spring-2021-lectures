{
 "cells": [
  {
   "cell_type": "markdown",
   "metadata": {},
   "source": [
    "## CIS 3703 Python Programming - Spring 2021"
   ]
  },
  {
   "cell_type": "code",
   "execution_count": 1,
   "metadata": {},
   "outputs": [],
   "source": [
    "# The following should be included in each Jupyter Notebook. We will discuss this later in the course.\n",
    "# For now, just include these statements.\n",
    "\n",
    "# For more information, see\n",
    "# https://ipython.readthedocs.io/en/stable/config/extensions/autoreload.html\n",
    "\n",
    "%load_ext autoreload\n",
    "%autoreload 2"
   ]
  },
  {
   "cell_type": "markdown",
   "metadata": {},
   "source": [
    "## The Function of Functions"
   ]
  },
  {
   "cell_type": "markdown",
   "metadata": {},
   "source": [
    "Functions are used to reduce code duplication and to make programs more understandable and easier to maintain.<p>\n",
    "As an example of why we need functions, in the future value calculation from Chapter 4, there was code to draw a bar chart in two different places; basically the same code. If we decide to change the color of the bar, we would need to remember to make the change in two places."
   ]
  },
  {
   "cell_type": "markdown",
   "metadata": {},
   "source": [
    "## Functions, Informally"
   ]
  },
  {
   "cell_type": "markdown",
   "metadata": {},
   "source": [
    "A function is basically a subprogram - a program within a program. The basic idea is that we write a sequence of statements and give that sequence a name. The instructions inside that function cane be executed at any point in the program by referring to the function name. <p>\n",
    "    The part of the program that creates the function is called a <i>function definition</i>.<p>\n",
    "    When a function is subsequently used in a program, we say that the definintion is <i>called</i> or <i>invoked</i>."
   ]
  },
  {
   "cell_type": "code",
   "execution_count": 3,
   "metadata": {},
   "outputs": [
    {
     "name": "stdout",
     "output_type": "stream",
     "text": [
      "Happy birthday to you!\n",
      "Happy birthday to you!\n",
      "Happy birthday, dear Fred!\n",
      "Happy birthday to you!\n"
     ]
    }
   ],
   "source": [
    "def birthday_song():\n",
    "    print(\"Happy birthday to you!\")\n",
    "    print(\"Happy birthday to you!\")\n",
    "    print(\"Happy birthday, dear Fred!\")\n",
    "    print(\"Happy birthday to you!\")\n",
    "birthday_song()\n",
    "# Problem - there is duplicate code (1st, 2nd, 4th lines)"
   ]
  },
  {
   "cell_type": "code",
   "execution_count": 5,
   "metadata": {},
   "outputs": [
    {
     "name": "stdout",
     "output_type": "stream",
     "text": [
      "Happy birthday to y'all!\n",
      "Happy birthday to y'all!\n",
      "Happy birthday, dear Fred!\n",
      "Happy birthday to y'all!\n"
     ]
    }
   ],
   "source": [
    "# Create a new function that prints out what is in lines 1, 2, 4.\n",
    "# This way, if the song ever changes, we only need to make the change in one\n",
    "# place\n",
    "def happy():\n",
    "    print(\"Happy birthday to y'all!\")\n",
    "    \n",
    "def birthday_song():\n",
    "    happy()\n",
    "    happy()\n",
    "    print(\"Happy birthday, dear Fred!\")\n",
    "    happy()\n",
    "birthday_song()\n",
    "# Problem - this only works for Fred"
   ]
  },
  {
   "cell_type": "code",
   "execution_count": 6,
   "metadata": {},
   "outputs": [
    {
     "name": "stdout",
     "output_type": "stream",
     "text": [
      "Happy birthday to y'all!\n",
      "Happy birthday to y'all!\n",
      "Happy birthday, dear Fred!\n",
      "Happy birthday to y'all!\n",
      "\n",
      "Happy birthday to y'all!\n",
      "Happy birthday to y'all!\n",
      "Happy birthday, dear Lucy!\n",
      "Happy birthday to y'all!\n"
     ]
    }
   ],
   "source": [
    "def fred_birthday_song():\n",
    "    happy()\n",
    "    happy()\n",
    "    print(\"Happy birthday, dear Fred!\")\n",
    "    happy()\n",
    "\n",
    "def lucy_birthday_song():\n",
    "    happy()\n",
    "    happy()\n",
    "    print(\"Happy birthday, dear Lucy!\")\n",
    "    happy()\n",
    "\n",
    "fred_birthday_song()\n",
    "print()\n",
    "lucy_birthday_song()\n",
    "# Problem - Need a function for each person\n",
    "# Note the only difference between these two is the name\n",
    "# of the person"
   ]
  },
  {
   "cell_type": "code",
   "execution_count": 7,
   "metadata": {},
   "outputs": [
    {
     "name": "stdout",
     "output_type": "stream",
     "text": [
      "Happy birthday to y'all!\n",
      "Happy birthday to y'all!\n",
      "Happy birthday, dear Fred !\n",
      "Happy birthday to y'all!\n",
      "\n",
      "Happy birthday to y'all!\n",
      "Happy birthday to y'all!\n",
      "Happy birthday, dear Lucy !\n",
      "Happy birthday to y'all!\n",
      "\n",
      "Happy birthday to y'all!\n",
      "Happy birthday to y'all!\n",
      "Happy birthday, dear Ethel !\n",
      "Happy birthday to y'all!\n"
     ]
    }
   ],
   "source": [
    "# Solution - collapse both of these into a single function with a \n",
    "# parameter that is the name of the person who has the birthday\n",
    "def anyone_birthday_song(birthday_person):\n",
    "    happy()\n",
    "    happy()\n",
    "    print(\"Happy birthday, dear\", birthday_person, \"!\")\n",
    "    happy()\n",
    "anyone_birthday_song(\"Fred\")\n",
    "print()\n",
    "anyone_birthday_song(\"Lucy\")\n",
    "print()\n",
    "anyone_birthday_song(\"Ethel\")"
   ]
  },
  {
   "cell_type": "markdown",
   "metadata": {},
   "source": [
    "## Future Value with Functions"
   ]
  },
  {
   "cell_type": "markdown",
   "metadata": {},
   "source": [
    "See defining_functions.py"
   ]
  },
  {
   "cell_type": "markdown",
   "metadata": {},
   "source": [
    "## Functions and Parameters"
   ]
  },
  {
   "cell_type": "markdown",
   "metadata": {},
   "source": [
    "Why did we need to pass the window to the function for future value? It has to do with the <i>scope</i> of the variables in function definitions.<p>\n",
    "\n",
    "<i>Scope</i> refers to the places in a program where a given variable can be references. Each function is a subprogram ... the variables inside the function are <i>local</i> to that function (even if they have the same name).<p>\n",
    "        \n",
    "The only way for a function to see a variable from another function is for that variable to be passed as a parameter.\n",
    "    \n",
    "A function definition is<p>\n",
    "<code>def &lt;name&gt; (&lt;formal parameters&gt;):\n",
    "    &lt;body&gt;</code><p>\n",
    "The formal parameters is a sequence of variable names. They are only accessible in the body of the function.<p>\n",
    "Variables with the same names elsewhere in the program are distinct from the formal parameters and variables inside the function body.<p>\n",
    "    \n",
    "A function is called by using its name followed by a list of <i>actual</i> parameters or <i>arguments</i>.<p>\n",
    "        <code>&lt;name&gt;(&lt;actual parameters&gt;)</code>\n",
    "    \n",
    "Why Python comes to a function call, it initiates the following process\n",
    "<ol>\n",
    "    <li>The calling program suspends execution at the point of the call\n",
    "    <li>The formal parameters of the function get assigned the values supplied by the actual parameters in the call\n",
    "        <ul>\n",
    "            <li>the actual parameters are matched up with the formal parameters by position\n",
    "            <li>this can be modified by using keyword parameters (e.g. the end=\"\" in a call to print)\n",
    "        </ul>\n",
    "    <li>The body of the function is executed\n",
    "    <li>Control returns to the point just after where the function was called\n",
    "</ol>"
   ]
  },
  {
   "cell_type": "code",
   "execution_count": 7,
   "metadata": {},
   "outputs": [],
   "source": [
    "# Function averages and prints two numbers\n",
    "def average_two_numbers(num1, num2):\n",
    "    average = (num1 + num2) /2\n",
    "    print(\"Average is\", average)"
   ]
  },
  {
   "cell_type": "code",
   "execution_count": 9,
   "metadata": {},
   "outputs": [],
   "source": [
    "#print(average)"
   ]
  },
  {
   "cell_type": "code",
   "execution_count": 6,
   "metadata": {},
   "outputs": [
    {
     "name": "stdout",
     "output_type": "stream",
     "text": [
      "Average is 6.0\n"
     ]
    }
   ],
   "source": [
    "average_two_numbers(5, 7)"
   ]
  },
  {
   "cell_type": "markdown",
   "metadata": {},
   "source": [
    "## Functions that Return Values"
   ]
  },
  {
   "cell_type": "markdown",
   "metadata": {},
   "source": [
    "Parameter passing provides a way to initialize variables in a function. Parameters act as inputs. You can call a function many times and get different results by changing the input parameters.<p>\n",
    "Sometimes we want to get information back out of a function."
   ]
  },
  {
   "cell_type": "code",
   "execution_count": 10,
   "metadata": {},
   "outputs": [
    {
     "data": {
      "text/plain": [
       "9"
      ]
     },
     "execution_count": 10,
     "metadata": {},
     "output_type": "execute_result"
    }
   ],
   "source": [
    "x = 3\n",
    "y = x ** 2\n",
    "y"
   ]
  },
  {
   "cell_type": "code",
   "execution_count": 11,
   "metadata": {},
   "outputs": [
    {
     "data": {
      "text/plain": [
       "8.06225774829855"
      ]
     },
     "execution_count": 11,
     "metadata": {},
     "output_type": "execute_result"
    }
   ],
   "source": [
    "import math\n",
    "\n",
    "x = 7\n",
    "y = 4\n",
    "# we say that the function math.sqrt() returns the square root of a number\n",
    "# it produces a value that is assigned to h\n",
    "h = math.sqrt(x**2 + y**2)\n",
    "h"
   ]
  },
  {
   "cell_type": "code",
   "execution_count": 12,
   "metadata": {},
   "outputs": [
    {
     "data": {
      "text/plain": [
       "16"
      ]
     },
     "execution_count": 12,
     "metadata": {},
     "output_type": "execute_result"
    }
   ],
   "source": [
    "# We can create our own functions to return values.\n",
    "def square(x):\n",
    "    return x ** 2;\n",
    "y = square(4)\n",
    "y"
   ]
  },
  {
   "cell_type": "code",
   "execution_count": 16,
   "metadata": {},
   "outputs": [],
   "source": [
    "# Function averages and prints two numbers\n",
    "def average_two_numbers(num1, num2):\n",
    "    average = (num1 + num2) /2\n",
    "    #print(\"Average is\", average)\n",
    "    return average"
   ]
  },
  {
   "cell_type": "code",
   "execution_count": 17,
   "metadata": {},
   "outputs": [
    {
     "data": {
      "text/plain": [
       "6.0"
      ]
     },
     "execution_count": 17,
     "metadata": {},
     "output_type": "execute_result"
    }
   ],
   "source": [
    "avg = average_two_numbers(5, 7)\n",
    "avg"
   ]
  },
  {
   "cell_type": "code",
   "execution_count": 20,
   "metadata": {},
   "outputs": [
    {
     "ename": "TypeError",
     "evalue": "average_two_numbers() missing 1 required positional argument: 'num2'",
     "output_type": "error",
     "traceback": [
      "\u001b[1;31m---------------------------------------------------------------------------\u001b[0m",
      "\u001b[1;31mTypeError\u001b[0m                                 Traceback (most recent call last)",
      "\u001b[1;32m<ipython-input-20-764037843fca>\u001b[0m in \u001b[0;36m<module>\u001b[1;34m\u001b[0m\n\u001b[1;32m----> 1\u001b[1;33m \u001b[0mprint\u001b[0m\u001b[1;33m(\u001b[0m\u001b[1;34m\"The average of 5 and 7 is \"\u001b[0m\u001b[1;33m,\u001b[0m \u001b[0maverage_two_numbers\u001b[0m\u001b[1;33m(\u001b[0m\u001b[1;36m5\u001b[0m\u001b[1;33m)\u001b[0m\u001b[1;33m)\u001b[0m\u001b[1;33m\u001b[0m\u001b[1;33m\u001b[0m\u001b[0m\n\u001b[0m",
      "\u001b[1;31mTypeError\u001b[0m: average_two_numbers() missing 1 required positional argument: 'num2'"
     ]
    }
   ],
   "source": [
    "print(\"The average of 5 and 7 is \", average_two_numbers(5))"
   ]
  },
  {
   "cell_type": "markdown",
   "metadata": {},
   "source": [
    "When Python encounters a return, it immediately exits the current function and returns control to the point just after where the function was called. PLus, the value provided in the return statement is sent back to the caller as an expression result.<p>\n",
    "Almost always better (more flexible) for a function to return a value."
   ]
  },
  {
   "cell_type": "code",
   "execution_count": 21,
   "metadata": {},
   "outputs": [
    {
     "name": "stdout",
     "output_type": "stream",
     "text": [
      "The distance between ( 1.0 ,  1.0 ) and ( 2.0 ,  2.0 ) is  1.4142135623730951\n"
     ]
    }
   ],
   "source": [
    "from graphics import *\n",
    "\n",
    "# Calculate and return the distance between two points\n",
    "def distance(p1, p2):\n",
    "    dist = math.sqrt(square(p2.getX() - p1.getX()) + square(p2.getY() - p1.getY()))\n",
    "    return dist\n",
    "p1 = Point(1, 1)\n",
    "p2 = Point(2, 2)\n",
    "print(\"The distance between (\", p1.getX(), \", \", p1.getY(), \") and (\", \n",
    "      p2.getX(), \", \", p2.getY(), \") is \", distance(p1, p2))"
   ]
  },
  {
   "cell_type": "code",
   "execution_count": null,
   "metadata": {},
   "outputs": [],
   "source": [
    "def happy():\n",
    "    return \"Happy birthday to you!\\n\"\n",
    "\n",
    "def verse_for(person):\n",
    "    lyrics = happy() * 2 + \"Happye birthday, dear \" + person + \".\\n\" + happy()\n",
    "    return lyrics\n",
    "\n",
    "def sing_happy_birthday():\n",
    "    for person in [\"Fred\", \"Lucy\", \"Ethel\"]:\n",
    "        print(verse_for(person))\n",
    "        \n",
    "sing_happy_birthday()\n",
    "\n",
    "def store_happy_birthday():\n",
    "    out_file = open(\"Happy-Birthday.txt\", \"w\")\n",
    "    for person in [\"Fred\", \"Lucy\", \"Ethel\"]:\n",
    "        print(verse_for(person), file=out_file)\n",
    "    out_file.close()\n",
    "store_happy_birthday()"
   ]
  },
  {
   "cell_type": "code",
   "execution_count": 22,
   "metadata": {},
   "outputs": [
    {
     "name": "stdout",
     "output_type": "stream",
     "text": [
      "The sum and diff of 34  and  -23 is sum= 11  diff= 57\n"
     ]
    }
   ],
   "source": [
    "# Functions can return more than one value.\n",
    "def sum_and_diff(x, y):\n",
    "    sum = x + y\n",
    "    diff = x - y\n",
    "    return sum, diff\n",
    "num1 = 34\n",
    "num2 = -23\n",
    "# values are assigned by position\n",
    "sum, diff = sum_and_diff(num1, num2)\n",
    "print(\"The sum and diff of\", num1, \" and \", num2, \"is sum=\", sum, \" diff=\", diff)"
   ]
  },
  {
   "cell_type": "markdown",
   "metadata": {},
   "source": [
    "## Functions that Modify Parameters"
   ]
  },
  {
   "cell_type": "markdown",
   "metadata": {},
   "source": [
    "Return values are the primary way that a function gets information back to the program that called the function. In some cases, functions can communication back to the calling program by making changes to the function parameters."
   ]
  },
  {
   "cell_type": "code",
   "execution_count": null,
   "metadata": {},
   "outputs": [],
   "source": [
    "# Example - suppose we want to return the change to a balance via the parameter\n",
    "def add_interest(balance, rate):\n",
    "    new_balance = balance * (1 + rate)\n",
    "    balance = new_balance\n",
    "    \n",
    "def test_add_interest():\n",
    "    amount = 1000\n",
    "    rate = 0.05\n",
    "    add_interest(amount, rate)\n",
    "    print(\"The updated balance is \", amount)\n",
    "    \n",
    "test_add_interest()\n",
    "\n",
    "# What is happening? The formal parameters only receive the values of the actual parameters. The function\n",
    "# does not have access to the variable that holds the value"
   ]
  },
  {
   "cell_type": "code",
   "execution_count": null,
   "metadata": {},
   "outputs": [],
   "source": [
    "def add_interest(balance, rate):\n",
    "    new_balance = balance * (1 + rate)\n",
    "    return new_balance\n",
    "\n",
    "def test_add_interest():\n",
    "    amount = 1000\n",
    "    rate = 0.05\n",
    "    amount = add_interest(amount, rate)\n",
    "    print(\"The updated balance is \", amount)\n",
    "    \n",
    "test_add_interest()\n"
   ]
  },
  {
   "cell_type": "code",
   "execution_count": null,
   "metadata": {},
   "outputs": [],
   "source": [
    "# What if we were looking at many accounts ... a list (lists are mutable)\n",
    "def add_interest(balances, rate):\n",
    "    for i in range(len(balances)):\n",
    "        balances[i] = balances[i] * (1 + rate)\n",
    "        \n",
    "def test_add_interest():\n",
    "    amounts = [1000, 2000, 2500]\n",
    "    rate = 0.05\n",
    "    add_interest(amounts, rate)\n",
    "    print(\"The updated balances are \", amounts)\n",
    "    \n",
    "test_add_interest()\n",
    "\n",
    "# The variable amounts does not change, it is pointing to the same list ... the state of the list\n",
    "# has changed and those changes are visible to the calling program"
   ]
  },
  {
   "cell_type": "markdown",
   "metadata": {},
   "source": [
    "## Functions and Program Structure"
   ]
  },
  {
   "cell_type": "markdown",
   "metadata": {},
   "source": [
    "Functions make programs more modular.<p>\n",
    "Break a program into smaller subprograms, each of which makes sense on its own.\n",
    "    \n",
    "See defining_functions.py"
   ]
  },
  {
   "cell_type": "code",
   "execution_count": null,
   "metadata": {},
   "outputs": [],
   "source": []
  }
 ],
 "metadata": {
  "kernelspec": {
   "display_name": "Python 3",
   "language": "python",
   "name": "python3"
  },
  "language_info": {
   "codemirror_mode": {
    "name": "ipython",
    "version": 3
   },
   "file_extension": ".py",
   "mimetype": "text/x-python",
   "name": "python",
   "nbconvert_exporter": "python",
   "pygments_lexer": "ipython3",
   "version": "3.9.1"
  }
 },
 "nbformat": 4,
 "nbformat_minor": 4
}
