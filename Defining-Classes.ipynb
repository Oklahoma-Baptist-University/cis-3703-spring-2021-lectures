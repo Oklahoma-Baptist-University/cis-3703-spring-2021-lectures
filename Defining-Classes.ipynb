{
 "cells": [
  {
   "cell_type": "markdown",
   "metadata": {},
   "source": [
    "# CIS 3703 Python Programming - Spring 2021"
   ]
  },
  {
   "cell_type": "code",
   "execution_count": 1,
   "metadata": {},
   "outputs": [],
   "source": [
    "# The following should be included in each Jupyter Notebook. We will discuss this later in the course.\n",
    "# For now, just include these statements.\n",
    "\n",
    "# For more information, see\n",
    "# https://ipython.readthedocs.io/en/stable/config/extensions/autoreload.html\n",
    "\n",
    "%load_ext autoreload\n",
    "%autoreload 2"
   ]
  },
  {
   "cell_type": "markdown",
   "metadata": {},
   "source": [
    "## Quick Review of Objects"
   ]
  },
  {
   "cell_type": "markdown",
   "metadata": {},
   "source": [
    "Objects are one way to organize complex data.<p>An object consists of:<p><ul><li>A collection of related information<li>A set of operations to manipulate that information</ul>The information is stored in the object as <i>instance variables</i>. The operations called <i>methods</i> are functions that live inside the object. Collectively, the instance variables and methods are called attributes.<p>Every object is <i>an instance of some class</i>. <p>The class of the object determines what attributes the object will have. A class is a description of what its instances will know and do.<p>You can think of the class itself as a sort of factory for creating new instances."
   ]
  },
  {
   "cell_type": "markdown",
   "metadata": {},
   "source": [
    "## Cannonball Program"
   ]
  },
  {
   "cell_type": "markdown",
   "metadata": {},
   "source": [
    "Rough outline<p><ul><li>input the simulation parameters: angle, velocity, height, intervale<li>calculate the initial position of the cannonball<li>calculate the initial velocities of the cannonball<li>while the cannonball is still flying<ul>update the values</ul><li>output the distance travelled</ul>"
   ]
  },
  {
   "cell_type": "code",
   "execution_count": 6,
   "metadata": {},
   "outputs": [],
   "source": [
    "import math\n",
    "\n",
    "def cannonball():\n",
    "    angle = float(input(\"Enter the launch angle in degrees: \"))\n",
    "    velocity = float(input(\"Enter the initial velocity (in meters / sec): \"))\n",
    "    h0 = float(input(\"Enter the initial height (in meters): \"))\n",
    "    time = float(input(\"Enter the time interval between position calculations: \"))\n",
    "    \n",
    "    xpos = 0.0\n",
    "    ypos = h0\n",
    "    \n",
    "    theta = math.radians(angle)\n",
    "    xvel = velocity * math.cos(theta)\n",
    "    yvel = velocity * math.sin(theta)\n",
    "    \n",
    "    while ypos >= 0.0:\n",
    "        xpos = xpos + time * xvel\n",
    "        yvel1 = yvel - time * 9.8\n",
    "        ypos = ypos + time * (yvel + yvel1) / 2.0\n",
    "        yvel = yvel1\n",
    "    \n",
    "    print(\"\\nDistance travelled: {0:0.1f} meters.\".format(xpos))"
   ]
  },
  {
   "cell_type": "code",
   "execution_count": 7,
   "metadata": {},
   "outputs": [
    {
     "name": "stdout",
     "output_type": "stream",
     "text": [
      "Enter the launch angle in degrees: 45\n",
      "Enter the initial velocity (in meters / sec): 5\n",
      "Enter the initial height (in meters): 5\n",
      "Enter the time interval between position calculations: 4\n",
      "\n",
      "Distance travelled: 14.1 meters.\n"
     ]
    }
   ],
   "source": [
    "cannonball()"
   ]
  },
  {
   "cell_type": "markdown",
   "metadata": {},
   "source": [
    "We can make the program much more modular ..."
   ]
  },
  {
   "cell_type": "code",
   "execution_count": 8,
   "metadata": {},
   "outputs": [],
   "source": [
    "def get_inputs():\n",
    "    angle = float(input(\"Enter the launch angle in degrees: \"))\n",
    "    velocity = float(input(\"Enter the initial velocity (in meters / sec): \"))\n",
    "    h0 = float(input(\"Enter the initial height (in meters): \"))\n",
    "    time = float(input(\"Enter the time interval between position calculations: \"))\n",
    "    \n",
    "    return angle, velocity, h0, time\n",
    "\n",
    "def get_xy_components(velocity, angle):\n",
    "    theta = math.radians(angle)\n",
    "    xvel = velocity * math.cos(theta)\n",
    "    yvel = velocity * math.sin(theta)\n",
    "    \n",
    "    return xvel, yvel\n",
    "        \n",
    "def update_cannonball(time, xpos, ypos, xvel, yvel):\n",
    "        xpos = xpos + time * xvel\n",
    "        yvel1 = yvel - time * 9.8\n",
    "        ypos = ypos + time * (yvel + yvel1) / 2.0\n",
    "        yvel = yvel1\n",
    "        \n",
    "        return xpos, ypos, yvel\n",
    "    \n",
    "def cannonball():\n",
    "    angle, velocity, h0, time = get_inputs()\n",
    "    \n",
    "    xpos, ypos = 0.0, h0\n",
    "    \n",
    "    xvel, yvel = get_xy_components(velocity, angle)\n",
    "    \n",
    "    while ypos >= 0.0:\n",
    "        xpos, ypos, yvel = update_cannonball(time, xpos, ypos, xvel, yvel)\n",
    "    \n",
    "    print(\"\\nDistance travelled: {0:0.1f} meters.\".format(xpos))"
   ]
  },
  {
   "cell_type": "code",
   "execution_count": 9,
   "metadata": {},
   "outputs": [
    {
     "name": "stdout",
     "output_type": "stream",
     "text": [
      "Enter the launch angle in degrees: 45\n",
      "Enter the initial velocity (in meters / sec): 3\n",
      "Enter the initial height (in meters): 10\n",
      "Enter the time interval between position calculations: 2\n",
      "\n",
      "Distance travelled: 4.2 meters.\n"
     ]
    }
   ],
   "source": [
    "cannonball()"
   ]
  },
  {
   "cell_type": "markdown",
   "metadata": {},
   "source": [
    "## Defining New Classes"
   ]
  },
  {
   "cell_type": "markdown",
   "metadata": {},
   "source": [
    "### Multi-Sided Die"
   ]
  },
  {
   "cell_type": "markdown",
   "metadata": {},
   "source": [
    "Need to know two things<p><ol><li>How many sides<li>Its current value</ol>"
   ]
  },
  {
   "cell_type": "code",
   "execution_count": 11,
   "metadata": {},
   "outputs": [],
   "source": [
    "from random import randrange\n",
    "\n",
    "# A collection of methods (functions) for a multi-sided die\n",
    "class MultiSidedDie:\n",
    "    def __init__(self, sides):\n",
    "        self.sides = sides\n",
    "        self.value = 1\n",
    "        \n",
    "    # Methods look just like functions, except they are inside the class\n",
    "    # and not acailable outside of it\n",
    "    \n",
    "    # The first parameter 'self' always contains a reference to the object\n",
    "    # on which the method is acting\n",
    "    \n",
    "    # A method invocation is a function call\n",
    "    def roll(self):\n",
    "        self.value =  randrange(1, self.sides + 1)\n",
    "        \n",
    "    def get_value(self):\n",
    "        return self.value\n",
    "    \n",
    "    def set_value(self):\n",
    "        self.value = value"
   ]
  },
  {
   "cell_type": "markdown",
   "metadata": {},
   "source": [
    "A method invocation is a function call:<p><ol><li>The calling program suspends at the point of the invocation. Python locates the appropriate method inside the class of the object to which the method is being applied<li>The formal parameters of the method get assigned the values supplied by the actual parameters of the call (the first one is the object)<li>The body of the method is executed<li>Control returns to the point just after where the method was called</ol><p>Instance variables provide a way to remember data inside an object (accessed by name). We can use dot notation to access them. They store the state of the object and get passed around the program as part of the object.<p>Some methods have a special purpose: the <block>_ _init_ _</block> method is the object constructor - it provides initial values for the instance variables."
   ]
  },
  {
   "cell_type": "code",
   "execution_count": 17,
   "metadata": {},
   "outputs": [],
   "source": [
    "die1 = MultiSidedDie(12)"
   ]
  },
  {
   "cell_type": "code",
   "execution_count": 18,
   "metadata": {},
   "outputs": [
    {
     "data": {
      "text/plain": [
       "1"
      ]
     },
     "execution_count": 18,
     "metadata": {},
     "output_type": "execute_result"
    }
   ],
   "source": [
    "die1.get_value()"
   ]
  },
  {
   "cell_type": "code",
   "execution_count": 16,
   "metadata": {},
   "outputs": [
    {
     "data": {
      "text/plain": [
       "8"
      ]
     },
     "execution_count": 16,
     "metadata": {},
     "output_type": "execute_result"
    }
   ],
   "source": [
    "die1.roll()\n",
    "die1.get_value()"
   ]
  },
  {
   "cell_type": "code",
   "execution_count": 21,
   "metadata": {},
   "outputs": [],
   "source": [
    "class Projectile:\n",
    "    def __init__(self, angle, velocity, height):\n",
    "        self.xpos = 0.0\n",
    "        self.ypos = height\n",
    "        # Not an instance variable\n",
    "        theta = math.radians(angle)\n",
    "        self.xvel = velocity * math.cos(theta)\n",
    "        self.yvel = velocity * math.sin(theta)\n",
    "        \n",
    "    def get_x(self):\n",
    "        return self.xpos\n",
    "    \n",
    "    def get_y(self):\n",
    "        return self.ypos\n",
    "    \n",
    "    def update(self, time):\n",
    "        self.xpos = self.xpos + time * self.xvel\n",
    "        yvel1 = self.yvel - time * 9.8\n",
    "        self.ypos = self.ypos + time * (self.yvel + yvel1) / 2.0\n",
    "        self.yvel = yvel1"
   ]
  },
  {
   "cell_type": "code",
   "execution_count": 22,
   "metadata": {},
   "outputs": [],
   "source": [
    "cannonball_001 = Projectile(45, 4, 10)"
   ]
  },
  {
   "cell_type": "code",
   "execution_count": 25,
   "metadata": {},
   "outputs": [],
   "source": [
    "def cannonball():\n",
    "    angle, velocity, h0, time = get_inputs()\n",
    "    cball = Projectile(angle, velocity, h0)\n",
    "    \n",
    "    while cball.get_y() >= 0.0:\n",
    "        cball.update(time)\n",
    "    \n",
    "    print(\"\\nDistance travelled: {0:0.1f} meters.\".format(cball.get_x()))"
   ]
  },
  {
   "cell_type": "code",
   "execution_count": 26,
   "metadata": {},
   "outputs": [
    {
     "name": "stdout",
     "output_type": "stream",
     "text": [
      "Enter the launch angle in degrees: 45\n",
      "Enter the initial velocity (in meters / sec): 3\n",
      "Enter the initial height (in meters): 6\n",
      "Enter the time interval between position calculations: 1\n",
      "\n",
      "Distance travelled: 4.2 meters.\n"
     ]
    }
   ],
   "source": [
    "cannonball()"
   ]
  },
  {
   "cell_type": "markdown",
   "metadata": {},
   "source": [
    "## Data Processing with Class"
   ]
  },
  {
   "cell_type": "markdown",
   "metadata": {},
   "source": [
    "Classes can model complex behavior (cannonball) or to group together information that describes a person or thing.<p>Find the student with the best GPA from a file of students."
   ]
  },
  {
   "cell_type": "code",
   "execution_count": 29,
   "metadata": {},
   "outputs": [],
   "source": [
    "class Student:\n",
    "    def __init__(self, name, hours, grade_points):\n",
    "        self.name = name\n",
    "        # Make the type float - explicitly\n",
    "        self.hours = float(hours)\n",
    "        self.grade_points = float(grade_points)\n",
    "        \n",
    "    # Accessor methods\n",
    "    def get_name(self):\n",
    "        return self.name\n",
    "    \n",
    "    def get_hours(self):\n",
    "        return self.hours\n",
    "    \n",
    "    def get_grade_points(self):\n",
    "        return self.grade_points\n",
    "    \n",
    "    def gpa(self):\n",
    "        return self.grade_points / self.hours"
   ]
  },
  {
   "cell_type": "code",
   "execution_count": 30,
   "metadata": {},
   "outputs": [],
   "source": [
    "# Helper function\n",
    "def make_student(student_info):\n",
    "    name, hours, grade_points = student_info.split(\"\\t\")\n",
    "    return Student(name, hours, grade_points)\n",
    "\n",
    "def find_best_student():\n",
    "    filename = input(\"Enter the name of the grade file: \")\n",
    "    infile = open(filename, 'r')\n",
    "    \n",
    "    best = make_student(infile.readline())\n",
    "    \n",
    "    for line in infile:\n",
    "        s = make_student(line)\n",
    "        if s.gpa() > best.gpa():\n",
    "            best = s\n",
    "    infile.close()\n",
    "    \n",
    "    print(\"The best student is \", best.get_name(), \"with GPA\", best.gpa())"
   ]
  },
  {
   "cell_type": "code",
   "execution_count": 31,
   "metadata": {},
   "outputs": [
    {
     "name": "stdout",
     "output_type": "stream",
     "text": [
      "Enter the name of the grade file: student-grades.txt\n",
      "The best student is  Last2, First2 with GPA 4.0\n"
     ]
    }
   ],
   "source": [
    "find_best_student()"
   ]
  },
  {
   "cell_type": "markdown",
   "metadata": {},
   "source": [
    "## Objects and Encapsulation"
   ]
  },
  {
   "cell_type": "markdown",
   "metadata": {},
   "source": [
    "Encapsulation is when you hide the implementation details (of an algorithm, program, etc) inside an object. This is so that the rest of the program does not have to be concerned with how things are done. This is only a convention in Python ... Other programming languages have much stronger enforcement of encapulation. In Python you can access instance variables using the dot notation. All interaction with the object should be done using the methods. An additional benefit of encapsulation is that we can modify the internals of a class, object or method without worrying that it \"breaks\" programs that use it."
   ]
  },
  {
   "cell_type": "markdown",
   "metadata": {},
   "source": [
    "### Documentation"
   ]
  },
  {
   "cell_type": "markdown",
   "metadata": {},
   "source": [
    "Modules can be documented by inserting a plain string literal as the first line of a module, class or function. The documentation is exposed by:"
   ]
  },
  {
   "cell_type": "code",
   "execution_count": 33,
   "metadata": {},
   "outputs": [
    {
     "name": "stdout",
     "output_type": "stream",
     "text": [
      "random() -> x in the interval [0, 1).\n"
     ]
    }
   ],
   "source": [
    "import random\n",
    "print(random.random.__doc__)"
   ]
  },
  {
   "cell_type": "code",
   "execution_count": 34,
   "metadata": {},
   "outputs": [
    {
     "name": "stdout",
     "output_type": "stream",
     "text": [
      "Help on built-in function random:\n",
      "\n",
      "random() method of random.Random instance\n",
      "    random() -> x in the interval [0, 1).\n",
      "\n"
     ]
    }
   ],
   "source": [
    "help(random.random)"
   ]
  },
  {
   "cell_type": "code",
   "execution_count": 35,
   "metadata": {},
   "outputs": [],
   "source": [
    "class Projectile:\n",
    "    \"\"\"Simulates the flight of simple projectiles near the earth's\n",
    "    surface, ignoring wind resistence. Tracking is done in two\n",
    "    dimensions, height (x) and distance (y).\"\"\"\n",
    "    def __init__(self, angle, velocity, height):\n",
    "        \"\"\"Create a projectile with given launch angle, initial velocity and height.\"\"\"\n",
    "        self.xpos = 0.0\n",
    "        self.ypos = height\n",
    "        # Not an instance variable\n",
    "        theta = math.radians(angle)\n",
    "        self.xvel = velocity * math.cos(theta)\n",
    "        self.yvel = velocity * math.sin(theta)\n",
    "        \n",
    "    def get_x(self):\n",
    "        \"\"\"Returns the x position of the projectile.\"\"\"\n",
    "        return self.xpos\n",
    "    \n",
    "    def get_y(self):\n",
    "        return self.ypos\n",
    "    \n",
    "    def update(self, time):\n",
    "        self.xpos = self.xpos + time * self.xvel\n",
    "        yvel1 = self.yvel - time * 9.8\n",
    "        self.ypos = self.ypos + time * (self.yvel + yvel1) / 2.0\n",
    "        self.yvel = yvel1"
   ]
  },
  {
   "cell_type": "code",
   "execution_count": 36,
   "metadata": {},
   "outputs": [
    {
     "name": "stdout",
     "output_type": "stream",
     "text": [
      "Help on class Projectile in module __main__:\n",
      "\n",
      "class Projectile(builtins.object)\n",
      " |  Projectile(angle, velocity, height)\n",
      " |  \n",
      " |  Simulates the flight of simple projectiles near the earth's\n",
      " |  surface, ignoring wind resistence. Tracking is done in two\n",
      " |  dimensions, height (x) and distance (y).\n",
      " |  \n",
      " |  Methods defined here:\n",
      " |  \n",
      " |  __init__(self, angle, velocity, height)\n",
      " |      Create a projectile with given launch angle, initial velocity and height.\n",
      " |  \n",
      " |  get_x(self)\n",
      " |      Returns the x position of the projectile.\n",
      " |  \n",
      " |  get_y(self)\n",
      " |  \n",
      " |  update(self, time)\n",
      " |  \n",
      " |  ----------------------------------------------------------------------\n",
      " |  Data descriptors defined here:\n",
      " |  \n",
      " |  __dict__\n",
      " |      dictionary for instance variables (if defined)\n",
      " |  \n",
      " |  __weakref__\n",
      " |      list of weak references to the object (if defined)\n",
      "\n"
     ]
    }
   ],
   "source": [
    "help(Projectile)"
   ]
  },
  {
   "cell_type": "code",
   "execution_count": 37,
   "metadata": {},
   "outputs": [
    {
     "name": "stdout",
     "output_type": "stream",
     "text": [
      "Simulates the flight of simple projectiles near the earth's\n",
      "    surface, ignoring wind resistence. Tracking is done in two\n",
      "    dimensions, height (x) and distance (y).\n"
     ]
    }
   ],
   "source": [
    "print(Projectile.__doc__)"
   ]
  },
  {
   "cell_type": "markdown",
   "metadata": {},
   "source": [
    "Classes can be placed in external modules and imported."
   ]
  },
  {
   "cell_type": "markdown",
   "metadata": {},
   "source": [
    "## Widgets"
   ]
  },
  {
   "cell_type": "markdown",
   "metadata": {},
   "source": [
    "See widgets.py"
   ]
  },
  {
   "cell_type": "markdown",
   "metadata": {},
   "source": [
    "## Animated Cannonball"
   ]
  },
  {
   "cell_type": "markdown",
   "metadata": {},
   "source": [
    "See animated_cannonball.py"
   ]
  },
  {
   "cell_type": "code",
   "execution_count": null,
   "metadata": {},
   "outputs": [],
   "source": []
  }
 ],
 "metadata": {
  "kernelspec": {
   "display_name": "Python 3",
   "language": "python",
   "name": "python3"
  },
  "language_info": {
   "codemirror_mode": {
    "name": "ipython",
    "version": 3
   },
   "file_extension": ".py",
   "mimetype": "text/x-python",
   "name": "python",
   "nbconvert_exporter": "python",
   "pygments_lexer": "ipython3",
   "version": "3.9.1"
  }
 },
 "nbformat": 4,
 "nbformat_minor": 4
}
