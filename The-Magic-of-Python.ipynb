{
 "cells": [
  {
   "cell_type": "markdown",
   "metadata": {},
   "source": [
    "# CIS 3703 Python Programming - Spring 2021"
   ]
  },
  {
   "cell_type": "code",
   "execution_count": 1,
   "metadata": {},
   "outputs": [],
   "source": [
    "# The following should be included in each Jupyter Notebook. We will discuss this later in the course.\n",
    "# For now, just include these statements.\n",
    "\n",
    "# For more information, see\n",
    "# https://ipython.readthedocs.io/en/stable/config/extensions/autoreload.html\n",
    "\n",
    "%load_ext autoreload\n",
    "%autoreload 2"
   ]
  },
  {
   "cell_type": "markdown",
   "metadata": {},
   "source": [
    "# The Magic of Python"
   ]
  },
  {
   "cell_type": "code",
   "execution_count": 2,
   "metadata": {},
   "outputs": [
    {
     "name": "stdout",
     "output_type": "stream",
     "text": [
      "Hello, CIS 3703!\n"
     ]
    }
   ],
   "source": [
    "# This is a Python comment. It is used to provide information to the developer.\n",
    "# The print function or statement outputs something to the console.\n",
    "print(\"Hello, CIS 3703!\")"
   ]
  },
  {
   "cell_type": "code",
   "execution_count": 3,
   "metadata": {},
   "outputs": [
    {
     "name": "stdout",
     "output_type": "stream",
     "text": [
      "5\n",
      "2 + 3 =  5\n"
     ]
    }
   ],
   "source": [
    "# You can print just about anything\n",
    "print(2 + 3)\n",
    "\n",
    "# You can mix strings and expressions to give a more informational output\n",
    "print(\"2 + 3 = \", 2 + 3)"
   ]
  },
  {
   "cell_type": "markdown",
   "metadata": {},
   "source": [
    "As an aside, Jupyter Notebook supports both code and Markdown. Code is executable and markdown is used for documentation.\n",
    "\n",
    "This is an example of <i><u>markdown</u></i>."
   ]
  },
  {
   "cell_type": "markdown",
   "metadata": {},
   "source": [
    "## Brief intro to functions"
   ]
  },
  {
   "cell_type": "markdown",
   "metadata": {},
   "source": [
    "A function is a sequences of statements collected together that can be executed as a group.\n",
    "A function definition has the following elements\n",
    "<ul>\n",
    "    <li>The keyword <b>def</b> followed by the name of the function, followed by parentheses and then a semi-colon\n",
    "    <li>A sequence of indented statements\n",
    "</ul>"
   ]
  },
  {
   "cell_type": "code",
   "execution_count": 4,
   "metadata": {},
   "outputs": [],
   "source": [
    "# Define the function\n",
    "def hello():\n",
    "    print(\"Hello CIS 3703!\")\n",
    "    print(\"Are you excited about this class?\")"
   ]
  },
  {
   "cell_type": "markdown",
   "metadata": {},
   "source": [
    "Note that defining a function does not do anything (other than define it; nothing is printed, etc.)\n",
    "A function is <b>invoked</b> or <b>called</b> by typing its name followed by parentheses()"
   ]
  },
  {
   "cell_type": "code",
   "execution_count": 5,
   "metadata": {},
   "outputs": [
    {
     "name": "stdout",
     "output_type": "stream",
     "text": [
      "Hello CIS 3703!\n",
      "Are you excited about this class?\n"
     ]
    }
   ],
   "source": [
    "# Call the hello() function defined above.\n",
    "hello()"
   ]
  },
  {
   "cell_type": "markdown",
   "metadata": {},
   "source": [
    "Functions can have <i>parameters</i> or <i>arguments</i> that are placed within the parentheses (separated by commas)."
   ]
  },
  {
   "cell_type": "code",
   "execution_count": 6,
   "metadata": {},
   "outputs": [],
   "source": [
    "# Define a function with a single parameter person. This will be used to print out a more informative greeting.\n",
    "def greet(person):\n",
    "    # In this statement, the value of the argument (presumably a person's name) will be included in the greeting\n",
    "    print(\"Hello \", person, \"!\")\n",
    "    print(\"Are you ready to learn about programming and Python?\")"
   ]
  },
  {
   "cell_type": "code",
   "execution_count": 7,
   "metadata": {},
   "outputs": [
    {
     "name": "stdout",
     "output_type": "stream",
     "text": [
      "Hello  Prof. Darr !\n",
      "Are you ready to learn about programming and Python?\n"
     ]
    }
   ],
   "source": [
    "# Execute the function with a string constant as the argument\n",
    "greet(\"Prof. Darr\")"
   ]
  },
  {
   "cell_type": "code",
   "execution_count": 8,
   "metadata": {},
   "outputs": [
    {
     "name": "stdout",
     "output_type": "stream",
     "text": [
      "Hello  Avery !\n",
      "Are you ready to learn about programming and Python?\n"
     ]
    }
   ],
   "source": [
    "greet(\"Avery\")"
   ]
  },
  {
   "cell_type": "code",
   "execution_count": 9,
   "metadata": {},
   "outputs": [
    {
     "name": "stdout",
     "output_type": "stream",
     "text": [
      "Hello  Prof. Darr !\n",
      "Are you ready to learn about programming and Python?\n"
     ]
    }
   ],
   "source": [
    "# We can also declare a variable that stores the name of the person\n",
    "classProf = \"Prof. Darr\"\n",
    "greet(classProf)"
   ]
  },
  {
   "cell_type": "markdown",
   "metadata": {},
   "source": [
    "Every function invokation must have parentheses and arguments (if needed).\n",
    "Typing just the name of the function will provide some information about the function."
   ]
  },
  {
   "cell_type": "code",
   "execution_count": 10,
   "metadata": {},
   "outputs": [
    {
     "data": {
      "text/plain": [
       "<function __main__.greet(person)>"
      ]
     },
     "execution_count": 10,
     "metadata": {},
     "output_type": "execute_result"
    }
   ],
   "source": [
    "greet"
   ]
  },
  {
   "cell_type": "markdown",
   "metadata": {},
   "source": [
    "### Program Organization"
   ]
  },
  {
   "cell_type": "markdown",
   "metadata": {},
   "source": [
    "Programs are usually contained within an external or separate file called a module or script. This file is saved separately. For the remainder of this lecture, we refer to the file chaos.py, which is stored in the same directory as this workbook. The extension .py indicates that it is a Python program file.\n",
    "\n",
    "To use an externally defined module in a Notebook, it has to be <i>imported</i> into Notebook."
   ]
  },
  {
   "cell_type": "code",
   "execution_count": 1,
   "metadata": {},
   "outputs": [
    {
     "name": "stdout",
     "output_type": "stream",
     "text": [
      "Enter a number between 0 and 1: .99\n"
     ]
    },
    {
     "data": {
      "text/plain": [
       "'.99'"
      ]
     },
     "execution_count": 1,
     "metadata": {},
     "output_type": "execute_result"
    }
   ],
   "source": [
    "input(\"Enter a number between 0 and 1: \")"
   ]
  },
  {
   "cell_type": "code",
   "execution_count": 2,
   "metadata": {},
   "outputs": [
    {
     "name": "stdout",
     "output_type": "stream",
     "text": [
      "Enter a number between 0 and 1: .99\n"
     ]
    },
    {
     "data": {
      "text/plain": [
       "0.99"
      ]
     },
     "execution_count": 2,
     "metadata": {},
     "output_type": "execute_result"
    }
   ],
   "source": [
    "eval(input(\"Enter a number between 0 and 1: \"))"
   ]
  },
  {
   "cell_type": "code",
   "execution_count": 14,
   "metadata": {},
   "outputs": [
    {
     "name": "stdout",
     "output_type": "stream",
     "text": [
      "Enter a number between 0 and 1: 0.33\n"
     ]
    }
   ],
   "source": [
    "x = eval(input(\"Enter a number between 0 and 1: \"))"
   ]
  },
  {
   "cell_type": "code",
   "execution_count": 15,
   "metadata": {},
   "outputs": [
    {
     "data": {
      "text/plain": [
       "0.33"
      ]
     },
     "execution_count": 15,
     "metadata": {},
     "output_type": "execute_result"
    }
   ],
   "source": [
    "x"
   ]
  },
  {
   "cell_type": "code",
   "execution_count": 16,
   "metadata": {},
   "outputs": [
    {
     "name": "stdout",
     "output_type": "stream",
     "text": [
      "0.33\n"
     ]
    }
   ],
   "source": [
    "print(x)"
   ]
  },
  {
   "cell_type": "code",
   "execution_count": 18,
   "metadata": {},
   "outputs": [],
   "source": [
    "#eval(input(\"enter a number: \"))"
   ]
  },
  {
   "cell_type": "code",
   "execution_count": 3,
   "metadata": {},
   "outputs": [
    {
     "data": {
      "text/plain": [
       "range(0, 10)"
      ]
     },
     "execution_count": 3,
     "metadata": {},
     "output_type": "execute_result"
    }
   ],
   "source": [
    "range(10)"
   ]
  },
  {
   "cell_type": "code",
   "execution_count": 4,
   "metadata": {},
   "outputs": [
    {
     "data": {
      "text/plain": [
       "[0, 1, 2, 3, 4, 5, 6, 7, 8, 9]"
      ]
     },
     "execution_count": 4,
     "metadata": {},
     "output_type": "execute_result"
    }
   ],
   "source": [
    "list(range(10))"
   ]
  },
  {
   "cell_type": "code",
   "execution_count": 5,
   "metadata": {},
   "outputs": [
    {
     "data": {
      "text/plain": [
       "[3, 4, 5, 6]"
      ]
     },
     "execution_count": 5,
     "metadata": {},
     "output_type": "execute_result"
    }
   ],
   "source": [
    "list(range(3, 7))"
   ]
  },
  {
   "cell_type": "code",
   "execution_count": 6,
   "metadata": {},
   "outputs": [
    {
     "data": {
      "text/plain": [
       "[2, 4, 6, 8, 10]"
      ]
     },
     "execution_count": 6,
     "metadata": {},
     "output_type": "execute_result"
    }
   ],
   "source": [
    "list(range(2, 11, 2))"
   ]
  },
  {
   "cell_type": "code",
   "execution_count": 20,
   "metadata": {},
   "outputs": [
    {
     "name": "stdout",
     "output_type": "stream",
     "text": [
      "0\n",
      "1\n",
      "2\n",
      "3\n",
      "4\n",
      "5\n",
      "6\n",
      "7\n",
      "8\n",
      "9\n"
     ]
    }
   ],
   "source": [
    "for i in range(10):\n",
    "    print(i)"
   ]
  },
  {
   "cell_type": "code",
   "execution_count": 21,
   "metadata": {},
   "outputs": [],
   "source": [
    "def make_chaos():\n",
    "    print(\"This is the chaos program\")\n",
    "    x = eval(input(\"Enter a number between 0 and 1: \"))\n",
    "    for i in range(10):\n",
    "        x = 3.9 * x * (1 - x)\n",
    "        print(x)"
   ]
  },
  {
   "cell_type": "code",
   "execution_count": 22,
   "metadata": {},
   "outputs": [
    {
     "name": "stdout",
     "output_type": "stream",
     "text": [
      "This is the chaos program\n",
      "Enter a number between 0 and 1: 0.33\n",
      "0.8622899999999999\n",
      "0.4631092280100003\n",
      "0.9696923766737292\n",
      "0.11461737804887635\n",
      "0.3957729153225015\n",
      "0.9326331877965552\n",
      "0.2450312467862632\n",
      "0.721464646050067\n",
      "0.7837183011446822\n",
      "0.661065309822744\n"
     ]
    }
   ],
   "source": [
    "make_chaos()"
   ]
  },
  {
   "cell_type": "code",
   "execution_count": 23,
   "metadata": {},
   "outputs": [
    {
     "name": "stdout",
     "output_type": "stream",
     "text": [
      "This is the chaos program\n",
      "Enter a number between 0 and 1: 0.4\n",
      "0.9359999999999999\n",
      "0.2336256000000002\n",
      "0.6982742481960964\n",
      "0.8216805577588637\n",
      "0.5714343131637907\n",
      "0.9550988417209882\n",
      "0.16725167263043805\n",
      "0.5431863474677594\n",
      "0.9677262636303364\n",
      "0.12180535501057962\n"
     ]
    }
   ],
   "source": [
    "make_chaos()"
   ]
  },
  {
   "cell_type": "code",
   "execution_count": null,
   "metadata": {},
   "outputs": [],
   "source": [
    "# Import the module named \"chaos\" and refer to it using the shorthand notation \"c\"\n",
    "import chaos as c"
   ]
  },
  {
   "cell_type": "code",
   "execution_count": null,
   "metadata": {},
   "outputs": [],
   "source": [
    "c.make_chaos()"
   ]
  },
  {
   "cell_type": "code",
   "execution_count": null,
   "metadata": {},
   "outputs": [],
   "source": []
  }
 ],
 "metadata": {
  "kernelspec": {
   "display_name": "Python 3",
   "language": "python",
   "name": "python3"
  },
  "language_info": {
   "codemirror_mode": {
    "name": "ipython",
    "version": 3
   },
   "file_extension": ".py",
   "mimetype": "text/x-python",
   "name": "python",
   "nbconvert_exporter": "python",
   "pygments_lexer": "ipython3",
   "version": "3.9.1"
  }
 },
 "nbformat": 4,
 "nbformat_minor": 4
}
