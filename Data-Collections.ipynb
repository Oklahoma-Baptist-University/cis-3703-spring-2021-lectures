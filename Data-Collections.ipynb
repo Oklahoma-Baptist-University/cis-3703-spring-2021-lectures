{
 "cells": [
  {
   "cell_type": "markdown",
   "metadata": {},
   "source": [
    "# CIS 3703 Python Programming - Spring 2021"
   ]
  },
  {
   "cell_type": "code",
   "execution_count": 1,
   "metadata": {},
   "outputs": [],
   "source": [
    "# The following should be included in each Jupyter Notebook. We will discuss this later in the course.\n",
    "# For now, just include these statements.\n",
    "\n",
    "# For more information, see\n",
    "# https://ipython.readthedocs.io/en/stable/config/extensions/autoreload.html\n",
    "\n",
    "%load_ext autoreload\n",
    "%autoreload 2"
   ]
  },
  {
   "cell_type": "code",
   "execution_count": 2,
   "metadata": {},
   "outputs": [],
   "source": [
    "from data_collections import *\n",
    "from random import randrange"
   ]
  },
  {
   "cell_type": "markdown",
   "metadata": {},
   "source": [
    "## Simple statistics"
   ]
  },
  {
   "cell_type": "markdown",
   "metadata": {},
   "source": [
    "Many problems deal with large colelctionsof similar information.<ul><li>Words in a document<li>Students in a course<li>Data from an experiment<li>Customers of a business<li>Graphics objects drawn on a screen<li>Cards in a deck</ul>"
   ]
  },
  {
   "cell_type": "markdown",
   "metadata": {},
   "source": [
    "## Applying Lists"
   ]
  },
  {
   "cell_type": "markdown",
   "metadata": {},
   "source": [
    "Lists (aka arrays) are a way to combine entire collections of values into one object. <p>Python lists are ordered sequences of items.\n",
    "    $$\n",
    "    S=S_{0}, S_{1}, ..., S_{n-1}\n",
    "    $$\n",
    "<p>Specific items are denoted using subscripts. The sum of a list can be given by\n",
    "    $$\n",
    "    \\Sigma_{i=0, n}S_{i}\n",
    "    $$\n",
    "<p>Python can represent the entire sequence as a variable and access individual elements using subscripts.<p>Python lists can grow or shrink on demand and you can include items of different types in the list. Python lists are also mutable."
   ]
  },
  {
   "cell_type": "code",
   "execution_count": 2,
   "metadata": {},
   "outputs": [
    {
     "data": {
      "text/plain": [
       "[1, 2, 3, 11, 'ITEM', 34]"
      ]
     },
     "execution_count": 2,
     "metadata": {},
     "output_type": "execute_result"
    }
   ],
   "source": [
    "L1 = [1, 2, 3, 11, \"ITEM\", 34]\n",
    "L1"
   ]
  },
  {
   "cell_type": "code",
   "execution_count": 3,
   "metadata": {},
   "outputs": [],
   "source": [
    "L2 = [4, 5, 6]"
   ]
  },
  {
   "cell_type": "code",
   "execution_count": 4,
   "metadata": {},
   "outputs": [
    {
     "name": "stdout",
     "output_type": "stream",
     "text": [
      "Concatenation [1, 2, 3, 11, 'ITEM', 34, 4, 5, 6]\n"
     ]
    }
   ],
   "source": [
    "print(\"Concatenation\", L1 + L2)"
   ]
  },
  {
   "cell_type": "code",
   "execution_count": 5,
   "metadata": {},
   "outputs": [
    {
     "name": "stdout",
     "output_type": "stream",
     "text": [
      "Repetition [1, 2, 3, 11, 'ITEM', 34, 1, 2, 3, 11, 'ITEM', 34, 1, 2, 3, 11, 'ITEM', 34]\n"
     ]
    }
   ],
   "source": [
    "print(\"Repetition\", L1 * 3)"
   ]
  },
  {
   "cell_type": "code",
   "execution_count": 6,
   "metadata": {},
   "outputs": [
    {
     "data": {
      "text/plain": [
       "[1, 2, 3, 11, 'ITEM', 34]"
      ]
     },
     "execution_count": 6,
     "metadata": {},
     "output_type": "execute_result"
    }
   ],
   "source": [
    "L1"
   ]
  },
  {
   "cell_type": "code",
   "execution_count": 7,
   "metadata": {},
   "outputs": [
    {
     "name": "stdout",
     "output_type": "stream",
     "text": [
      "Indexing 2\n"
     ]
    }
   ],
   "source": [
    "print(\"Indexing\", L1[1])"
   ]
  },
  {
   "cell_type": "code",
   "execution_count": 8,
   "metadata": {},
   "outputs": [
    {
     "name": "stdout",
     "output_type": "stream",
     "text": [
      "Length 6\n"
     ]
    }
   ],
   "source": [
    "print(\"Length\", len(L1))"
   ]
  },
  {
   "cell_type": "code",
   "execution_count": 9,
   "metadata": {},
   "outputs": [
    {
     "name": "stdout",
     "output_type": "stream",
     "text": [
      "Slicing [11, 'ITEM', 34]\n"
     ]
    }
   ],
   "source": [
    "print(\"Slicing\", L1[3:6])"
   ]
  },
  {
   "cell_type": "code",
   "execution_count": 10,
   "metadata": {},
   "outputs": [
    {
     "name": "stdout",
     "output_type": "stream",
     "text": [
      "List item 1\n",
      "List item 2\n",
      "List item 3\n",
      "List item 11\n",
      "List item ITEM\n",
      "List item 34\n"
     ]
    }
   ],
   "source": [
    "# Iteration\n",
    "for item in L1:\n",
    "    print(\"List item\", item)"
   ]
  },
  {
   "cell_type": "code",
   "execution_count": 11,
   "metadata": {},
   "outputs": [
    {
     "name": "stdout",
     "output_type": "stream",
     "text": [
      "List item 1\n",
      "List item 2\n",
      "List item 3\n",
      "List item 11\n",
      "List item ITEM\n",
      "List item 34\n"
     ]
    }
   ],
   "source": [
    "for i in range(0, len(L1)):\n",
    "    print(\"List item\", L1[i])"
   ]
  },
  {
   "cell_type": "code",
   "execution_count": 12,
   "metadata": {},
   "outputs": [
    {
     "data": {
      "text/plain": [
       "[1, 2, 3, 11, 'ITEM', 34]"
      ]
     },
     "execution_count": 12,
     "metadata": {},
     "output_type": "execute_result"
    }
   ],
   "source": [
    "L1"
   ]
  },
  {
   "cell_type": "code",
   "execution_count": 13,
   "metadata": {},
   "outputs": [
    {
     "data": {
      "text/plain": [
       "False"
      ]
     },
     "execution_count": 13,
     "metadata": {},
     "output_type": "execute_result"
    }
   ],
   "source": [
    "# Membership check\n",
    "4 in L1"
   ]
  },
  {
   "cell_type": "code",
   "execution_count": 14,
   "metadata": {},
   "outputs": [
    {
     "data": {
      "text/plain": [
       "True"
      ]
     },
     "execution_count": 14,
     "metadata": {},
     "output_type": "execute_result"
    }
   ],
   "source": [
    "11 in L1"
   ]
  },
  {
   "cell_type": "code",
   "execution_count": 15,
   "metadata": {},
   "outputs": [
    {
     "data": {
      "text/plain": [
       "True"
      ]
     },
     "execution_count": 15,
     "metadata": {},
     "output_type": "execute_result"
    }
   ],
   "source": [
    "4 + 7 in L1"
   ]
  },
  {
   "cell_type": "code",
   "execution_count": 17,
   "metadata": {},
   "outputs": [],
   "source": [
    "L1 = [1, 2, 3, 11, 13, 34]"
   ]
  },
  {
   "cell_type": "code",
   "execution_count": 18,
   "metadata": {},
   "outputs": [
    {
     "name": "stdout",
     "output_type": "stream",
     "text": [
      "Total 64\n"
     ]
    }
   ],
   "source": [
    "# ACCUMULATOR PATTERN - SUMMATION\n",
    "total = 0\n",
    "for item in L1:\n",
    "    total = total + item\n",
    "print(\"Total\", total)"
   ]
  },
  {
   "cell_type": "code",
   "execution_count": 19,
   "metadata": {},
   "outputs": [
    {
     "data": {
      "text/plain": [
       "[1, 2, 3, 11, 13, 34]"
      ]
     },
     "execution_count": 19,
     "metadata": {},
     "output_type": "execute_result"
    }
   ],
   "source": [
    "L1"
   ]
  },
  {
   "cell_type": "code",
   "execution_count": 20,
   "metadata": {},
   "outputs": [
    {
     "data": {
      "text/plain": [
       "[1, 2, 0, 0, 13, 34]"
      ]
     },
     "execution_count": 20,
     "metadata": {},
     "output_type": "execute_result"
    }
   ],
   "source": [
    "L1[2:4] = [0, 0]\n",
    "L1"
   ]
  },
  {
   "cell_type": "code",
   "execution_count": 21,
   "metadata": {},
   "outputs": [
    {
     "data": {
      "text/plain": [
       "[1, 2, 0, 7, 13, 34]"
      ]
     },
     "execution_count": 21,
     "metadata": {},
     "output_type": "execute_result"
    }
   ],
   "source": [
    "# Mutability\n",
    "L1[3] = 7\n",
    "L1"
   ]
  },
  {
   "cell_type": "code",
   "execution_count": 22,
   "metadata": {},
   "outputs": [
    {
     "data": {
      "text/plain": [
       "[]"
      ]
     },
     "execution_count": 22,
     "metadata": {},
     "output_type": "execute_result"
    }
   ],
   "source": [
    "empty_list = []\n",
    "empty_list"
   ]
  },
  {
   "cell_type": "code",
   "execution_count": 24,
   "metadata": {
    "scrolled": true
   },
   "outputs": [
    {
     "data": {
      "text/plain": [
       "[56,\n",
       " 56,\n",
       " 56,\n",
       " 56,\n",
       " 56,\n",
       " 56,\n",
       " 56,\n",
       " 56,\n",
       " 56,\n",
       " 56,\n",
       " 56,\n",
       " 56,\n",
       " 56,\n",
       " 56,\n",
       " 56,\n",
       " 56,\n",
       " 56,\n",
       " 56,\n",
       " 56,\n",
       " 56,\n",
       " 56,\n",
       " 56,\n",
       " 56,\n",
       " 56,\n",
       " 56,\n",
       " 56,\n",
       " 56,\n",
       " 56,\n",
       " 56,\n",
       " 56,\n",
       " 56,\n",
       " 56,\n",
       " 56,\n",
       " 56,\n",
       " 56,\n",
       " 56,\n",
       " 56,\n",
       " 56,\n",
       " 56,\n",
       " 56,\n",
       " 56,\n",
       " 56,\n",
       " 56,\n",
       " 56,\n",
       " 56,\n",
       " 56,\n",
       " 56,\n",
       " 56,\n",
       " 56,\n",
       " 56]"
      ]
     },
     "execution_count": 24,
     "metadata": {},
     "output_type": "execute_result"
    }
   ],
   "source": [
    "list_of_50_zeros = [56] * 50\n",
    "list_of_50_zeros"
   ]
  },
  {
   "cell_type": "code",
   "execution_count": 34,
   "metadata": {},
   "outputs": [
    {
     "name": "stdout",
     "output_type": "stream",
     "text": [
      "Adding 31 to the end of the list\n",
      "Adding 84 to the end of the list\n",
      "Adding 66 to the end of the list\n",
      "Adding 81 to the end of the list\n",
      "Adding 0 to the end of the list\n",
      "Adding 42 to the end of the list\n",
      "Adding 45 to the end of the list\n",
      "Adding 77 to the end of the list\n",
      "Adding 14 to the end of the list\n",
      "Adding 25 to the end of the list\n",
      "Adding 22 to the end of the list\n"
     ]
    }
   ],
   "source": [
    "# List methods\n",
    "from random import randrange\n",
    "list_of_random_numbers = []\n",
    "for i in range(0, 11):\n",
    "    new_value = randrange(100)\n",
    "    print(\"Adding {0} to the end of the list\".format(new_value))\n",
    "    list_of_random_numbers.append(new_value)"
   ]
  },
  {
   "cell_type": "code",
   "execution_count": 35,
   "metadata": {},
   "outputs": [
    {
     "data": {
      "text/plain": [
       "[31, 84, 66, 81, 0, 42, 45, 77, 14, 25, 22]"
      ]
     },
     "execution_count": 35,
     "metadata": {},
     "output_type": "execute_result"
    }
   ],
   "source": [
    "list_of_random_numbers"
   ]
  },
  {
   "cell_type": "code",
   "execution_count": 36,
   "metadata": {},
   "outputs": [
    {
     "data": {
      "text/plain": [
       "[0, 14, 22, 25, 31, 42, 45, 66, 77, 81, 84]"
      ]
     },
     "execution_count": 36,
     "metadata": {},
     "output_type": "execute_result"
    }
   ],
   "source": [
    "list_of_random_numbers.sort()\n",
    "list_of_random_numbers"
   ]
  },
  {
   "cell_type": "code",
   "execution_count": 37,
   "metadata": {},
   "outputs": [
    {
     "data": {
      "text/plain": [
       "[84, 81, 77, 66, 45, 42, 31, 25, 22, 14, 0]"
      ]
     },
     "execution_count": 37,
     "metadata": {},
     "output_type": "execute_result"
    }
   ],
   "source": [
    "list_of_random_numbers.reverse()\n",
    "list_of_random_numbers"
   ]
  },
  {
   "cell_type": "code",
   "execution_count": 38,
   "metadata": {},
   "outputs": [
    {
     "name": "stdout",
     "output_type": "stream",
     "text": [
      "Index of 45 is 4\n"
     ]
    }
   ],
   "source": [
    "print(\"Index of 45 is\", list_of_random_numbers.index(45))"
   ]
  },
  {
   "cell_type": "code",
   "execution_count": 39,
   "metadata": {},
   "outputs": [
    {
     "data": {
      "text/plain": [
       "[84, 81, 77, 66, 101, 45, 42, 31, 25, 22, 14, 0]"
      ]
     },
     "execution_count": 39,
     "metadata": {},
     "output_type": "execute_result"
    }
   ],
   "source": [
    "list_of_random_numbers.insert(4, 101)\n",
    "list_of_random_numbers"
   ]
  },
  {
   "cell_type": "code",
   "execution_count": 40,
   "metadata": {},
   "outputs": [
    {
     "name": "stdout",
     "output_type": "stream",
     "text": [
      "How many 101s 1\n"
     ]
    }
   ],
   "source": [
    "print(\"How many 101s\", list_of_random_numbers.count(101))"
   ]
  },
  {
   "cell_type": "code",
   "execution_count": 41,
   "metadata": {},
   "outputs": [
    {
     "name": "stdout",
     "output_type": "stream",
     "text": [
      "Remove the 101s [84, 81, 77, 66, 45, 42, 31, 25, 22, 14, 0]\n"
     ]
    }
   ],
   "source": [
    "list_of_random_numbers.remove(101)\n",
    "print(\"Remove the 101s\", list_of_random_numbers)"
   ]
  },
  {
   "cell_type": "code",
   "execution_count": 42,
   "metadata": {},
   "outputs": [
    {
     "name": "stdout",
     "output_type": "stream",
     "text": [
      "Pop element from list 77\n"
     ]
    }
   ],
   "source": [
    "print(\"Pop element from list\", list_of_random_numbers.pop(2))"
   ]
  },
  {
   "cell_type": "code",
   "execution_count": 43,
   "metadata": {},
   "outputs": [
    {
     "data": {
      "text/plain": [
       "[84, 81, 66, 45, 42, 31, 25, 22, 14, 0]"
      ]
     },
     "execution_count": 43,
     "metadata": {},
     "output_type": "execute_result"
    }
   ],
   "source": [
    "list_of_random_numbers"
   ]
  },
  {
   "cell_type": "code",
   "execution_count": 44,
   "metadata": {},
   "outputs": [],
   "source": [
    "# Deletion of items or slices\n",
    "del list_of_random_numbers[0]"
   ]
  },
  {
   "cell_type": "code",
   "execution_count": 45,
   "metadata": {},
   "outputs": [
    {
     "data": {
      "text/plain": [
       "[81, 66, 45, 42, 31, 25, 22, 14, 0]"
      ]
     },
     "execution_count": 45,
     "metadata": {},
     "output_type": "execute_result"
    }
   ],
   "source": [
    "list_of_random_numbers"
   ]
  },
  {
   "cell_type": "code",
   "execution_count": 46,
   "metadata": {},
   "outputs": [],
   "source": [
    "del list_of_random_numbers[3:6]"
   ]
  },
  {
   "cell_type": "code",
   "execution_count": 47,
   "metadata": {},
   "outputs": [
    {
     "data": {
      "text/plain": [
       "[81, 66, 45, 22, 14, 0]"
      ]
     },
     "execution_count": 47,
     "metadata": {},
     "output_type": "execute_result"
    }
   ],
   "source": [
    "list_of_random_numbers"
   ]
  },
  {
   "cell_type": "markdown",
   "metadata": {},
   "source": [
    "## Statistics with Lists"
   ]
  },
  {
   "cell_type": "code",
   "execution_count": 48,
   "metadata": {},
   "outputs": [],
   "source": [
    "import math"
   ]
  },
  {
   "cell_type": "code",
   "execution_count": 49,
   "metadata": {},
   "outputs": [],
   "source": [
    "list_of_random_numbers = []\n",
    "for i in range(0, 101):\n",
    "    list_of_random_numbers.append(randrange(100))"
   ]
  },
  {
   "cell_type": "code",
   "execution_count": 50,
   "metadata": {},
   "outputs": [],
   "source": [
    "def mean(the_list):\n",
    "    total = 0\n",
    "    for num in the_list:\n",
    "        total = total + num\n",
    "    return (total / len(the_list))"
   ]
  },
  {
   "cell_type": "code",
   "execution_count": 51,
   "metadata": {},
   "outputs": [
    {
     "name": "stdout",
     "output_type": "stream",
     "text": [
      "The average is 46.06\n"
     ]
    }
   ],
   "source": [
    "print(\"The average is {0:0.2f}\".format(mean(list_of_random_numbers)))"
   ]
  },
  {
   "cell_type": "code",
   "execution_count": 52,
   "metadata": {},
   "outputs": [],
   "source": [
    "def std_dev(the_list, avg):\n",
    "    total = 0\n",
    "    for num in the_list:\n",
    "        dev = avg - num\n",
    "        total = total + dev * dev\n",
    "    return math.sqrt(total/len(the_list) - 1)"
   ]
  },
  {
   "cell_type": "code",
   "execution_count": 53,
   "metadata": {},
   "outputs": [
    {
     "name": "stdout",
     "output_type": "stream",
     "text": [
      "The std dev is 30.82\n"
     ]
    }
   ],
   "source": [
    "print(\"The std dev is {0:0.2f}\".format(std_dev(list_of_random_numbers, mean(list_of_random_numbers))))"
   ]
  },
  {
   "cell_type": "code",
   "execution_count": 54,
   "metadata": {},
   "outputs": [],
   "source": [
    "def median(the_list):\n",
    "    the_list.sort()\n",
    "    size = len(the_list)\n",
    "    mid = size // 2\n",
    "    if ((size % 2) == 0):\n",
    "        med = (the_list[mid] + the_list[mid -1]) / 2\n",
    "    else:\n",
    "        med = the_list[mid]\n",
    "    return med"
   ]
  },
  {
   "cell_type": "code",
   "execution_count": 55,
   "metadata": {},
   "outputs": [
    {
     "name": "stdout",
     "output_type": "stream",
     "text": [
      "The median is 45.00\n"
     ]
    }
   ],
   "source": [
    "print(\"The median is {0:0.2f}\".format(median(list_of_random_numbers)))"
   ]
  },
  {
   "cell_type": "markdown",
   "metadata": {},
   "source": [
    "## Lists of Records"
   ]
  },
  {
   "cell_type": "code",
   "execution_count": 56,
   "metadata": {},
   "outputs": [],
   "source": [
    "from student import *"
   ]
  },
  {
   "cell_type": "code",
   "execution_count": 57,
   "metadata": {},
   "outputs": [],
   "source": [
    "def process_student_data():\n",
    "    infile = open(\"student.dat\", \"r\")\n",
    "    student_list = []\n",
    "    for line in infile:\n",
    "        name, hours, grade = line.split()\n",
    "        student_list.append(Student(name, float(hours), float(grade)))\n",
    "    infile.close()\n",
    "    return student_list"
   ]
  },
  {
   "cell_type": "code",
   "execution_count": 58,
   "metadata": {},
   "outputs": [],
   "source": [
    "def save_student_data(student_list, file):\n",
    "    outfile = open(file, \"w\")\n",
    "    for student in student_list:\n",
    "        print(\"\\nStudent name: {0}\\nGrade Points: {1}\\nHours: {2}\\nGPA: {3:0.2f}\".format(student.get_name(), \n",
    "                                                                             student.get_grade_points(),\n",
    "                                                                             student.get_hours(),\n",
    "                                                                             student.gpa()), \n",
    "              file=outfile)\n",
    "    outfile.close()"
   ]
  },
  {
   "cell_type": "code",
   "execution_count": 59,
   "metadata": {},
   "outputs": [],
   "source": [
    "save_student_data(process_student_data(), \"student.txt\")"
   ]
  },
  {
   "cell_type": "markdown",
   "metadata": {},
   "source": [
    "To sort, the list, we need to provide the key for sorting. This key must be a function that takes an item from the list as a parameter and returns the key item."
   ]
  },
  {
   "cell_type": "code",
   "execution_count": null,
   "metadata": {},
   "outputs": [],
   "source": [
    "student_data = process_student_data()\n",
    "# This function is not invoked here, but is used by the sort method to\n",
    "# make comparisons\n",
    "student_data.sort(key=Student.gpa)\n",
    "save_student_data(student_data, \"sorted-student.txt\")"
   ]
  },
  {
   "cell_type": "code",
   "execution_count": 1,
   "metadata": {},
   "outputs": [
    {
     "data": {
      "text/plain": [
       "[1, 2, 3]"
      ]
     },
     "execution_count": 1,
     "metadata": {},
     "output_type": "execute_result"
    }
   ],
   "source": [
    "L1 = [1, 2, 3]\n",
    "L1"
   ]
  },
  {
   "cell_type": "code",
   "execution_count": 2,
   "metadata": {},
   "outputs": [
    {
     "name": "stdout",
     "output_type": "stream",
     "text": [
      "2\n"
     ]
    }
   ],
   "source": [
    "print(L1[1])"
   ]
  },
  {
   "cell_type": "markdown",
   "metadata": {},
   "source": [
    "## Non-Sequential Collections"
   ]
  },
  {
   "cell_type": "markdown",
   "metadata": {},
   "source": [
    "A dictionary (also called a hashtable, map or associative arrays in some languages) is a collection in which the values are looked up by a key (as opposed to an index). This is called a key-value pair.<p>Mappings are unordered."
   ]
  },
  {
   "cell_type": "code",
   "execution_count": 3,
   "metadata": {},
   "outputs": [],
   "source": [
    "passwd = {\"User001\":\"password1\", \"User002\":\"password2\"}"
   ]
  },
  {
   "cell_type": "code",
   "execution_count": 4,
   "metadata": {},
   "outputs": [
    {
     "name": "stdout",
     "output_type": "stream",
     "text": [
      "The password for user User001 is password1\n"
     ]
    }
   ],
   "source": [
    "# Lookup the value (password) associated with a particular key (user)\n",
    "print(\"The password for user {0} is {1}\".format(\"User001\", passwd[\"User001\"]))"
   ]
  },
  {
   "cell_type": "code",
   "execution_count": 5,
   "metadata": {},
   "outputs": [
    {
     "name": "stdout",
     "output_type": "stream",
     "text": [
      "The password for user User001 is betterpassword\n"
     ]
    }
   ],
   "source": [
    "# Dictionaries are mutable (the value of a key can be changed using assignment)\n",
    "passwd[\"User001\"] = \"betterpassword\"\n",
    "print(\"The password for user {0} is {1}\".format(\"User001\", passwd[\"User001\"]))"
   ]
  },
  {
   "cell_type": "code",
   "execution_count": 6,
   "metadata": {},
   "outputs": [
    {
     "data": {
      "text/plain": [
       "{'User001': 'betterpassword', 'User002': 'password2'}"
      ]
     },
     "execution_count": 6,
     "metadata": {},
     "output_type": "execute_result"
    }
   ],
   "source": [
    "passwd"
   ]
  },
  {
   "cell_type": "code",
   "execution_count": 7,
   "metadata": {},
   "outputs": [],
   "source": [
    "# Dictionaries are built by adding entries one at a time\n",
    "def read_passwords(file_name):\n",
    "    passwordfile = open(file_name, \"r\")\n",
    "    passwd = {}\n",
    "    for line in passwordfile:\n",
    "        user, password = line.split()\n",
    "        passwd[user] = password\n",
    "    return passwd\n",
    "passwords = read_passwords(\"passwords.dat\")"
   ]
  },
  {
   "cell_type": "code",
   "execution_count": 8,
   "metadata": {},
   "outputs": [
    {
     "data": {
      "text/plain": [
       "dict_keys(['u1', 'u2', 'u3'])"
      ]
     },
     "execution_count": 8,
     "metadata": {},
     "output_type": "execute_result"
    }
   ],
   "source": [
    "# Return a sequence of keys\n",
    "passwords.keys()"
   ]
  },
  {
   "cell_type": "code",
   "execution_count": 9,
   "metadata": {},
   "outputs": [
    {
     "name": "stdout",
     "output_type": "stream",
     "text": [
      "Key u1 has value p1.\n",
      "Key u2 has value p2.\n",
      "Key u3 has value p3.\n"
     ]
    }
   ],
   "source": [
    "# Loop over the keys\n",
    "for key in passwords:\n",
    "    print(\"Key {0} has value {1}.\".format(key, passwords[key]))"
   ]
  },
  {
   "cell_type": "code",
   "execution_count": 10,
   "metadata": {},
   "outputs": [
    {
     "data": {
      "text/plain": [
       "dict_values(['p1', 'p2', 'p3'])"
      ]
     },
     "execution_count": 10,
     "metadata": {},
     "output_type": "execute_result"
    }
   ],
   "source": [
    "# Return the values\n",
    "passwords.values()"
   ]
  },
  {
   "cell_type": "code",
   "execution_count": 11,
   "metadata": {},
   "outputs": [
    {
     "data": {
      "text/plain": [
       "dict_items([('u1', 'p1'), ('u2', 'p2'), ('u3', 'p3')])"
      ]
     },
     "execution_count": 11,
     "metadata": {},
     "output_type": "execute_result"
    }
   ],
   "source": [
    "# Return a sequence of tuples\n",
    "passwords.items()"
   ]
  },
  {
   "cell_type": "code",
   "execution_count": null,
   "metadata": {},
   "outputs": [],
   "source": [
    "# If a dictionaty has a key, return its value; otherwise return the default\n",
    "passwords.get(\"u1\", \"No user\")"
   ]
  },
  {
   "cell_type": "code",
   "execution_count": null,
   "metadata": {},
   "outputs": [],
   "source": [
    "passwords.get(\"u10\", \"No user\")"
   ]
  },
  {
   "cell_type": "code",
   "execution_count": null,
   "metadata": {},
   "outputs": [],
   "source": [
    "# Return true if the dictionary has a key, false otherwise\n",
    "print(\"has key {0}? {1}\".format(\"u1\", \"u1\" in passwords))"
   ]
  },
  {
   "cell_type": "code",
   "execution_count": null,
   "metadata": {},
   "outputs": [],
   "source": [
    "print(\"has key {0}? {1}\".format(\"u10\", \"u10\" in passwords))"
   ]
  },
  {
   "cell_type": "code",
   "execution_count": null,
   "metadata": {},
   "outputs": [],
   "source": [
    "# Delete an entry\n",
    "del passwords[\"u1\"]"
   ]
  },
  {
   "cell_type": "code",
   "execution_count": null,
   "metadata": {},
   "outputs": [],
   "source": [
    "passwords"
   ]
  },
  {
   "cell_type": "code",
   "execution_count": null,
   "metadata": {},
   "outputs": [],
   "source": [
    "# Delete all entries\n",
    "passwords.clear()"
   ]
  },
  {
   "cell_type": "code",
   "execution_count": null,
   "metadata": {},
   "outputs": [],
   "source": [
    "passwords"
   ]
  },
  {
   "cell_type": "markdown",
   "metadata": {},
   "source": [
    "## Word Frequency\n",
    "Word frequency is a crude measure of the similarity between documents. In this application, a dictionary will be used for the word count. The keys are the words and the values will be the counts."
   ]
  },
  {
   "cell_type": "code",
   "execution_count": null,
   "metadata": {},
   "outputs": [],
   "source": [
    "def byFreq(pair):\n",
    "    return pair[1]\n",
    "\n",
    "def word_count(num_words, stop_words):\n",
    "    print(\"Analyze the frequency of words in a document.\")\n",
    "    \n",
    "    # Read in the entire contents of the file and convert to all lower case\n",
    "    text = open(\"word-count.txt\").read()\n",
    "    text.lower()\n",
    "    \n",
    "    # Get rid of non-characters\n",
    "    for ch in '!\"#$%&()*+,-./:;<=>?@[\\\\]^_{|}~':\n",
    "        text = text.replace(ch, \" \")\n",
    "        \n",
    "    # Get all the words in a sequence\n",
    "    words = text.split()\n",
    "    \n",
    "    # Construct a dictionary of all the words\n",
    "    counts = {}\n",
    "    for w in words:\n",
    "        if not (w in stop_words):\n",
    "            counts[w] = counts.get(w,0) + 1\n",
    "        \n",
    "    # Output analysis\n",
    "    items = list(counts.items())\n",
    "    items.sort()\n",
    "    items.sort(key=byFreq, reverse=True)\n",
    "    for i in range(num_words):\n",
    "        word, count = items[i]\n",
    "        print(\"{0:<15}{1:>5}\".format(word, count))\n",
    "    \n",
    "word_count(10, [\"the\", \"and\", \"to\", \"that\", \"there\", \"in\", \"of\", \"was\"])\n",
    "    "
   ]
  },
  {
   "cell_type": "code",
   "execution_count": 13,
   "metadata": {},
   "outputs": [],
   "source": [
    "import math\n",
    "class Circle:\n",
    "    def __init__(self, radius):\n",
    "        self.radius = radius\n",
    "        \n",
    "    def calculate_circumference(self):\n",
    "        self.circumference = 2 * math.pi * self.radius\n",
    "        return float(self.circumference)\n",
    "        \n",
    "    def calculate_area(self):\n",
    "        self.area = math.pi * self.radius * self.radius\n",
    "        return self.area\n",
    "    \n",
    "    def __str__(self):\n",
    "        return \"Circle, radius = {0}, circumference = {1:0.2f}, area = {2:0.2f}\".format(self.radius, self.calculate_circumference(), self.calculate_area())"
   ]
  },
  {
   "cell_type": "code",
   "execution_count": null,
   "metadata": {},
   "outputs": [],
   "source": []
  },
  {
   "cell_type": "code",
   "execution_count": null,
   "metadata": {},
   "outputs": [],
   "source": []
  },
  {
   "cell_type": "code",
   "execution_count": 14,
   "metadata": {},
   "outputs": [
    {
     "name": "stdout",
     "output_type": "stream",
     "text": [
      "Circle, radius = 4, circumference = 25.13, area = 50.27\n"
     ]
    }
   ],
   "source": [
    "c001 = Circle(4)\n",
    "print(c001)"
   ]
  },
  {
   "cell_type": "code",
   "execution_count": 22,
   "metadata": {},
   "outputs": [],
   "source": [
    "class MyShapes:\n",
    "    def __init__(self):\n",
    "        self.circles = []\n",
    "    \n",
    "    def add_circle(self, c):\n",
    "        self.circles.append(c)\n",
    "        \n",
    "    def circles_str(self):\n",
    "        return_str = \"\\nThe circles are\"\n",
    "        for circle in self.circles:\n",
    "            return_str = return_str + \"\\n\" + circle.__str__()\n",
    "        return return_str\n",
    "    \n",
    "    def sort_by_area(self):\n",
    "        self.circles.sort(key=Circle.area)\n",
    "        \n",
    "    def remove_smallest_area_circle(self):\n",
    "        idx = 0\n",
    "        print(\"Length = \", len(self.circles))\n",
    "        for i in range(1, len(self.circles)):\n",
    "            print(\"Loop\")\n",
    "            print(type(self.circles[i]))\n",
    "            print(self.circles[i])\n",
    "            print(\"i=\", i)\n",
    "            print(\"idx=\", idx)\n",
    "            print(self.circles[i].calculate_area())\n",
    "            print(self.circles[idx].calculate_area())\n",
    "            if (self.circles[i].compute_area() < self.circles[idx].calculate_area()):\n",
    "                idx = i\n",
    "        print(\"The smallest area is at index {0}, with value {1}\".format(idx, self.circles[idx].calculate_area()))\n",
    "        s001.circles.pop(idx)\n",
    "        ##s001.circles.remove()\n",
    "        \n",
    "    def __str__(self):\n",
    "        return \"My shapes\" + self.circles_str()"
   ]
  },
  {
   "cell_type": "code",
   "execution_count": 23,
   "metadata": {},
   "outputs": [
    {
     "name": "stdout",
     "output_type": "stream",
     "text": [
      "My shapes\n",
      "The circles are\n"
     ]
    }
   ],
   "source": [
    "s001 = MyShapes()\n",
    "print(s001)"
   ]
  },
  {
   "cell_type": "code",
   "execution_count": 24,
   "metadata": {},
   "outputs": [],
   "source": [
    "c001 = Circle(4)\n",
    "c002 = Circle(3)\n",
    "c003 = Circle(6)"
   ]
  },
  {
   "cell_type": "code",
   "execution_count": 25,
   "metadata": {},
   "outputs": [],
   "source": [
    "s001.add_circle(c001)\n",
    "s001.add_circle(c002)\n",
    "s001.add_circle(c003)"
   ]
  },
  {
   "cell_type": "code",
   "execution_count": 26,
   "metadata": {},
   "outputs": [
    {
     "name": "stdout",
     "output_type": "stream",
     "text": [
      "My shapes\n",
      "The circles are\n",
      "Circle, radius = 4, circumference = 25.13, area = 50.27\n",
      "Circle, radius = 3, circumference = 18.85, area = 28.27\n",
      "Circle, radius = 6, circumference = 37.70, area = 113.10\n"
     ]
    }
   ],
   "source": [
    "print(s001)"
   ]
  },
  {
   "cell_type": "code",
   "execution_count": 27,
   "metadata": {},
   "outputs": [
    {
     "data": {
      "text/plain": [
       "<__main__.Circle at 0x2355fe139a0>"
      ]
     },
     "execution_count": 27,
     "metadata": {},
     "output_type": "execute_result"
    }
   ],
   "source": [
    "s001.circles[0]"
   ]
  },
  {
   "cell_type": "code",
   "execution_count": 28,
   "metadata": {},
   "outputs": [
    {
     "name": "stdout",
     "output_type": "stream",
     "text": [
      "Length =  3\n",
      "Loop\n",
      "<class '__main__.Circle'>\n",
      "Circle, radius = 3, circumference = 18.85, area = 28.27\n",
      "i= 1\n",
      "idx= 0\n",
      "28.274333882308138\n",
      "50.26548245743669\n"
     ]
    },
    {
     "ename": "AttributeError",
     "evalue": "'Circle' object has no attribute 'compute_area'",
     "output_type": "error",
     "traceback": [
      "\u001b[1;31m---------------------------------------------------------------------------\u001b[0m",
      "\u001b[1;31mAttributeError\u001b[0m                            Traceback (most recent call last)",
      "\u001b[1;32m<ipython-input-28-683c2978b1c4>\u001b[0m in \u001b[0;36m<module>\u001b[1;34m\u001b[0m\n\u001b[1;32m----> 1\u001b[1;33m \u001b[0ms001\u001b[0m\u001b[1;33m.\u001b[0m\u001b[0mremove_smallest_area_circle\u001b[0m\u001b[1;33m(\u001b[0m\u001b[1;33m)\u001b[0m\u001b[1;33m\u001b[0m\u001b[1;33m\u001b[0m\u001b[0m\n\u001b[0m",
      "\u001b[1;32m<ipython-input-22-3639dbee0bfa>\u001b[0m in \u001b[0;36mremove_smallest_area_circle\u001b[1;34m(self)\u001b[0m\n\u001b[0;32m     26\u001b[0m             \u001b[0mprint\u001b[0m\u001b[1;33m(\u001b[0m\u001b[0mself\u001b[0m\u001b[1;33m.\u001b[0m\u001b[0mcircles\u001b[0m\u001b[1;33m[\u001b[0m\u001b[0mi\u001b[0m\u001b[1;33m]\u001b[0m\u001b[1;33m.\u001b[0m\u001b[0mcalculate_area\u001b[0m\u001b[1;33m(\u001b[0m\u001b[1;33m)\u001b[0m\u001b[1;33m)\u001b[0m\u001b[1;33m\u001b[0m\u001b[1;33m\u001b[0m\u001b[0m\n\u001b[0;32m     27\u001b[0m             \u001b[0mprint\u001b[0m\u001b[1;33m(\u001b[0m\u001b[0mself\u001b[0m\u001b[1;33m.\u001b[0m\u001b[0mcircles\u001b[0m\u001b[1;33m[\u001b[0m\u001b[0midx\u001b[0m\u001b[1;33m]\u001b[0m\u001b[1;33m.\u001b[0m\u001b[0mcalculate_area\u001b[0m\u001b[1;33m(\u001b[0m\u001b[1;33m)\u001b[0m\u001b[1;33m)\u001b[0m\u001b[1;33m\u001b[0m\u001b[1;33m\u001b[0m\u001b[0m\n\u001b[1;32m---> 28\u001b[1;33m             \u001b[1;32mif\u001b[0m \u001b[1;33m(\u001b[0m\u001b[0mself\u001b[0m\u001b[1;33m.\u001b[0m\u001b[0mcircles\u001b[0m\u001b[1;33m[\u001b[0m\u001b[0mi\u001b[0m\u001b[1;33m]\u001b[0m\u001b[1;33m.\u001b[0m\u001b[0mcompute_area\u001b[0m\u001b[1;33m(\u001b[0m\u001b[1;33m)\u001b[0m \u001b[1;33m<\u001b[0m \u001b[0mself\u001b[0m\u001b[1;33m.\u001b[0m\u001b[0mcircles\u001b[0m\u001b[1;33m[\u001b[0m\u001b[0midx\u001b[0m\u001b[1;33m]\u001b[0m\u001b[1;33m.\u001b[0m\u001b[0mcalculate_area\u001b[0m\u001b[1;33m(\u001b[0m\u001b[1;33m)\u001b[0m\u001b[1;33m)\u001b[0m\u001b[1;33m:\u001b[0m\u001b[1;33m\u001b[0m\u001b[1;33m\u001b[0m\u001b[0m\n\u001b[0m\u001b[0;32m     29\u001b[0m                 \u001b[0midx\u001b[0m \u001b[1;33m=\u001b[0m \u001b[0mi\u001b[0m\u001b[1;33m\u001b[0m\u001b[1;33m\u001b[0m\u001b[0m\n\u001b[0;32m     30\u001b[0m         \u001b[0mprint\u001b[0m\u001b[1;33m(\u001b[0m\u001b[1;34m\"The smallest area is at index {0}, with value {1}\"\u001b[0m\u001b[1;33m.\u001b[0m\u001b[0mformat\u001b[0m\u001b[1;33m(\u001b[0m\u001b[0midx\u001b[0m\u001b[1;33m,\u001b[0m \u001b[0mself\u001b[0m\u001b[1;33m.\u001b[0m\u001b[0mcircles\u001b[0m\u001b[1;33m[\u001b[0m\u001b[0midx\u001b[0m\u001b[1;33m]\u001b[0m\u001b[1;33m.\u001b[0m\u001b[0mcalculate_area\u001b[0m\u001b[1;33m(\u001b[0m\u001b[1;33m)\u001b[0m\u001b[1;33m)\u001b[0m\u001b[1;33m)\u001b[0m\u001b[1;33m\u001b[0m\u001b[1;33m\u001b[0m\u001b[0m\n",
      "\u001b[1;31mAttributeError\u001b[0m: 'Circle' object has no attribute 'compute_area'"
     ]
    }
   ],
   "source": [
    "s001.remove_smallest_area_circle()"
   ]
  },
  {
   "cell_type": "code",
   "execution_count": 71,
   "metadata": {},
   "outputs": [],
   "source": [
    "#s001.sort_by_area()\n",
    "#print(s001)"
   ]
  },
  {
   "cell_type": "code",
   "execution_count": 62,
   "metadata": {},
   "outputs": [
    {
     "data": {
      "text/plain": [
       "[<__main__.Circle at 0x1a4a9592ac0>,\n",
       " <__main__.Circle at 0x1a4a9592100>,\n",
       " <__main__.Circle at 0x1a4a9592940>]"
      ]
     },
     "execution_count": 62,
     "metadata": {},
     "output_type": "execute_result"
    }
   ],
   "source": [
    "s001.circles"
   ]
  },
  {
   "cell_type": "code",
   "execution_count": 64,
   "metadata": {},
   "outputs": [],
   "source": [
    "s001.circles.sort(key=Circle.area)"
   ]
  },
  {
   "cell_type": "code",
   "execution_count": 65,
   "metadata": {},
   "outputs": [
    {
     "data": {
      "text/plain": [
       "[<__main__.Circle at 0x1a4a9592ac0>,\n",
       " <__main__.Circle at 0x1a4a9592100>,\n",
       " <__main__.Circle at 0x1a4a9592940>]"
      ]
     },
     "execution_count": 65,
     "metadata": {},
     "output_type": "execute_result"
    }
   ],
   "source": [
    "s001.circles"
   ]
  },
  {
   "cell_type": "code",
   "execution_count": 70,
   "metadata": {},
   "outputs": [
    {
     "ename": "TypeError",
     "evalue": "'float' object is not callable",
     "output_type": "error",
     "traceback": [
      "\u001b[1;31m---------------------------------------------------------------------------\u001b[0m",
      "\u001b[1;31mTypeError\u001b[0m                                 Traceback (most recent call last)",
      "\u001b[1;32m<ipython-input-70-1711f20804ad>\u001b[0m in \u001b[0;36m<module>\u001b[1;34m\u001b[0m\n\u001b[0;32m      1\u001b[0m \u001b[1;32mfor\u001b[0m \u001b[0mcircle\u001b[0m \u001b[1;32min\u001b[0m \u001b[0ms001\u001b[0m\u001b[1;33m.\u001b[0m\u001b[0mcircles\u001b[0m\u001b[1;33m:\u001b[0m\u001b[1;33m\u001b[0m\u001b[1;33m\u001b[0m\u001b[0m\n\u001b[1;32m----> 2\u001b[1;33m     \u001b[0mprint\u001b[0m\u001b[1;33m(\u001b[0m\u001b[0mcircle\u001b[0m\u001b[1;33m.\u001b[0m\u001b[0m__str__\u001b[0m\u001b[1;33m(\u001b[0m\u001b[1;33m)\u001b[0m\u001b[1;33m)\u001b[0m\u001b[1;33m\u001b[0m\u001b[1;33m\u001b[0m\u001b[0m\n\u001b[0m",
      "\u001b[1;32m<ipython-input-18-2302447cfc74>\u001b[0m in \u001b[0;36m__str__\u001b[1;34m(self)\u001b[0m\n\u001b[0;32m     13\u001b[0m \u001b[1;33m\u001b[0m\u001b[0m\n\u001b[0;32m     14\u001b[0m     \u001b[1;32mdef\u001b[0m \u001b[0m__str__\u001b[0m\u001b[1;33m(\u001b[0m\u001b[0mself\u001b[0m\u001b[1;33m)\u001b[0m\u001b[1;33m:\u001b[0m\u001b[1;33m\u001b[0m\u001b[1;33m\u001b[0m\u001b[0m\n\u001b[1;32m---> 15\u001b[1;33m         \u001b[1;32mreturn\u001b[0m \u001b[1;34m\"Circle, radius = {0}, circumference = {1:0.2f}, area = {2:0.2f}\"\u001b[0m\u001b[1;33m.\u001b[0m\u001b[0mformat\u001b[0m\u001b[1;33m(\u001b[0m\u001b[0mself\u001b[0m\u001b[1;33m.\u001b[0m\u001b[0mradius\u001b[0m\u001b[1;33m,\u001b[0m \u001b[0mself\u001b[0m\u001b[1;33m.\u001b[0m\u001b[0mcircumference\u001b[0m\u001b[1;33m(\u001b[0m\u001b[1;33m)\u001b[0m\u001b[1;33m,\u001b[0m \u001b[0mself\u001b[0m\u001b[1;33m.\u001b[0m\u001b[0marea\u001b[0m\u001b[1;33m(\u001b[0m\u001b[1;33m)\u001b[0m\u001b[1;33m)\u001b[0m\u001b[1;33m\u001b[0m\u001b[1;33m\u001b[0m\u001b[0m\n\u001b[0m",
      "\u001b[1;31mTypeError\u001b[0m: 'float' object is not callable"
     ]
    }
   ],
   "source": [
    "for circle in s001.circles:\n",
    "    print(circle.__str__())"
   ]
  },
  {
   "cell_type": "code",
   "execution_count": null,
   "metadata": {},
   "outputs": [],
   "source": []
  }
 ],
 "metadata": {
  "kernelspec": {
   "display_name": "Python 3",
   "language": "python",
   "name": "python3"
  },
  "language_info": {
   "codemirror_mode": {
    "name": "ipython",
    "version": 3
   },
   "file_extension": ".py",
   "mimetype": "text/x-python",
   "name": "python",
   "nbconvert_exporter": "python",
   "pygments_lexer": "ipython3",
   "version": "3.9.1"
  }
 },
 "nbformat": 4,
 "nbformat_minor": 4
}
