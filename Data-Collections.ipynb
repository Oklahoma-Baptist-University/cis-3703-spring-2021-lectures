{
 "cells": [
  {
   "cell_type": "markdown",
   "metadata": {},
   "source": [
    "# CIS 3703 Python Programming - Spring 2021"
   ]
  },
  {
   "cell_type": "code",
   "execution_count": 15,
   "metadata": {},
   "outputs": [],
   "source": [
    "# The following should be included in each Jupyter Notebook. We will discuss this later in the course.\n",
    "# For now, just include these statements.\n",
    "\n",
    "# For more information, see\n",
    "# https://ipython.readthedocs.io/en/stable/config/extensions/autoreload.html\n",
    "\n",
    "%load_ext autoreload\n",
    "%autoreload 2"
   ]
  },
  {
   "cell_type": "code",
   "execution_count": null,
   "metadata": {},
   "outputs": [],
   "source": [
    "from data_collections import *\n",
    "from random import randrange"
   ]
  },
  {
   "cell_type": "markdown",
   "metadata": {},
   "source": [
    "## Simple statistics"
   ]
  },
  {
   "cell_type": "markdown",
   "metadata": {},
   "source": [
    "Many problems deal with large colelctionsof similar information.<ul><li>Words in a document<li>Students in a course<li>Data from an experiment<li>Customers of a business<li>Graphics objects drawn on a screen<li>Cards in a deck</ul>"
   ]
  },
  {
   "cell_type": "markdown",
   "metadata": {},
   "source": [
    "## Applying Lists"
   ]
  },
  {
   "cell_type": "markdown",
   "metadata": {},
   "source": [
    "Lists (aka arrays) are a way to combine entire collections of values into one object. <p>Python lists are ordered sequences of items.\n",
    "    $$\n",
    "    S=S_{0}, S_{1}, ..., S_{n-1}\n",
    "    $$\n",
    "<p>Specific items are denoted using subscripts. The sum of a list can be given by\n",
    "    $$\n",
    "    \\Sigma_{i=0, n}S_{i}\n",
    "    $$\n",
    "<p>Python can represent the entire sequence as a variable and access individual elements using subscripts.<p>Python lists can grow or shrink on demand and you can include items of different types in the list. Python lists are also mutable."
   ]
  },
  {
   "cell_type": "code",
   "execution_count": null,
   "metadata": {},
   "outputs": [],
   "source": [
    "L1 = [1, 2, 3, 11, 31, 34]"
   ]
  },
  {
   "cell_type": "code",
   "execution_count": null,
   "metadata": {},
   "outputs": [],
   "source": [
    "L2 = [4, 5, 6]"
   ]
  },
  {
   "cell_type": "code",
   "execution_count": null,
   "metadata": {},
   "outputs": [],
   "source": [
    "print(\"Concatenation\", L1 + L2)"
   ]
  },
  {
   "cell_type": "code",
   "execution_count": null,
   "metadata": {},
   "outputs": [],
   "source": [
    "print(\"Repetition\", L1 * 3)"
   ]
  },
  {
   "cell_type": "code",
   "execution_count": null,
   "metadata": {},
   "outputs": [],
   "source": [
    "print(\"Indexing\", L1[1])"
   ]
  },
  {
   "cell_type": "code",
   "execution_count": null,
   "metadata": {},
   "outputs": [],
   "source": [
    "print(\"Length\", len(L1))"
   ]
  },
  {
   "cell_type": "code",
   "execution_count": null,
   "metadata": {},
   "outputs": [],
   "source": [
    "print(\"Slicing\", L1[3:6])"
   ]
  },
  {
   "cell_type": "code",
   "execution_count": null,
   "metadata": {},
   "outputs": [],
   "source": [
    "# Iteration\n",
    "for item in L1:\n",
    "    print(\"List item\", item)"
   ]
  },
  {
   "cell_type": "code",
   "execution_count": null,
   "metadata": {},
   "outputs": [],
   "source": [
    "# Membership check\n",
    "4 in L1"
   ]
  },
  {
   "cell_type": "code",
   "execution_count": null,
   "metadata": {},
   "outputs": [],
   "source": [
    "11 in L1"
   ]
  },
  {
   "cell_type": "code",
   "execution_count": null,
   "metadata": {},
   "outputs": [],
   "source": [
    "# ACCUMULATOR PATTERN - SUMMATION\n",
    "total = 0\n",
    "for item in L1:\n",
    "    total = total + item\n",
    "print(\"Total\", total)"
   ]
  },
  {
   "cell_type": "code",
   "execution_count": null,
   "metadata": {},
   "outputs": [],
   "source": [
    "# Mutability\n",
    "L1[3] = 7\n",
    "L1"
   ]
  },
  {
   "cell_type": "code",
   "execution_count": null,
   "metadata": {},
   "outputs": [],
   "source": [
    "L1[2:4] = [0, 0]\n",
    "L1"
   ]
  },
  {
   "cell_type": "code",
   "execution_count": null,
   "metadata": {},
   "outputs": [],
   "source": [
    "empty_list = []\n",
    "empty_list"
   ]
  },
  {
   "cell_type": "code",
   "execution_count": null,
   "metadata": {
    "scrolled": true
   },
   "outputs": [],
   "source": [
    "list_of_50_zeros = [0] * 50\n",
    "list_of_50_zeros"
   ]
  },
  {
   "cell_type": "code",
   "execution_count": null,
   "metadata": {},
   "outputs": [],
   "source": [
    "# List methods\n",
    "list_of_random_numbers = []\n",
    "for i in range(0, 11):\n",
    "    list_of_random_numbers.append(randrange(100))"
   ]
  },
  {
   "cell_type": "code",
   "execution_count": null,
   "metadata": {},
   "outputs": [],
   "source": [
    "list_of_random_numbers"
   ]
  },
  {
   "cell_type": "code",
   "execution_count": null,
   "metadata": {},
   "outputs": [],
   "source": [
    "list_of_random_numbers.sort()\n",
    "list_of_random_numbers"
   ]
  },
  {
   "cell_type": "code",
   "execution_count": null,
   "metadata": {},
   "outputs": [],
   "source": [
    "list_of_random_numbers.reverse()\n",
    "list_of_random_numbers"
   ]
  },
  {
   "cell_type": "code",
   "execution_count": null,
   "metadata": {},
   "outputs": [],
   "source": [
    "print(\"Index of 27 is\", list_of_random_numbers.index(27))"
   ]
  },
  {
   "cell_type": "code",
   "execution_count": null,
   "metadata": {},
   "outputs": [],
   "source": [
    "list_of_random_numbers.insert(6, 101)\n",
    "list_of_random_numbers"
   ]
  },
  {
   "cell_type": "code",
   "execution_count": null,
   "metadata": {},
   "outputs": [],
   "source": [
    "print(\"How many 101s\", list_of_random_numbers.count(101))"
   ]
  },
  {
   "cell_type": "code",
   "execution_count": null,
   "metadata": {},
   "outputs": [],
   "source": [
    "list_of_random_numbers.remove(101)\n",
    "print(\"Remove the 101s\", list_of_random_numbers)"
   ]
  },
  {
   "cell_type": "code",
   "execution_count": null,
   "metadata": {},
   "outputs": [],
   "source": [
    "print(\"Pop element from list\", list_of_random_numbers.pop(2))"
   ]
  },
  {
   "cell_type": "code",
   "execution_count": null,
   "metadata": {},
   "outputs": [],
   "source": [
    "list_of_random_numbers"
   ]
  },
  {
   "cell_type": "code",
   "execution_count": null,
   "metadata": {},
   "outputs": [],
   "source": [
    "# Deletion of items or slices\n",
    "del list_of_random_numbers[0]"
   ]
  },
  {
   "cell_type": "code",
   "execution_count": null,
   "metadata": {},
   "outputs": [],
   "source": [
    "list_of_random_numbers"
   ]
  },
  {
   "cell_type": "code",
   "execution_count": null,
   "metadata": {},
   "outputs": [],
   "source": [
    "del list_of_random_numbers[3:6]"
   ]
  },
  {
   "cell_type": "code",
   "execution_count": null,
   "metadata": {},
   "outputs": [],
   "source": [
    "list_of_random_numbers"
   ]
  },
  {
   "cell_type": "markdown",
   "metadata": {},
   "source": [
    "## Statistics with Lists"
   ]
  },
  {
   "cell_type": "code",
   "execution_count": null,
   "metadata": {},
   "outputs": [],
   "source": [
    "import math"
   ]
  },
  {
   "cell_type": "code",
   "execution_count": null,
   "metadata": {},
   "outputs": [],
   "source": [
    "list_of_random_numbers = []\n",
    "for i in range(0, 101):\n",
    "    list_of_random_numbers.append(randrange(100))"
   ]
  },
  {
   "cell_type": "code",
   "execution_count": null,
   "metadata": {},
   "outputs": [],
   "source": [
    "def mean(the_list):\n",
    "    total = 0\n",
    "    for num in the_list:\n",
    "        total = total + num\n",
    "    return (total / len(the_list))"
   ]
  },
  {
   "cell_type": "code",
   "execution_count": null,
   "metadata": {},
   "outputs": [],
   "source": [
    "print(\"The average is {0:0.2f}\".format(mean(list_of_random_numbers)))"
   ]
  },
  {
   "cell_type": "code",
   "execution_count": null,
   "metadata": {},
   "outputs": [],
   "source": [
    "def std_dev(the_list, avg):\n",
    "    total = 0\n",
    "    for num in the_list:\n",
    "        dev = avg - num\n",
    "        total = total + dev * dev\n",
    "    return math.sqrt(total/len(the_list) - 1)"
   ]
  },
  {
   "cell_type": "code",
   "execution_count": null,
   "metadata": {},
   "outputs": [],
   "source": [
    "print(\"The std dev is {0:0.2f}\".format(std_dev(list_of_random_numbers, mean(list_of_random_numbers))))"
   ]
  },
  {
   "cell_type": "code",
   "execution_count": null,
   "metadata": {},
   "outputs": [],
   "source": [
    "def median(the_list):\n",
    "    the_list.sort()\n",
    "    size = len(the_list)\n",
    "    mid = size // 2\n",
    "    if ((size % 2) == 0):\n",
    "        med = (the_list[mid] + the_list[mid -1]) / 2\n",
    "    else:\n",
    "        med = the_list[mid]\n",
    "    return med"
   ]
  },
  {
   "cell_type": "code",
   "execution_count": null,
   "metadata": {},
   "outputs": [],
   "source": [
    "print(\"The median is {0:0.2f}\".format(median(list_of_random_numbers)))"
   ]
  },
  {
   "cell_type": "markdown",
   "metadata": {},
   "source": [
    "## Lists of Records"
   ]
  },
  {
   "cell_type": "code",
   "execution_count": 21,
   "metadata": {},
   "outputs": [],
   "source": [
    "from student import *"
   ]
  },
  {
   "cell_type": "code",
   "execution_count": 22,
   "metadata": {},
   "outputs": [],
   "source": [
    "def process_student_data():\n",
    "    infile = open(\"student.dat\", \"r\")\n",
    "    student_list = []\n",
    "    for line in infile:\n",
    "        name, hours, grade = line.split()\n",
    "        student_list.append(Student(name, float(hours), float(grade)))\n",
    "    infile.close()\n",
    "    return student_list"
   ]
  },
  {
   "cell_type": "code",
   "execution_count": 23,
   "metadata": {},
   "outputs": [],
   "source": [
    "def save_student_data(student_list, file):\n",
    "    outfile = open(file, \"w\")\n",
    "    for student in student_list:\n",
    "        print(\"\\nStudent name: {0}\\nGrade Points: {1}\\nHours: {2}\\nGPA: {3:0.2f}\".format(student.get_name(), \n",
    "                                                                             student.get_grade_points(),\n",
    "                                                                             student.get_hours(),\n",
    "                                                                             student.gpa()), \n",
    "              file=outfile)\n",
    "    outfile.close()"
   ]
  },
  {
   "cell_type": "code",
   "execution_count": 24,
   "metadata": {},
   "outputs": [],
   "source": [
    "save_student_data(process_student_data(), \"student.txt\")"
   ]
  },
  {
   "cell_type": "markdown",
   "metadata": {},
   "source": [
    "To sort, the list, we need to provide the key for sorting. This key must be a function that takes an item from the list as a parameter and returns the key item."
   ]
  },
  {
   "cell_type": "code",
   "execution_count": 26,
   "metadata": {},
   "outputs": [],
   "source": [
    "student_data = process_student_data()\n",
    "# This function is not invoked here, but is used by the sort method to\n",
    "# make comparisons\n",
    "student_data.sort(key=Student.gpa)\n",
    "save_student_data(student_data, \"sorted-student.txt\")"
   ]
  },
  {
   "cell_type": "markdown",
   "metadata": {},
   "source": [
    "## Non-Sequential Collections"
   ]
  },
  {
   "cell_type": "markdown",
   "metadata": {},
   "source": [
    "A dictionary (also called a hashtable, map or associative arrays in some languages) is a collection in which the values are looked up by a key (as opposed to an index). This is called a key-value pair.<p>Mappings are unordered."
   ]
  },
  {
   "cell_type": "code",
   "execution_count": 1,
   "metadata": {},
   "outputs": [],
   "source": [
    "passwd = {\"User001\":\"password1\", \"User002\":\"password2\"}"
   ]
  },
  {
   "cell_type": "code",
   "execution_count": 2,
   "metadata": {},
   "outputs": [
    {
     "name": "stdout",
     "output_type": "stream",
     "text": [
      "The password for user User001 is password1\n"
     ]
    }
   ],
   "source": [
    "# Lookup the value (password) associated with a particular key (user)\n",
    "print(\"The password for user {0} is {1}\".format(\"User001\", passwd[\"User001\"]))"
   ]
  },
  {
   "cell_type": "code",
   "execution_count": 4,
   "metadata": {},
   "outputs": [
    {
     "name": "stdout",
     "output_type": "stream",
     "text": [
      "The password for user User001 is betterpassword\n"
     ]
    }
   ],
   "source": [
    "# Dictionaries are mutable (the value of a key can be changed using assignment)\n",
    "passwd[\"User001\"] = \"betterpassword\"\n",
    "print(\"The password for user {0} is {1}\".format(\"User001\", passwd[\"User001\"]))"
   ]
  },
  {
   "cell_type": "code",
   "execution_count": 5,
   "metadata": {},
   "outputs": [
    {
     "data": {
      "text/plain": [
       "{'User001': 'betterpassword', 'User002': 'password2'}"
      ]
     },
     "execution_count": 5,
     "metadata": {},
     "output_type": "execute_result"
    }
   ],
   "source": [
    "passwd"
   ]
  },
  {
   "cell_type": "code",
   "execution_count": 21,
   "metadata": {},
   "outputs": [],
   "source": [
    "# Dictionaries are built by adding entries one at a time\n",
    "def read_passwords(file_name):\n",
    "    passwordfile = open(file_name, \"r\")\n",
    "    passwd = {}\n",
    "    for line in passwordfile:\n",
    "        user, password = line.split()\n",
    "        passwd[user] = password\n",
    "    return passwd\n",
    "passwords = read_passwords(\"passwords.dat\")"
   ]
  },
  {
   "cell_type": "code",
   "execution_count": 22,
   "metadata": {},
   "outputs": [
    {
     "data": {
      "text/plain": [
       "dict_keys(['u1', 'u2', 'u3'])"
      ]
     },
     "execution_count": 22,
     "metadata": {},
     "output_type": "execute_result"
    }
   ],
   "source": [
    "# Return a sequence of keys\n",
    "passwords.keys()"
   ]
  },
  {
   "cell_type": "code",
   "execution_count": 23,
   "metadata": {},
   "outputs": [
    {
     "name": "stdout",
     "output_type": "stream",
     "text": [
      "Key u1 has value p1.\n",
      "Key u2 has value p2.\n",
      "Key u3 has value p3.\n"
     ]
    }
   ],
   "source": [
    "# Loop over the keys\n",
    "for key in passwords:\n",
    "    print(\"Key {0} has value {1}.\".format(key, passwords[key]))"
   ]
  },
  {
   "cell_type": "code",
   "execution_count": 11,
   "metadata": {},
   "outputs": [
    {
     "data": {
      "text/plain": [
       "dict_values(['p1', 'p2', 'p3'])"
      ]
     },
     "execution_count": 11,
     "metadata": {},
     "output_type": "execute_result"
    }
   ],
   "source": [
    "# Return the values\n",
    "passwords.values()"
   ]
  },
  {
   "cell_type": "code",
   "execution_count": 12,
   "metadata": {},
   "outputs": [
    {
     "data": {
      "text/plain": [
       "dict_items([('u1', 'p1'), ('u2', 'p2'), ('u3', 'p3')])"
      ]
     },
     "execution_count": 12,
     "metadata": {},
     "output_type": "execute_result"
    }
   ],
   "source": [
    "# Return a sequence of tuples\n",
    "passwords.items()"
   ]
  },
  {
   "cell_type": "code",
   "execution_count": 13,
   "metadata": {},
   "outputs": [
    {
     "data": {
      "text/plain": [
       "'p1'"
      ]
     },
     "execution_count": 13,
     "metadata": {},
     "output_type": "execute_result"
    }
   ],
   "source": [
    "# If a dictionaty has a key, return its value; otherwise return the default\n",
    "passwords.get(\"u1\", \"No user\")"
   ]
  },
  {
   "cell_type": "code",
   "execution_count": 14,
   "metadata": {},
   "outputs": [
    {
     "data": {
      "text/plain": [
       "'No user'"
      ]
     },
     "execution_count": 14,
     "metadata": {},
     "output_type": "execute_result"
    }
   ],
   "source": [
    "passwords.get(\"u10\", \"No user\")"
   ]
  },
  {
   "cell_type": "code",
   "execution_count": 15,
   "metadata": {},
   "outputs": [
    {
     "name": "stdout",
     "output_type": "stream",
     "text": [
      "has key u1? True\n"
     ]
    }
   ],
   "source": [
    "# Return true if the dictionary has a key, false otherwise\n",
    "print(\"has key {0}? {1}\".format(\"u1\", \"u1\" in passwords))"
   ]
  },
  {
   "cell_type": "code",
   "execution_count": 16,
   "metadata": {},
   "outputs": [
    {
     "name": "stdout",
     "output_type": "stream",
     "text": [
      "has key u10? False\n"
     ]
    }
   ],
   "source": [
    "print(\"has key {0}? {1}\".format(\"u10\", \"u10\" in passwords))"
   ]
  },
  {
   "cell_type": "code",
   "execution_count": 17,
   "metadata": {},
   "outputs": [],
   "source": [
    "# Delete an entry\n",
    "del passwords[\"u1\"]"
   ]
  },
  {
   "cell_type": "code",
   "execution_count": 18,
   "metadata": {},
   "outputs": [
    {
     "data": {
      "text/plain": [
       "{'u2': 'p2', 'u3': 'p3'}"
      ]
     },
     "execution_count": 18,
     "metadata": {},
     "output_type": "execute_result"
    }
   ],
   "source": [
    "passwords"
   ]
  },
  {
   "cell_type": "code",
   "execution_count": 19,
   "metadata": {},
   "outputs": [],
   "source": [
    "# Delete all entries\n",
    "passwords.clear()"
   ]
  },
  {
   "cell_type": "code",
   "execution_count": 20,
   "metadata": {},
   "outputs": [
    {
     "data": {
      "text/plain": [
       "{}"
      ]
     },
     "execution_count": 20,
     "metadata": {},
     "output_type": "execute_result"
    }
   ],
   "source": [
    "passwords"
   ]
  },
  {
   "cell_type": "markdown",
   "metadata": {},
   "source": [
    "## Word Frequency\n",
    "Word frequency is a crude measure of the similarity between documents. In this application, a dictionary will be used for the word count. The keys are the words and the values will be the counts."
   ]
  },
  {
   "cell_type": "code",
   "execution_count": 37,
   "metadata": {},
   "outputs": [
    {
     "name": "stdout",
     "output_type": "stream",
     "text": [
      "Analyze the frequency of words in a document.\n",
      "God               30\n",
      "And               24\n",
      "it                18\n",
      "said              11\n",
      "according         10\n",
      "day               10\n",
      "light             10\n",
      "earth              9\n",
      "sky                9\n",
      "kinds              8\n"
     ]
    }
   ],
   "source": [
    "def byFreq(pair):\n",
    "    return pair[1]\n",
    "\n",
    "def word_count(num_words, stop_words):\n",
    "    print(\"Analyze the frequency of words in a document.\")\n",
    "    \n",
    "    # Read in the entire contents of the file and convert to all lower case\n",
    "    text = open(\"word-count.txt\").read()\n",
    "    text.lower()\n",
    "    \n",
    "    # Get rid of non-characters\n",
    "    for ch in '!\"#$%&()*+,-./:;<=>?@[\\\\]^_{|}~':\n",
    "        text = text.replace(ch, \" \")\n",
    "        \n",
    "    # Get all the words in a sequence\n",
    "    words = text.split()\n",
    "    \n",
    "    # Construct a dictionary of all the words\n",
    "    counts = {}\n",
    "    for w in words:\n",
    "        if not (w in stop_words):\n",
    "            counts[w] = counts.get(w,0) + 1\n",
    "        \n",
    "    # Output analysis\n",
    "    items = list(counts.items())\n",
    "    items.sort()\n",
    "    items.sort(key=byFreq, reverse=True)\n",
    "    for i in range(num_words):\n",
    "        word, count = items[i]\n",
    "        print(\"{0:<15}{1:>5}\".format(word, count))\n",
    "    \n",
    "word_count(10, [\"the\", \"and\", \"to\", \"that\", \"there\", \"in\", \"of\", \"was\"])\n",
    "    "
   ]
  },
  {
   "cell_type": "code",
   "execution_count": null,
   "metadata": {},
   "outputs": [],
   "source": []
  }
 ],
 "metadata": {
  "kernelspec": {
   "display_name": "Python 3",
   "language": "python",
   "name": "python3"
  },
  "language_info": {
   "codemirror_mode": {
    "name": "ipython",
    "version": 3
   },
   "file_extension": ".py",
   "mimetype": "text/x-python",
   "name": "python",
   "nbconvert_exporter": "python",
   "pygments_lexer": "ipython3",
   "version": "3.9.1"
  }
 },
 "nbformat": 4,
 "nbformat_minor": 4
}
