{
 "cells": [
  {
   "cell_type": "markdown",
   "metadata": {},
   "source": [
    "# CIS 3703 Python Programming - Spring 2021"
   ]
  },
  {
   "cell_type": "code",
   "execution_count": null,
   "metadata": {},
   "outputs": [],
   "source": [
    "# The following should be included in each Jupyter Notebook. We will discuss this later in the course.\n",
    "# For now, just include these statements.\n",
    "\n",
    "# For more information, see\n",
    "# https://ipython.readthedocs.io/en/stable/config/extensions/autoreload.html\n",
    "\n",
    "%load_ext autoreload\n",
    "%autoreload 2"
   ]
  },
  {
   "cell_type": "markdown",
   "metadata": {},
   "source": [
    "## Simple Decisions"
   ]
  },
  {
   "cell_type": "markdown",
   "metadata": {},
   "source": [
    "Sometimes we need to alter the sequential flow of a program - this is done using <i>control structures</i>. In this chapter we start with <i>decision structures</i>.<p>\n",
    "Simple decisions are done using the if statement<code>\n",
    "    if &lt;condition&gt;:\n",
    "        &lt;body&gt;</code><p>\n",
    "The condition compares the values of two expressions:<code>\n",
    "        &lt;expr&gt; &lt;relop&gt; &lt;expr&gt;</code><p>\n",
    "The result of a condition is a true or false; this is known as a Boolean expression (type bool in Python)\n",
    "            using a relational operator (&lt;, &lt;=, &gt;, &gt;=, etc.)<p>\n",
    "    When comparing strings, the ordering is <i>lexicographic</i>."
   ]
  },
  {
   "cell_type": "code",
   "execution_count": 1,
   "metadata": {},
   "outputs": [
    {
     "data": {
      "text/plain": [
       "True"
      ]
     },
     "execution_count": 1,
     "metadata": {},
     "output_type": "execute_result"
    }
   ],
   "source": [
    "3 < 4"
   ]
  },
  {
   "cell_type": "code",
   "execution_count": 2,
   "metadata": {},
   "outputs": [
    {
     "data": {
      "text/plain": [
       "False"
      ]
     },
     "execution_count": 2,
     "metadata": {},
     "output_type": "execute_result"
    }
   ],
   "source": [
    "3 * 4 < 3 + 4"
   ]
  },
  {
   "cell_type": "code",
   "execution_count": 4,
   "metadata": {},
   "outputs": [
    {
     "data": {
      "text/plain": [
       "False"
      ]
     },
     "execution_count": 4,
     "metadata": {},
     "output_type": "execute_result"
    }
   ],
   "source": [
    "\"hello\" == \"Hello\""
   ]
  },
  {
   "cell_type": "code",
   "execution_count": 5,
   "metadata": {},
   "outputs": [
    {
     "data": {
      "text/plain": [
       "False"
      ]
     },
     "execution_count": 5,
     "metadata": {},
     "output_type": "execute_result"
    }
   ],
   "source": [
    "\"hello\" < \"Hello\""
   ]
  },
  {
   "cell_type": "code",
   "execution_count": 7,
   "metadata": {},
   "outputs": [
    {
     "name": "stdout",
     "output_type": "stream",
     "text": [
      "The temperature is 53.6\n"
     ]
    }
   ],
   "source": [
    "def temperature_warning(celsius):\n",
    "    fahrenheit = 9/5 * celsius + 32\n",
    "    print(\"The temperature is\", fahrenheit)\n",
    "    # We want to print a heat warning message based on the value of the temperature\n",
    "    if fahrenheit > 90:\n",
    "        print(\"It is hot\")\n",
    "temperature_warning(12)"
   ]
  },
  {
   "cell_type": "markdown",
   "metadata": {},
   "source": [
    "## Two-Way Decisions"
   ]
  },
  {
   "cell_type": "code",
   "execution_count": 8,
   "metadata": {},
   "outputs": [
    {
     "ename": "ValueError",
     "evalue": "math domain error",
     "output_type": "error",
     "traceback": [
      "\u001b[1;31m---------------------------------------------------------------------------\u001b[0m",
      "\u001b[1;31mValueError\u001b[0m                                Traceback (most recent call last)",
      "\u001b[1;32m<ipython-input-8-40c5eb660d5f>\u001b[0m in \u001b[0;36m<module>\u001b[1;34m\u001b[0m\n\u001b[0;32m      6\u001b[0m     \u001b[0mroot2\u001b[0m \u001b[1;33m=\u001b[0m \u001b[1;33m(\u001b[0m\u001b[1;33m-\u001b[0m\u001b[0mb\u001b[0m \u001b[1;33m-\u001b[0m \u001b[0mdisc_root\u001b[0m\u001b[1;33m)\u001b[0m \u001b[1;33m/\u001b[0m \u001b[1;33m(\u001b[0m\u001b[1;36m2\u001b[0m \u001b[1;33m*\u001b[0m \u001b[0ma\u001b[0m\u001b[1;33m)\u001b[0m\u001b[1;33m\u001b[0m\u001b[1;33m\u001b[0m\u001b[0m\n\u001b[0;32m      7\u001b[0m     \u001b[0mprint\u001b[0m\u001b[1;33m(\u001b[0m\u001b[1;34m\"The solutions are\"\u001b[0m\u001b[1;33m,\u001b[0m \u001b[0ma\u001b[0m\u001b[1;33m,\u001b[0m \u001b[0mb\u001b[0m\u001b[1;33m)\u001b[0m\u001b[1;33m\u001b[0m\u001b[1;33m\u001b[0m\u001b[0m\n\u001b[1;32m----> 8\u001b[1;33m \u001b[0mquadratic\u001b[0m\u001b[1;33m(\u001b[0m\u001b[1;36m1\u001b[0m\u001b[1;33m,\u001b[0m \u001b[1;36m2\u001b[0m\u001b[1;33m,\u001b[0m \u001b[1;36m3\u001b[0m\u001b[1;33m)\u001b[0m\u001b[1;33m\u001b[0m\u001b[1;33m\u001b[0m\u001b[0m\n\u001b[0m",
      "\u001b[1;32m<ipython-input-8-40c5eb660d5f>\u001b[0m in \u001b[0;36mquadratic\u001b[1;34m(a, b, c)\u001b[0m\n\u001b[0;32m      2\u001b[0m \u001b[1;32mdef\u001b[0m \u001b[0mquadratic\u001b[0m\u001b[1;33m(\u001b[0m\u001b[0ma\u001b[0m\u001b[1;33m,\u001b[0m \u001b[0mb\u001b[0m\u001b[1;33m,\u001b[0m \u001b[0mc\u001b[0m\u001b[1;33m)\u001b[0m\u001b[1;33m:\u001b[0m\u001b[1;33m\u001b[0m\u001b[1;33m\u001b[0m\u001b[0m\n\u001b[0;32m      3\u001b[0m     \u001b[0mdiscrim\u001b[0m \u001b[1;33m=\u001b[0m \u001b[0mb\u001b[0m \u001b[1;33m*\u001b[0m \u001b[0mb\u001b[0m \u001b[1;33m-\u001b[0m \u001b[1;36m4\u001b[0m \u001b[1;33m*\u001b[0m \u001b[0ma\u001b[0m \u001b[1;33m*\u001b[0m \u001b[0mc\u001b[0m\u001b[1;33m\u001b[0m\u001b[1;33m\u001b[0m\u001b[0m\n\u001b[1;32m----> 4\u001b[1;33m     \u001b[0mdisc_root\u001b[0m \u001b[1;33m=\u001b[0m \u001b[0mmath\u001b[0m\u001b[1;33m.\u001b[0m\u001b[0msqrt\u001b[0m\u001b[1;33m(\u001b[0m\u001b[0mdiscrim\u001b[0m\u001b[1;33m)\u001b[0m\u001b[1;33m\u001b[0m\u001b[1;33m\u001b[0m\u001b[0m\n\u001b[0m\u001b[0;32m      5\u001b[0m     \u001b[0mroot1\u001b[0m \u001b[1;33m=\u001b[0m \u001b[1;33m(\u001b[0m\u001b[1;33m-\u001b[0m\u001b[0mb\u001b[0m \u001b[1;33m+\u001b[0m \u001b[0mdisc_root\u001b[0m\u001b[1;33m)\u001b[0m \u001b[1;33m/\u001b[0m \u001b[1;33m(\u001b[0m\u001b[1;36m2\u001b[0m \u001b[1;33m*\u001b[0m \u001b[0ma\u001b[0m\u001b[1;33m)\u001b[0m\u001b[1;33m\u001b[0m\u001b[1;33m\u001b[0m\u001b[0m\n\u001b[0;32m      6\u001b[0m     \u001b[0mroot2\u001b[0m \u001b[1;33m=\u001b[0m \u001b[1;33m(\u001b[0m\u001b[1;33m-\u001b[0m\u001b[0mb\u001b[0m \u001b[1;33m-\u001b[0m \u001b[0mdisc_root\u001b[0m\u001b[1;33m)\u001b[0m \u001b[1;33m/\u001b[0m \u001b[1;33m(\u001b[0m\u001b[1;36m2\u001b[0m \u001b[1;33m*\u001b[0m \u001b[0ma\u001b[0m\u001b[1;33m)\u001b[0m\u001b[1;33m\u001b[0m\u001b[1;33m\u001b[0m\u001b[0m\n",
      "\u001b[1;31mValueError\u001b[0m: math domain error"
     ]
    }
   ],
   "source": [
    "import math\n",
    "def quadratic(a, b, c):\n",
    "    discrim = b * b - 4 * a * c\n",
    "    disc_root = math.sqrt(discrim)\n",
    "    root1 = (-b + disc_root) / (2 * a)\n",
    "    root2 = (-b - disc_root) / (2 * a)\n",
    "    print(\"The solutions are\", a, b)\n",
    "quadratic(1, 2, 3)"
   ]
  },
  {
   "cell_type": "code",
   "execution_count": 9,
   "metadata": {},
   "outputs": [],
   "source": [
    "## Check the condition that caused the error\n",
    "def quadratic(a, b, c):\n",
    "    discrim = b * b - 4 * a * c\n",
    "    # Check condition\n",
    "    if (discrim > 0):\n",
    "        disc_root = math.sqrt(discrim)\n",
    "        root1 = (-b + disc_root) / (2 * a)\n",
    "        root2 = (-b - disc_root) / (2 * a)\n",
    "        print(\"The solutions are\", a, b)\n",
    "quadratic(1, 2, 3)"
   ]
  },
  {
   "cell_type": "markdown",
   "metadata": {},
   "source": [
    "The above does not inform the user that there are no roots. This can be solved using a two-way decision.<p>\n",
    "Two-way decisions are done using the if statement<code>\n",
    "    if &lt;condition&gt;:\n",
    "        &lt;body&gt;\n",
    "    else:\n",
    "        &lt;body&gt;</code><p>"
   ]
  },
  {
   "cell_type": "code",
   "execution_count": 10,
   "metadata": {},
   "outputs": [
    {
     "name": "stdout",
     "output_type": "stream",
     "text": [
      "There are no roots.\n",
      "The solutions are -0.2928932188134524 -1.7071067811865475\n"
     ]
    }
   ],
   "source": [
    "## Check the condition that caused the error\n",
    "## Print something out if there are no roots\n",
    "def quadratic(a, b, c):\n",
    "    discrim = b * b - 4 * a * c\n",
    "    # Check condition\n",
    "    if (discrim > 0):\n",
    "        disc_root = math.sqrt(discrim)\n",
    "        root1 = (-b + disc_root) / (2 * a)\n",
    "        root2 = (-b - disc_root) / (2 * a)\n",
    "        print(\"The solutions are\", root1, root2)\n",
    "    else:\n",
    "        print(\"There are no roots.\")\n",
    "quadratic(1, 2, 3)\n",
    "quadratic(2, 4, 1)"
   ]
  },
  {
   "cell_type": "markdown",
   "metadata": {},
   "source": [
    "## Multi-Way Decisions"
   ]
  },
  {
   "cell_type": "markdown",
   "metadata": {},
   "source": [
    "We can extend this to multiple conditions.<code>\n",
    "    if &lt;condition1&gt;:\n",
    "        &lt;body&gt;\n",
    "    elif &lt;condition2&gt;:\n",
    "        &lt;body&gt;\n",
    "    elif &lt;condition3&gt;:\n",
    "        &lt;body&gt;\n",
    "    else:\n",
    "        &lt;body&gt;</code><p></code>"
   ]
  },
  {
   "cell_type": "code",
   "execution_count": 11,
   "metadata": {},
   "outputs": [
    {
     "name": "stdout",
     "output_type": "stream",
     "text": [
      "There is a double root at -1.0\n"
     ]
    }
   ],
   "source": [
    "## Check the condition that caused the error\n",
    "## Print something out if there are no roots\n",
    "## There is another case when the roots are equal\n",
    "def quadratic(a, b, c):\n",
    "    discrim = b * b - 4 * a * c\n",
    "    # Check condition\n",
    "    if (discrim > 0):\n",
    "        disc_root = math.sqrt(discrim)\n",
    "        root1 = (-b + disc_root) / (2 * a)\n",
    "        root2 = (-b - disc_root) / (2 * a)\n",
    "        print(\"The solutions are\", a, b)\n",
    "    elif (discrim == 0):\n",
    "        root = -b / (2 * a)\n",
    "        print(\"There is a double root at\", root)\n",
    "    else:\n",
    "        print(\"There are no roots.\")\n",
    "quadratic(1, 2, 1)"
   ]
  },
  {
   "cell_type": "markdown",
   "metadata": {},
   "source": [
    "Conditions can also be nested in other conditions."
   ]
  },
  {
   "cell_type": "code",
   "execution_count": null,
   "metadata": {},
   "outputs": [],
   "source": [
    "## Check the condition that caused the error\n",
    "## Print something out if there are no roots\n",
    "## There is another case when the roots are equal\n",
    "def quadratic(a, b, c):\n",
    "    discrim = b * b - 4 * a * c\n",
    "    # Check condition\n",
    "    if (discrim >= 0):\n",
    "        if (discrim == 0):\n",
    "            root = -b / (2 * a)\n",
    "            print(\"There is a double root at\", root)\n",
    "        else:\n",
    "            disc_root = math.sqrt(discrim)\n",
    "            root1 = (-b + disc_root) / (2 * a)\n",
    "            root2 = (-b - disc_root) / (2 * a)\n",
    "            print(\"The solutions are\", a, b)\n",
    "    else:\n",
    "        print(\"There are no roots.\")\n",
    "quadratic(1, 2, 1)"
   ]
  },
  {
   "cell_type": "code",
   "execution_count": 22,
   "metadata": {},
   "outputs": [],
   "source": [
    "# Return the letter grade for a numeric score\n",
    "def letter_grade(score):\n",
    "    if score <= 100 and score >= 0:\n",
    "        if score >= 90:\n",
    "            return \"A\"\n",
    "        elif score >= 80:\n",
    "            return \"B\"\n",
    "        elif score >= 70:\n",
    "            return \"C\"\n",
    "        elif score >= 60:\n",
    "            return \"D\"\n",
    "        else: \n",
    "            return \"F\"\n",
    "    else:\n",
    "        return \"Invalid\"\n"
   ]
  },
  {
   "cell_type": "code",
   "execution_count": 23,
   "metadata": {},
   "outputs": [
    {
     "name": "stdout",
     "output_type": "stream",
     "text": [
      "Invalid\n"
     ]
    }
   ],
   "source": [
    "grade = letter_grade(-83)\n",
    "print(grade)"
   ]
  },
  {
   "cell_type": "code",
   "execution_count": null,
   "metadata": {},
   "outputs": [],
   "source": [
    "score = 67"
   ]
  },
  {
   "cell_type": "code",
   "execution_count": 44,
   "metadata": {},
   "outputs": [],
   "source": [
    "def classify_score(scores):\n",
    "    \"\"\"Pass a list of scores (strings, separated by commas), return lists of classes\"\"\"\n",
    "    score_list = scores.split(\",\")\n",
    "    print(score_list)\n",
    "    # Create three lists\n",
    "    safe_scores = []\n",
    "    shaky_scores = []\n",
    "    danger_scores = []\n",
    "    for score in score_list:\n",
    "        #print(\"type {0} {1}\".format(type(score), score))\n",
    "        try:\n",
    "            score_value = int(score)\n",
    "            print(\"Processing {0}\".format(score_value))\n",
    "    # return:\n",
    "    # 75 and above is \"safe\"\n",
    "    # 65 to 75 is \"shaky\"\n",
    "    # below 65 is \"danger\"\n",
    "            if (score_value >= 75):\n",
    "                print(\"Adding to safe\")\n",
    "                safe_scores.append(score_value)\n",
    "            elif (score_value >= 65 and score_value < 75):\n",
    "                print(\"Adding to shaky\")\n",
    "                shaky_scores.append(score_value)\n",
    "            else:\n",
    "                print(\"Adding to danger\")\n",
    "                danger_scores.append(score_value)\n",
    "        except ValueError:\n",
    "            print(\"The value {0} is not a number, ignoring\".format(score))\n",
    "    return safe_scores, shaky_scores, danger_scores"
   ]
  },
  {
   "cell_type": "code",
   "execution_count": 46,
   "metadata": {},
   "outputs": [
    {
     "name": "stdout",
     "output_type": "stream",
     "text": [
      "['45', ' 78', ' a', ' 99', ' 88', ' 68', ' 87', ' 44', ' C-']\n",
      "Processing 45\n",
      "Adding to danger\n",
      "Processing 78\n",
      "Adding to safe\n",
      "The value  a is not a number, ignoring\n",
      "Processing 99\n",
      "Adding to safe\n",
      "Processing 88\n",
      "Adding to safe\n",
      "Processing 68\n",
      "Adding to shaky\n",
      "Processing 87\n",
      "Adding to safe\n",
      "Processing 44\n",
      "Adding to danger\n",
      "The value  C- is not a number, ignoring\n"
     ]
    },
    {
     "data": {
      "text/plain": [
       "([78, 99, 88, 87], [68], [45, 44])"
      ]
     },
     "execution_count": 46,
     "metadata": {},
     "output_type": "execute_result"
    }
   ],
   "source": [
    "classify_score(\"45, 78, a, 99, 88, 68, 87, 44, C-\")\n",
    "#classification = classify_score(77)\n",
    "#print(\"The score is {0}, the classification is {1}\".format(77, classification))"
   ]
  },
  {
   "cell_type": "code",
   "execution_count": 29,
   "metadata": {},
   "outputs": [],
   "source": [
    "x = 4\n",
    "y = 0\n",
    "if (y != 0):\n",
    "    z = x / y"
   ]
  },
  {
   "cell_type": "code",
   "execution_count": 30,
   "metadata": {},
   "outputs": [
    {
     "ename": "FileNotFoundError",
     "evalue": "[Errno 2] No such file or directory: 'somefile.txt'",
     "output_type": "error",
     "traceback": [
      "\u001b[1;31m---------------------------------------------------------------------------\u001b[0m",
      "\u001b[1;31mFileNotFoundError\u001b[0m                         Traceback (most recent call last)",
      "\u001b[1;32m<ipython-input-30-fcbea9620fe6>\u001b[0m in \u001b[0;36m<module>\u001b[1;34m\u001b[0m\n\u001b[1;32m----> 1\u001b[1;33m \u001b[0mmyfile\u001b[0m \u001b[1;33m=\u001b[0m \u001b[0mopen\u001b[0m\u001b[1;33m(\u001b[0m\u001b[1;34m\"somefile.txt\"\u001b[0m\u001b[1;33m)\u001b[0m\u001b[1;33m\u001b[0m\u001b[1;33m\u001b[0m\u001b[0m\n\u001b[0m",
      "\u001b[1;31mFileNotFoundError\u001b[0m: [Errno 2] No such file or directory: 'somefile.txt'"
     ]
    }
   ],
   "source": [
    "myfile = open(\"somefile.txt\")"
   ]
  },
  {
   "cell_type": "markdown",
   "metadata": {},
   "source": [
    "## Exception Handling"
   ]
  },
  {
   "cell_type": "code",
   "execution_count": null,
   "metadata": {},
   "outputs": [],
   "source": []
  },
  {
   "cell_type": "markdown",
   "metadata": {},
   "source": [
    "Some functions internally check for errors and return a special value to indicate that the operation was unsuccessful. For example, division by zero or square root of a negative number.<p>\n",
    "    These errors are called <i>exceptions</i>. We write code to <i>catch</i> and deal with these errors when the program is running.<p>\n",
    "The format is<code>\n",
    "    try:\n",
    "        &lt;body&gt;\n",
    "    except ErrorType:\n",
    "        &lt;handler&gt;\n",
    "    </code><p>\n",
    "If the statements inside &gt;body&lt; execute without error, control passes to the first statement after the <b>except</b> block. If an error occurs within &lt;body&gt;, then the &lt;handler&gt; is executed.<p>\n",
    "    Exception handling is useful for writing \"bullet proof\" code"
   ]
  },
  {
   "cell_type": "code",
   "execution_count": 34,
   "metadata": {},
   "outputs": [
    {
     "name": "stdout",
     "output_type": "stream",
     "text": [
      "There are no real roots.\n"
     ]
    }
   ],
   "source": [
    "import math\n",
    "def quadratic(a, b, c):\n",
    "    try:\n",
    "        discrim = b * b - 4 * a * c\n",
    "        disc_root = math.sqrt(discrim)\n",
    "        root1 = (-b + disc_root) / (2 * a)\n",
    "        root2 = (-b - disc_root) / (2 * a)\n",
    "        print(\"The solutions are\", a, b)\n",
    "    # This catches a specific error\n",
    "    except ValueError:\n",
    "        print(\"There are no real roots.\")\n",
    "quadratic(1, 2, 3)"
   ]
  },
  {
   "cell_type": "code",
   "execution_count": 36,
   "metadata": {},
   "outputs": [
    {
     "name": "stdout",
     "output_type": "stream",
     "text": [
      "Enter a floating point valuenine point 0\n"
     ]
    },
    {
     "ename": "ValueError",
     "evalue": "could not convert string to float: 'nine point 0'",
     "output_type": "error",
     "traceback": [
      "\u001b[1;31m---------------------------------------------------------------------------\u001b[0m",
      "\u001b[1;31mValueError\u001b[0m                                Traceback (most recent call last)",
      "\u001b[1;32m<ipython-input-36-e50ac2daa364>\u001b[0m in \u001b[0;36m<module>\u001b[1;34m\u001b[0m\n\u001b[0;32m      2\u001b[0m \u001b[1;32mdef\u001b[0m \u001b[0minput_error_handling\u001b[0m\u001b[1;33m(\u001b[0m\u001b[1;33m)\u001b[0m\u001b[1;33m:\u001b[0m\u001b[1;33m\u001b[0m\u001b[1;33m\u001b[0m\u001b[0m\n\u001b[0;32m      3\u001b[0m     \u001b[0mx1\u001b[0m \u001b[1;33m=\u001b[0m \u001b[0mfloat\u001b[0m\u001b[1;33m(\u001b[0m\u001b[0minput\u001b[0m\u001b[1;33m(\u001b[0m\u001b[1;34m\"Enter a floating point value\"\u001b[0m\u001b[1;33m)\u001b[0m\u001b[1;33m)\u001b[0m\u001b[1;33m\u001b[0m\u001b[1;33m\u001b[0m\u001b[0m\n\u001b[1;32m----> 4\u001b[1;33m \u001b[0minput_error_handling\u001b[0m\u001b[1;33m(\u001b[0m\u001b[1;33m)\u001b[0m\u001b[1;33m\u001b[0m\u001b[1;33m\u001b[0m\u001b[0m\n\u001b[0m",
      "\u001b[1;32m<ipython-input-36-e50ac2daa364>\u001b[0m in \u001b[0;36minput_error_handling\u001b[1;34m()\u001b[0m\n\u001b[0;32m      1\u001b[0m \u001b[1;31m## This code generates an error NameError if we do not enter a floating point\u001b[0m\u001b[1;33m\u001b[0m\u001b[1;33m\u001b[0m\u001b[1;33m\u001b[0m\u001b[0m\n\u001b[0;32m      2\u001b[0m \u001b[1;32mdef\u001b[0m \u001b[0minput_error_handling\u001b[0m\u001b[1;33m(\u001b[0m\u001b[1;33m)\u001b[0m\u001b[1;33m:\u001b[0m\u001b[1;33m\u001b[0m\u001b[1;33m\u001b[0m\u001b[0m\n\u001b[1;32m----> 3\u001b[1;33m     \u001b[0mx1\u001b[0m \u001b[1;33m=\u001b[0m \u001b[0mfloat\u001b[0m\u001b[1;33m(\u001b[0m\u001b[0minput\u001b[0m\u001b[1;33m(\u001b[0m\u001b[1;34m\"Enter a floating point value\"\u001b[0m\u001b[1;33m)\u001b[0m\u001b[1;33m)\u001b[0m\u001b[1;33m\u001b[0m\u001b[1;33m\u001b[0m\u001b[0m\n\u001b[0m\u001b[0;32m      4\u001b[0m \u001b[0minput_error_handling\u001b[0m\u001b[1;33m(\u001b[0m\u001b[1;33m)\u001b[0m\u001b[1;33m\u001b[0m\u001b[1;33m\u001b[0m\u001b[0m\n",
      "\u001b[1;31mValueError\u001b[0m: could not convert string to float: 'nine point 0'"
     ]
    }
   ],
   "source": [
    "## This code generates an error NameError if we do not enter a floating point\n",
    "def input_error_handling():\n",
    "    x1 = float(input(\"Enter a floating point value\"))\n",
    "input_error_handling()"
   ]
  },
  {
   "cell_type": "code",
   "execution_count": 40,
   "metadata": {},
   "outputs": [
    {
     "name": "stdout",
     "output_type": "stream",
     "text": [
      "Enter a floating point valuenine\n",
      "You did not enter a floating point value\n"
     ]
    }
   ],
   "source": [
    "## Add an exception to overcome the error\n",
    "def input_error_handling():\n",
    "    try:\n",
    "        x1 = float(input(\"Enter a floating point value\"))\n",
    "    except ValueError:\n",
    "        print(\"You did not enter a floating point value\")\n",
    "input_error_handling()"
   ]
  },
  {
   "cell_type": "markdown",
   "metadata": {},
   "source": [
    "We can use multiple <b>except</b>s to handle different errors."
   ]
  },
  {
   "cell_type": "code",
   "execution_count": null,
   "metadata": {},
   "outputs": [],
   "source": [
    "## Add an exception to overcome the error\n",
    "def input_error_handling():\n",
    "    try:\n",
    "        x1 = eval(input(\"Enter a floating point value\"))\n",
    "    except NameError as ne:\n",
    "        print(\"You did not enter a floating point value\")\n",
    "    except:\n",
    "        print(\"Unknown input processing error\")\n",
    "input_error_handling()"
   ]
  },
  {
   "cell_type": "markdown",
   "metadata": {},
   "source": [
    "## Max of Three"
   ]
  },
  {
   "cell_type": "code",
   "execution_count": null,
   "metadata": {},
   "outputs": [],
   "source": [
    "def max_of_three(x1, x2, x3):\n",
    "    if (x1 >= x2 >= x3):\n",
    "        return x1\n",
    "    elif (x2 >= x3):\n",
    "        return x2\n",
    "    else:\n",
    "        return x3\n",
    "print(max_of_three(5, 4, 3))\n",
    "print(max_of_three(5, 5, 5))\n",
    "print(max_of_three(5, 2, 4))"
   ]
  },
  {
   "cell_type": "code",
   "execution_count": null,
   "metadata": {},
   "outputs": [],
   "source": [
    "def max_of_three(x1, x2, x3):\n",
    "    if (x1 >= x2) and (x1 >= x3):\n",
    "        return x1\n",
    "    elif (x2 >= x1) and (x2 >= x3):\n",
    "        return x2\n",
    "    else:\n",
    "        return x3\n",
    "## This checks all possible combinations. Very inefficient\n",
    "print(max_of_three(5, 4, 3))\n",
    "print(max_of_three(5, 5, 5))\n",
    "print(max_of_three(5, 2, 4))"
   ]
  },
  {
   "cell_type": "code",
   "execution_count": null,
   "metadata": {},
   "outputs": [],
   "source": [
    "## Decision tree approach - exactly two comparisons\n",
    "def max_of_three(x1, x2, x3):\n",
    "    if (x1 >= x2):\n",
    "        if (x1 >= x3):\n",
    "            return x1\n",
    "        else:\n",
    "            return x3\n",
    "    else:\n",
    "        if (x2 >= x3):\n",
    "            return x2\n",
    "        else:\n",
    "            return x3\n",
    "print(max_of_three(5, 4, 3))\n",
    "print(max_of_three(5, 5, 5))\n",
    "print(max_of_three(5, 2, 4))"
   ]
  },
  {
   "cell_type": "code",
   "execution_count": null,
   "metadata": {},
   "outputs": [],
   "source": [
    "# Sequential approach - scan a list and keep track of the max found so far\n",
    "def max_of_three(x1, x2, x3):\n",
    "    max_val = x1\n",
    "    if (x2 > max_val):\n",
    "        max_val = x2\n",
    "    if (x3 > max_val):\n",
    "        max_val = x3\n",
    "    return max_val\n",
    "print(max_of_three(5, 4, 3))\n",
    "print(max_of_three(5, 5, 5))\n",
    "print(max_of_three(5, 2, 4))"
   ]
  },
  {
   "cell_type": "code",
   "execution_count": null,
   "metadata": {},
   "outputs": [],
   "source": [
    "def max_of_n(x_list):\n",
    "    max_val = x_list[0]\n",
    "    for num in x_list:\n",
    "        if (num > max_val):\n",
    "            max_val = num\n",
    "    return max_val\n",
    "print(max_of_n([5, 4, 3]))\n",
    "print(max_of_n([5, 5, 5]))\n",
    "print(max_of_n([5, 2, 4]))"
   ]
  },
  {
   "cell_type": "code",
   "execution_count": null,
   "metadata": {},
   "outputs": [],
   "source": []
  }
 ],
 "metadata": {
  "kernelspec": {
   "display_name": "Python 3",
   "language": "python",
   "name": "python3"
  },
  "language_info": {
   "codemirror_mode": {
    "name": "ipython",
    "version": 3
   },
   "file_extension": ".py",
   "mimetype": "text/x-python",
   "name": "python",
   "nbconvert_exporter": "python",
   "pygments_lexer": "ipython3",
   "version": "3.9.1"
  }
 },
 "nbformat": 4,
 "nbformat_minor": 4
}
