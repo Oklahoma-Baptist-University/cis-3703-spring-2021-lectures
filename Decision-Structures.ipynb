{
 "cells": [
  {
   "cell_type": "markdown",
   "metadata": {},
   "source": [
    "# CIS 3703 Python Programming - Spring 2021"
   ]
  },
  {
   "cell_type": "code",
   "execution_count": 2,
   "metadata": {},
   "outputs": [
    {
     "name": "stdout",
     "output_type": "stream",
     "text": [
      "The autoreload extension is already loaded. To reload it, use:\n",
      "  %reload_ext autoreload\n"
     ]
    }
   ],
   "source": [
    "# The following should be included in each Jupyter Notebook. We will discuss this later in the course.\n",
    "# For now, just include these statements.\n",
    "\n",
    "# For more information, see\n",
    "# https://ipython.readthedocs.io/en/stable/config/extensions/autoreload.html\n",
    "\n",
    "%load_ext autoreload\n",
    "%autoreload 2"
   ]
  },
  {
   "cell_type": "markdown",
   "metadata": {},
   "source": [
    "## Simple Decisions"
   ]
  },
  {
   "cell_type": "markdown",
   "metadata": {},
   "source": [
    "Sometimes we need to alter the sequential flow of a program - this is done using <i>control structures</i>. In this chapter we start with <i>decision structures</i>.<p>\n",
    "Simple decisions are done using the if statement<code>\n",
    "    if &lt;condition&gt;:\n",
    "        &lt;body&gt;</code><p>\n",
    "The condition compares the values of two expressions:<code>\n",
    "        &lt;expr&gt; &lt;relop&gt; &lt;expr&gt;</code><p>\n",
    "The result of a condition is a true or false; this is known as a Boolean expression (type bool in Python)\n",
    "            using a relational operator (&lt;, &lt;=, &gt;, &gt;=, etc.)<p>\n",
    "    When comparing strings, the ordering is <i>lexicographic</i>."
   ]
  },
  {
   "cell_type": "code",
   "execution_count": 11,
   "metadata": {},
   "outputs": [
    {
     "data": {
      "text/plain": [
       "True"
      ]
     },
     "execution_count": 11,
     "metadata": {},
     "output_type": "execute_result"
    }
   ],
   "source": [
    "3 < 4"
   ]
  },
  {
   "cell_type": "code",
   "execution_count": 12,
   "metadata": {},
   "outputs": [
    {
     "data": {
      "text/plain": [
       "False"
      ]
     },
     "execution_count": 12,
     "metadata": {},
     "output_type": "execute_result"
    }
   ],
   "source": [
    "3 * 4 < 3 + 4"
   ]
  },
  {
   "cell_type": "code",
   "execution_count": 13,
   "metadata": {},
   "outputs": [
    {
     "data": {
      "text/plain": [
       "False"
      ]
     },
     "execution_count": 13,
     "metadata": {},
     "output_type": "execute_result"
    }
   ],
   "source": [
    "\"hello\" == \"Hello\""
   ]
  },
  {
   "cell_type": "code",
   "execution_count": 14,
   "metadata": {},
   "outputs": [
    {
     "data": {
      "text/plain": [
       "False"
      ]
     },
     "execution_count": 14,
     "metadata": {},
     "output_type": "execute_result"
    }
   ],
   "source": [
    "\"hello\" < \"Hello\""
   ]
  },
  {
   "cell_type": "code",
   "execution_count": 10,
   "metadata": {},
   "outputs": [
    {
     "name": "stdout",
     "output_type": "stream",
     "text": [
      "The temperature is 113.0\n",
      "It is hot\n"
     ]
    }
   ],
   "source": [
    "def temperature_warning(celsius):\n",
    "    fahrenheit = 9/5 * celsius + 32\n",
    "    print(\"The temperature is\", fahrenheit)\n",
    "    # We want to print a heat warning message based on the value of the temperature\n",
    "    if fahrenheit > 90:\n",
    "        print(\"It is hot\")\n",
    "    else:\n",
    "        print(\"It is not hot\")\n",
    "temperature_warning(45)"
   ]
  },
  {
   "cell_type": "markdown",
   "metadata": {},
   "source": [
    "## Two-Way Decisions"
   ]
  },
  {
   "cell_type": "code",
   "execution_count": 20,
   "metadata": {},
   "outputs": [
    {
     "ename": "ValueError",
     "evalue": "math domain error",
     "output_type": "error",
     "traceback": [
      "\u001b[1;31m---------------------------------------------------------------------------\u001b[0m",
      "\u001b[1;31mValueError\u001b[0m                                Traceback (most recent call last)",
      "\u001b[1;32m<ipython-input-20-40c5eb660d5f>\u001b[0m in \u001b[0;36m<module>\u001b[1;34m\u001b[0m\n\u001b[0;32m      6\u001b[0m     \u001b[0mroot2\u001b[0m \u001b[1;33m=\u001b[0m \u001b[1;33m(\u001b[0m\u001b[1;33m-\u001b[0m\u001b[0mb\u001b[0m \u001b[1;33m-\u001b[0m \u001b[0mdisc_root\u001b[0m\u001b[1;33m)\u001b[0m \u001b[1;33m/\u001b[0m \u001b[1;33m(\u001b[0m\u001b[1;36m2\u001b[0m \u001b[1;33m*\u001b[0m \u001b[0ma\u001b[0m\u001b[1;33m)\u001b[0m\u001b[1;33m\u001b[0m\u001b[1;33m\u001b[0m\u001b[0m\n\u001b[0;32m      7\u001b[0m     \u001b[0mprint\u001b[0m\u001b[1;33m(\u001b[0m\u001b[1;34m\"The solutions are\"\u001b[0m\u001b[1;33m,\u001b[0m \u001b[0ma\u001b[0m\u001b[1;33m,\u001b[0m \u001b[0mb\u001b[0m\u001b[1;33m)\u001b[0m\u001b[1;33m\u001b[0m\u001b[1;33m\u001b[0m\u001b[0m\n\u001b[1;32m----> 8\u001b[1;33m \u001b[0mquadratic\u001b[0m\u001b[1;33m(\u001b[0m\u001b[1;36m1\u001b[0m\u001b[1;33m,\u001b[0m \u001b[1;36m2\u001b[0m\u001b[1;33m,\u001b[0m \u001b[1;36m3\u001b[0m\u001b[1;33m)\u001b[0m\u001b[1;33m\u001b[0m\u001b[1;33m\u001b[0m\u001b[0m\n\u001b[0m",
      "\u001b[1;32m<ipython-input-20-40c5eb660d5f>\u001b[0m in \u001b[0;36mquadratic\u001b[1;34m(a, b, c)\u001b[0m\n\u001b[0;32m      2\u001b[0m \u001b[1;32mdef\u001b[0m \u001b[0mquadratic\u001b[0m\u001b[1;33m(\u001b[0m\u001b[0ma\u001b[0m\u001b[1;33m,\u001b[0m \u001b[0mb\u001b[0m\u001b[1;33m,\u001b[0m \u001b[0mc\u001b[0m\u001b[1;33m)\u001b[0m\u001b[1;33m:\u001b[0m\u001b[1;33m\u001b[0m\u001b[1;33m\u001b[0m\u001b[0m\n\u001b[0;32m      3\u001b[0m     \u001b[0mdiscrim\u001b[0m \u001b[1;33m=\u001b[0m \u001b[0mb\u001b[0m \u001b[1;33m*\u001b[0m \u001b[0mb\u001b[0m \u001b[1;33m-\u001b[0m \u001b[1;36m4\u001b[0m \u001b[1;33m*\u001b[0m \u001b[0ma\u001b[0m \u001b[1;33m*\u001b[0m \u001b[0mc\u001b[0m\u001b[1;33m\u001b[0m\u001b[1;33m\u001b[0m\u001b[0m\n\u001b[1;32m----> 4\u001b[1;33m     \u001b[0mdisc_root\u001b[0m \u001b[1;33m=\u001b[0m \u001b[0mmath\u001b[0m\u001b[1;33m.\u001b[0m\u001b[0msqrt\u001b[0m\u001b[1;33m(\u001b[0m\u001b[0mdiscrim\u001b[0m\u001b[1;33m)\u001b[0m\u001b[1;33m\u001b[0m\u001b[1;33m\u001b[0m\u001b[0m\n\u001b[0m\u001b[0;32m      5\u001b[0m     \u001b[0mroot1\u001b[0m \u001b[1;33m=\u001b[0m \u001b[1;33m(\u001b[0m\u001b[1;33m-\u001b[0m\u001b[0mb\u001b[0m \u001b[1;33m+\u001b[0m \u001b[0mdisc_root\u001b[0m\u001b[1;33m)\u001b[0m \u001b[1;33m/\u001b[0m \u001b[1;33m(\u001b[0m\u001b[1;36m2\u001b[0m \u001b[1;33m*\u001b[0m \u001b[0ma\u001b[0m\u001b[1;33m)\u001b[0m\u001b[1;33m\u001b[0m\u001b[1;33m\u001b[0m\u001b[0m\n\u001b[0;32m      6\u001b[0m     \u001b[0mroot2\u001b[0m \u001b[1;33m=\u001b[0m \u001b[1;33m(\u001b[0m\u001b[1;33m-\u001b[0m\u001b[0mb\u001b[0m \u001b[1;33m-\u001b[0m \u001b[0mdisc_root\u001b[0m\u001b[1;33m)\u001b[0m \u001b[1;33m/\u001b[0m \u001b[1;33m(\u001b[0m\u001b[1;36m2\u001b[0m \u001b[1;33m*\u001b[0m \u001b[0ma\u001b[0m\u001b[1;33m)\u001b[0m\u001b[1;33m\u001b[0m\u001b[1;33m\u001b[0m\u001b[0m\n",
      "\u001b[1;31mValueError\u001b[0m: math domain error"
     ]
    }
   ],
   "source": [
    "import math\n",
    "def quadratic(a, b, c):\n",
    "    discrim = b * b - 4 * a * c\n",
    "    disc_root = math.sqrt(discrim)\n",
    "    root1 = (-b + disc_root) / (2 * a)\n",
    "    root2 = (-b - disc_root) / (2 * a)\n",
    "    print(\"The solutions are\", a, b)\n",
    "quadratic(1, 2, 3)"
   ]
  },
  {
   "cell_type": "code",
   "execution_count": 21,
   "metadata": {},
   "outputs": [],
   "source": [
    "## Check the condition that caused the error\n",
    "def quadratic(a, b, c):\n",
    "    discrim = b * b - 4 * a * c\n",
    "    # Check condition\n",
    "    if (discrim > 0):\n",
    "        disc_root = math.sqrt(discrim)\n",
    "        root1 = (-b + disc_root) / (2 * a)\n",
    "        root2 = (-b - disc_root) / (2 * a)\n",
    "        print(\"The solutions are\", a, b)\n",
    "quadratic(1, 2, 3)"
   ]
  },
  {
   "cell_type": "markdown",
   "metadata": {},
   "source": [
    "The above does not inform the user that there are no roots. This can be solved using a two-way decision.<p>\n",
    "Two-way decisions are done using the if statement<code>\n",
    "    if &lt;condition&gt;:\n",
    "        &lt;body&gt;\n",
    "    else:\n",
    "        &lt;body&gt;</code><p>"
   ]
  },
  {
   "cell_type": "code",
   "execution_count": 27,
   "metadata": {},
   "outputs": [
    {
     "name": "stdout",
     "output_type": "stream",
     "text": [
      "There are no roots.\n",
      "The solutions are -0.2928932188134524 -1.7071067811865475\n"
     ]
    }
   ],
   "source": [
    "## Check the condition that caused the error\n",
    "## Print something out if there are no roots\n",
    "def quadratic(a, b, c):\n",
    "    discrim = b * b - 4 * a * c\n",
    "    # Check condition\n",
    "    if (discrim > 0):\n",
    "        disc_root = math.sqrt(discrim)\n",
    "        root1 = (-b + disc_root) / (2 * a)\n",
    "        root2 = (-b - disc_root) / (2 * a)\n",
    "        print(\"The solutions are\", root1, root2)\n",
    "    else:\n",
    "        print(\"There are no roots.\")\n",
    "quadratic(1, 2, 3)\n",
    "quadratic(2, 4, 1)"
   ]
  },
  {
   "cell_type": "markdown",
   "metadata": {},
   "source": [
    "## Multi-Way Decisions"
   ]
  },
  {
   "cell_type": "markdown",
   "metadata": {},
   "source": [
    "We can extend this to multiple conditions.<code>\n",
    "    if &lt;condition1&gt;:\n",
    "        &lt;body&gt;\n",
    "    elif &lt;condition2&gt;:\n",
    "        &lt;body&gt;\n",
    "    elif &lt;condition3&gt;:\n",
    "        &lt;body&gt;\n",
    "    else:\n",
    "        &lt;body&gt;</code><p></code>"
   ]
  },
  {
   "cell_type": "code",
   "execution_count": 28,
   "metadata": {},
   "outputs": [
    {
     "name": "stdout",
     "output_type": "stream",
     "text": [
      "There is a double root at -1.0\n"
     ]
    }
   ],
   "source": [
    "## Check the condition that caused the error\n",
    "## Print something out if there are no roots\n",
    "## There is another case when the roots are equal\n",
    "def quadratic(a, b, c):\n",
    "    discrim = b * b - 4 * a * c\n",
    "    # Check condition\n",
    "    if (discrim > 0):\n",
    "        disc_root = math.sqrt(discrim)\n",
    "        root1 = (-b + disc_root) / (2 * a)\n",
    "        root2 = (-b - disc_root) / (2 * a)\n",
    "        print(\"The solutions are\", a, b)\n",
    "    elif (discrim == 0):\n",
    "        root = -b / (2 * a)\n",
    "        print(\"There is a double root at\", root)\n",
    "    else:\n",
    "        print(\"There are no roots.\")\n",
    "quadratic(1, 2, 1)"
   ]
  },
  {
   "cell_type": "markdown",
   "metadata": {},
   "source": [
    "Conditions can also be nested in other conditions."
   ]
  },
  {
   "cell_type": "code",
   "execution_count": 30,
   "metadata": {},
   "outputs": [
    {
     "name": "stdout",
     "output_type": "stream",
     "text": [
      "There is a double root at -1.0\n"
     ]
    }
   ],
   "source": [
    "## Check the condition that caused the error\n",
    "## Print something out if there are no roots\n",
    "## There is another case when the roots are equal\n",
    "def quadratic(a, b, c):\n",
    "    discrim = b * b - 4 * a * c\n",
    "    # Check condition\n",
    "    if (discrim >= 0):\n",
    "        if (discrim == 0):\n",
    "            root = -b / (2 * a)\n",
    "            print(\"There is a double root at\", root)\n",
    "        else:\n",
    "            disc_root = math.sqrt(discrim)\n",
    "            root1 = (-b + disc_root) / (2 * a)\n",
    "            root2 = (-b - disc_root) / (2 * a)\n",
    "            print(\"The solutions are\", a, b)\n",
    "    else:\n",
    "        print(\"There are no roots.\")\n",
    "quadratic(1, 2, 1)"
   ]
  },
  {
   "cell_type": "markdown",
   "metadata": {},
   "source": [
    "## Exception Handling"
   ]
  },
  {
   "cell_type": "markdown",
   "metadata": {},
   "source": [
    "Some functions internally check for errors and return a special value to indicate that the operation was unsuccessful. For example, division by zero or square root of a negative number.<p>\n",
    "    These errors are called <i>exceptions</i>. We write code to <i>catch</i> and deal with these errors when the program is running.<p>\n",
    "The format is<code>\n",
    "    try:\n",
    "        &lt;body&gt;\n",
    "    except ErrorType:\n",
    "        &lt;handler&gt;\n",
    "    </code><p>\n",
    "If the statements inside &gt;body&lt; execute without error, control passes to the first statement after the <b>except</b> block. If an error occurs within &lt;body&gt;, then the &lt;handler&gt; is executed.<p>\n",
    "    Exception handling is useful for writing \"bullet proof\" code"
   ]
  },
  {
   "cell_type": "code",
   "execution_count": 31,
   "metadata": {},
   "outputs": [
    {
     "name": "stdout",
     "output_type": "stream",
     "text": [
      "There are no real roots.\n"
     ]
    }
   ],
   "source": [
    "def quadratic(a, b, c):\n",
    "    try:\n",
    "        discrim = b * b - 4 * a * c\n",
    "        disc_root = math.sqrt(discrim)\n",
    "        root1 = (-b + disc_root) / (2 * a)\n",
    "        root2 = (-b - disc_root) / (2 * a)\n",
    "        print(\"The solutions are\", a, b)\n",
    "    # This catches a specific error\n",
    "    except ValueError:\n",
    "        print(\"There are no real roots.\")\n",
    "quadratic(1, 2, 3)"
   ]
  },
  {
   "cell_type": "code",
   "execution_count": 33,
   "metadata": {},
   "outputs": [
    {
     "name": "stdout",
     "output_type": "stream",
     "text": [
      "Enter a floating point valueiu\n"
     ]
    },
    {
     "ename": "NameError",
     "evalue": "name 'iu' is not defined",
     "output_type": "error",
     "traceback": [
      "\u001b[1;31m---------------------------------------------------------------------------\u001b[0m",
      "\u001b[1;31mNameError\u001b[0m                                 Traceback (most recent call last)",
      "\u001b[1;32m<ipython-input-33-2e0950d4f1f6>\u001b[0m in \u001b[0;36m<module>\u001b[1;34m\u001b[0m\n\u001b[0;32m      1\u001b[0m \u001b[1;32mdef\u001b[0m \u001b[0minput_error_handling\u001b[0m\u001b[1;33m(\u001b[0m\u001b[1;33m)\u001b[0m\u001b[1;33m:\u001b[0m\u001b[1;33m\u001b[0m\u001b[1;33m\u001b[0m\u001b[0m\n\u001b[0;32m      2\u001b[0m     \u001b[0mx1\u001b[0m \u001b[1;33m=\u001b[0m \u001b[0meval\u001b[0m\u001b[1;33m(\u001b[0m\u001b[0minput\u001b[0m\u001b[1;33m(\u001b[0m\u001b[1;34m\"Enter a floating point value\"\u001b[0m\u001b[1;33m)\u001b[0m\u001b[1;33m)\u001b[0m\u001b[1;33m\u001b[0m\u001b[1;33m\u001b[0m\u001b[0m\n\u001b[1;32m----> 3\u001b[1;33m \u001b[0minput_error_handling\u001b[0m\u001b[1;33m(\u001b[0m\u001b[1;33m)\u001b[0m\u001b[1;33m\u001b[0m\u001b[1;33m\u001b[0m\u001b[0m\n\u001b[0m",
      "\u001b[1;32m<ipython-input-33-2e0950d4f1f6>\u001b[0m in \u001b[0;36minput_error_handling\u001b[1;34m()\u001b[0m\n\u001b[0;32m      1\u001b[0m \u001b[1;32mdef\u001b[0m \u001b[0minput_error_handling\u001b[0m\u001b[1;33m(\u001b[0m\u001b[1;33m)\u001b[0m\u001b[1;33m:\u001b[0m\u001b[1;33m\u001b[0m\u001b[1;33m\u001b[0m\u001b[0m\n\u001b[1;32m----> 2\u001b[1;33m     \u001b[0mx1\u001b[0m \u001b[1;33m=\u001b[0m \u001b[0meval\u001b[0m\u001b[1;33m(\u001b[0m\u001b[0minput\u001b[0m\u001b[1;33m(\u001b[0m\u001b[1;34m\"Enter a floating point value\"\u001b[0m\u001b[1;33m)\u001b[0m\u001b[1;33m)\u001b[0m\u001b[1;33m\u001b[0m\u001b[1;33m\u001b[0m\u001b[0m\n\u001b[0m\u001b[0;32m      3\u001b[0m \u001b[0minput_error_handling\u001b[0m\u001b[1;33m(\u001b[0m\u001b[1;33m)\u001b[0m\u001b[1;33m\u001b[0m\u001b[1;33m\u001b[0m\u001b[0m\n",
      "\u001b[1;32m<string>\u001b[0m in \u001b[0;36m<module>\u001b[1;34m\u001b[0m\n",
      "\u001b[1;31mNameError\u001b[0m: name 'iu' is not defined"
     ]
    }
   ],
   "source": [
    "## This code generates an error NameError if we do not enter a floating point\n",
    "def input_error_handling():\n",
    "    x1 = eval(input(\"Enter a floating point value\"))\n",
    "input_error_handling()"
   ]
  },
  {
   "cell_type": "code",
   "execution_count": 34,
   "metadata": {},
   "outputs": [
    {
     "name": "stdout",
     "output_type": "stream",
     "text": [
      "Enter a floating point valuekj\n",
      "You did not enter a floating point value\n"
     ]
    }
   ],
   "source": [
    "## Add an exception to overcome the error\n",
    "def input_error_handling():\n",
    "    try:\n",
    "        x1 = eval(input(\"Enter a floating point value\"))\n",
    "    except NameError:\n",
    "        print(\"You did not enter a floating point value\")\n",
    "input_error_handling()"
   ]
  },
  {
   "cell_type": "markdown",
   "metadata": {},
   "source": [
    "We can use multiple <b>except</b>s to handle different errors."
   ]
  },
  {
   "cell_type": "code",
   "execution_count": 35,
   "metadata": {},
   "outputs": [
    {
     "name": "stdout",
     "output_type": "stream",
     "text": [
      "Enter a floating point valuehkj\n",
      "You did not enter a floating point value\n"
     ]
    }
   ],
   "source": [
    "## Add an exception to overcome the error\n",
    "def input_error_handling():\n",
    "    try:\n",
    "        x1 = eval(input(\"Enter a floating point value\"))\n",
    "    except NameError as ne:\n",
    "        print(\"You did not enter a floating point value\")\n",
    "    except:\n",
    "        print(\"Unknown input processing error\")\n",
    "input_error_handling()"
   ]
  },
  {
   "cell_type": "markdown",
   "metadata": {},
   "source": [
    "## Max of Three"
   ]
  },
  {
   "cell_type": "code",
   "execution_count": 37,
   "metadata": {},
   "outputs": [
    {
     "name": "stdout",
     "output_type": "stream",
     "text": [
      "5\n",
      "5\n",
      "4\n"
     ]
    }
   ],
   "source": [
    "def max_of_three(x1, x2, x3):\n",
    "    if (x1 >= x2 >= x3):\n",
    "        return x1\n",
    "    elif (x2 >= x3):\n",
    "        return x2\n",
    "    else:\n",
    "        return x3\n",
    "print(max_of_three(5, 4, 3))\n",
    "print(max_of_three(5, 5, 5))\n",
    "print(max_of_three(5, 2, 4))"
   ]
  },
  {
   "cell_type": "code",
   "execution_count": 38,
   "metadata": {},
   "outputs": [
    {
     "name": "stdout",
     "output_type": "stream",
     "text": [
      "5\n",
      "5\n",
      "5\n"
     ]
    }
   ],
   "source": [
    "def max_of_three(x1, x2, x3):\n",
    "    if (x1 >= x2) and (x1 >= x3):\n",
    "        return x1\n",
    "    elif (x2 >= x1) and (x2 >= x3):\n",
    "        return x2\n",
    "    else:\n",
    "        return x3\n",
    "## This checks all possible combinations. Very inefficient\n",
    "print(max_of_three(5, 4, 3))\n",
    "print(max_of_three(5, 5, 5))\n",
    "print(max_of_three(5, 2, 4))"
   ]
  },
  {
   "cell_type": "code",
   "execution_count": 40,
   "metadata": {},
   "outputs": [
    {
     "name": "stdout",
     "output_type": "stream",
     "text": [
      "5\n",
      "5\n",
      "5\n"
     ]
    }
   ],
   "source": [
    "## Decision tree approach - exactly two comparisons\n",
    "def max_of_three(x1, x2, x3):\n",
    "    if (x1 >= x2):\n",
    "        if (x1 >= x3):\n",
    "            return x1\n",
    "        else:\n",
    "            return x3\n",
    "    else:\n",
    "        if (x2 >= x3):\n",
    "            return x2\n",
    "        else:\n",
    "            return x3\n",
    "print(max_of_three(5, 4, 3))\n",
    "print(max_of_three(5, 5, 5))\n",
    "print(max_of_three(5, 2, 4))"
   ]
  },
  {
   "cell_type": "code",
   "execution_count": 41,
   "metadata": {},
   "outputs": [
    {
     "name": "stdout",
     "output_type": "stream",
     "text": [
      "5\n",
      "5\n",
      "5\n"
     ]
    }
   ],
   "source": [
    "# Sequential approach - scan a list and keep track of the max found so far\n",
    "def max_of_three(x1, x2, x3):\n",
    "    max_val = x1\n",
    "    if (x2 > max_val):\n",
    "        max_val = x2\n",
    "    if (x3 > max_val):\n",
    "        max_val = x3\n",
    "    return max_val\n",
    "print(max_of_three(5, 4, 3))\n",
    "print(max_of_three(5, 5, 5))\n",
    "print(max_of_three(5, 2, 4))"
   ]
  },
  {
   "cell_type": "code",
   "execution_count": 43,
   "metadata": {},
   "outputs": [
    {
     "name": "stdout",
     "output_type": "stream",
     "text": [
      "5\n",
      "5\n",
      "5\n"
     ]
    }
   ],
   "source": [
    "def max_of_n(x_list):\n",
    "    max_val = x_list[0]\n",
    "    for num in x_list:\n",
    "        if (num > max_val):\n",
    "            max_val = num\n",
    "    return max_val\n",
    "print(max_of_n([5, 4, 3]))\n",
    "print(max_of_n([5, 5, 5]))\n",
    "print(max_of_n([5, 2, 4]))"
   ]
  },
  {
   "cell_type": "code",
   "execution_count": null,
   "metadata": {},
   "outputs": [],
   "source": []
  }
 ],
 "metadata": {
  "kernelspec": {
   "display_name": "Python 3",
   "language": "python",
   "name": "python3"
  },
  "language_info": {
   "codemirror_mode": {
    "name": "ipython",
    "version": 3
   },
   "file_extension": ".py",
   "mimetype": "text/x-python",
   "name": "python",
   "nbconvert_exporter": "python",
   "pygments_lexer": "ipython3",
   "version": "3.9.1"
  }
 },
 "nbformat": 4,
 "nbformat_minor": 4
}
