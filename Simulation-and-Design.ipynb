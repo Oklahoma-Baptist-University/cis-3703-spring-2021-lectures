{
 "cells": [
  {
   "cell_type": "markdown",
   "metadata": {},
   "source": [
    "# CIS 3703 Python Programming - Spring 2021¶"
   ]
  },
  {
   "cell_type": "code",
   "execution_count": 1,
   "metadata": {},
   "outputs": [],
   "source": [
    "# The following should be included in each Jupyter Notebook. We will discuss this later in the course.\n",
    "# For now, just include these statements.\n",
    "\n",
    "# For more information, see\n",
    "# https://ipython.readthedocs.io/en/stable/config/extensions/autoreload.html\n",
    "\n",
    "%load_ext autoreload\n",
    "%autoreload 2"
   ]
  },
  {
   "cell_type": "markdown",
   "metadata": {},
   "source": [
    "<i>Simulation</i> is used to model real-world processes to provide otherwise unobservable information. For example, what strategies a player might employ in a game, predicting the weather, designing aircraft, special effects, etc.<p>These are very complex problems, but simulation can be used to shed some light on them."
   ]
  },
  {
   "cell_type": "markdown",
   "metadata": {},
   "source": [
    "## Racquetball Simulation"
   ]
  },
  {
   "cell_type": "markdown",
   "metadata": {},
   "source": [
    "Some simple rules\n",
    "<ul>\n",
    "    <li>A player starts the game by serving\n",
    "    <li>Players alternate hitting the ball to keep it in play\n",
    "    <li>The rally ends when one of the players fails to hit a legal shot\n",
    "    <li>The player who misses the shot loses the rally\n",
    "    <li>If the server wins the rally, a point is awarded (players can only get points when they serve)\n",
    "    <li>The first player to 15 wins\n",
    "</ul>\n",
    "Detailed specifications<p>\n",
    "<i>Input</i> - The service probabilities of the players. The number of games to simulate<p>\n",
    "<i>Output</i> - A formatted report showing the number of games simulated and the number of wins and winning percentage of each player"
   ]
  },
  {
   "cell_type": "markdown",
   "metadata": {},
   "source": [
    "## Pseudo-Random Numbers"
   ]
  },
  {
   "cell_type": "markdown",
   "metadata": {},
   "source": [
    "We will use the computer's ability to generate pseudo random numbers to model the uncertainty in the game play. This is also known as a <i>Monte Carlo</i> simulation.<p>\n",
    "A pseudo random number generator works by starting with some seed value that is fed into a function to generate a \"random\" number. If another number is needed, the previous value is fed into the algorithm. If implemented correctly, the sequence of numbers will look \"random\".<p>\n",
    "Python's implementation uses a seed value based on the date and time when the module was loaded ... a different seed value is generated each time you run the program. This means you will get a unique sequence of pseudo random numbers."
   ]
  },
  {
   "cell_type": "code",
   "execution_count": 7,
   "metadata": {},
   "outputs": [
    {
     "name": "stdout",
     "output_type": "stream",
     "text": [
      "3 4 5 4 2 2 4 5 4 1 2 5 3 3 2 1 2 5 2 1 3 3 5 2 2 4 5 1 2 5 4 5 5 1 5 1 2 1 2 3 4 4 1 3 5 5 3 4 5 1 "
     ]
    }
   ],
   "source": [
    "from random import randrange\n",
    "# Select a pseudo random integer number from the range 1, 6\n",
    "for i in range(50):\n",
    "    print(randrange(1, 6), end=\" \")"
   ]
  },
  {
   "cell_type": "code",
   "execution_count": 8,
   "metadata": {},
   "outputs": [
    {
     "name": "stdout",
     "output_type": "stream",
     "text": [
      "1 4 0 0 1 4 1 4 3 0 "
     ]
    }
   ],
   "source": [
    "# It works like the range function\n",
    "for i in range(10):\n",
    "    print(randrange(5), end=\" \")"
   ]
  },
  {
   "cell_type": "code",
   "execution_count": 14,
   "metadata": {},
   "outputs": [
    {
     "name": "stdout",
     "output_type": "stream",
     "text": [
      "3.00 3.00 3.00 3.00 5.00 5.00 5.00 3.00 3.00 5.00 "
     ]
    }
   ],
   "source": [
    "# It works like the range function\n",
    "for i in range(10):\n",
    "    print(\"{0:0.2f}\".format(randrange(3, 10, 2)), end=\" \")"
   ]
  },
  {
   "cell_type": "code",
   "execution_count": 12,
   "metadata": {},
   "outputs": [],
   "source": [
    "# Over the long term, this will generate a uniform distribution"
   ]
  },
  {
   "cell_type": "code",
   "execution_count": 17,
   "metadata": {},
   "outputs": [
    {
     "name": "stdout",
     "output_type": "stream",
     "text": [
      "0.05 0.26 0.06 0.76 0.64 0.42 0.94 0.97 0.34 0.44 "
     ]
    }
   ],
   "source": [
    "# To generate random floating point values between 0 and 1 (not including) ...\n",
    "from random import random\n",
    "for i in range(10):\n",
    "    print(\"{0:0.2f}\".format(random()), end=\" \")"
   ]
  },
  {
   "cell_type": "code",
   "execution_count": 21,
   "metadata": {},
   "outputs": [
    {
     "name": "stdout",
     "output_type": "stream",
     "text": [
      "Win prob: 0.779\n",
      "Win prob: 0.747\n",
      "Win prob: 0.74\n",
      "Win prob: 0.749\n"
     ]
    }
   ],
   "source": [
    "# How do we use this in our simulation?\n",
    "# Suppose the win probability is 0.70\n",
    "def simple_sim(num_games, win_prob):\n",
    "    num_wins = 0\n",
    "    # Do 50 simulations\n",
    "    for i in range(num_games):\n",
    "        prob = random()\n",
    "        if (prob < win_prob):\n",
    "            num_wins = num_wins + 1\n",
    "    print(\"Win prob:\", num_wins / num_games)\n",
    "simple_sim(num_games=1000, win_prob=0.76)\n",
    "simple_sim(num_games=1000, win_prob=0.76)\n",
    "simple_sim(num_games=1000, win_prob=0.76)\n",
    "simple_sim(num_games=1000, win_prob=0.76)"
   ]
  },
  {
   "cell_type": "markdown",
   "metadata": {},
   "source": [
    "## Top-Down Design"
   ]
  },
  {
   "cell_type": "markdown",
   "metadata": {},
   "source": [
    "Start with the general problem and express a solution in smaller problems, do the same with the smaller problems. <p>\n",
    "<b><i>Outline</i></b>\n",
    "<ul>\n",
    "    <li>Print intro\n",
    "    <li>Get inputs (prob_a, prob_b, num_games)\n",
    "    <li>Simulate n games\n",
    "    <li>Print report\n",
    "</ul>"
   ]
  },
  {
   "cell_type": "markdown",
   "metadata": {},
   "source": [
    "### Iteration #1 - Provide the top-level implementation"
   ]
  },
  {
   "cell_type": "code",
   "execution_count": 22,
   "metadata": {},
   "outputs": [
    {
     "name": "stdout",
     "output_type": "stream",
     "text": [
      "Print intro : Under construction\n",
      "Get inputs : Under construction\n",
      "Simulate n games : Under construction\n",
      "Print report : Under construction\n"
     ]
    }
   ],
   "source": [
    "## High level outline\n",
    "\n",
    "def print_intro():\n",
    "    print(\"Print intro : Under construction\")\n",
    "\n",
    "def get_inputs():\n",
    "    print(\"Get inputs : Under construction\")\n",
    "\n",
    "def simulate():\n",
    "    print(\"Simulate n games : Under construction\")\n",
    "\n",
    "def print_results():\n",
    "    print(\"Print report : Under construction\")\n",
    "\n",
    "# Simulate a racquetball game\n",
    "def racquetball_sim():\n",
    "    print_intro()\n",
    "    get_inputs()\n",
    "    simulate()\n",
    "    print_results()\n",
    "racquetball_sim()"
   ]
  },
  {
   "cell_type": "markdown",
   "metadata": {},
   "source": [
    "### Iteration #2 - Define interface / signatures"
   ]
  },
  {
   "cell_type": "code",
   "execution_count": 23,
   "metadata": {},
   "outputs": [
    {
     "name": "stdout",
     "output_type": "stream",
     "text": [
      "Print intro : Under construction\n",
      "Get inputs : Under construction\n",
      "Simulate n games : Under construction\n",
      "Print report : Under construction\n"
     ]
    }
   ],
   "source": [
    "## Start to add some detail ... define the inputs and outputs of each function\n",
    "## This is called the interface or signature of a function and is very important\n",
    "\n",
    "def print_intro():\n",
    "    print(\"Print intro : Under construction\")\n",
    "\n",
    "def get_inputs():\n",
    "    print(\"Get inputs : Under construction\")\n",
    "    prob_a = 0.0\n",
    "    prob_b = 0.0\n",
    "    num_games = 0.0\n",
    "    return prob_a, prob_b, num_games\n",
    "\n",
    "def simulate(prob_a, prob_b, num_games):\n",
    "    print(\"Simulate n games : Under construction\")\n",
    "    games_won_by_a = 0\n",
    "    games_won_by_b = 0\n",
    "    return games_won_by_a, games_won_by_b\n",
    "\n",
    "def print_results(games_won_by_a, games_won_by_b):\n",
    "    print(\"Print report : Under construction\")\n",
    "\n",
    "# Simulate a racquetball game\n",
    "def racquetball_sim():\n",
    "    print_intro()\n",
    "    prob_a, prob_b, num_games = get_inputs()\n",
    "    games_won_by_a, games_won_by_b = simulate(prob_a, prob_b, num_games)\n",
    "    print_results(games_won_by_a, games_won_by_b)\n",
    "racquetball_sim()\n",
    "\n",
    "## At this point, we could divide the work among a team of developers. The high level\n",
    "## program does not care how the functions will be implemented, only that they\n",
    "## conform to the interface\n",
    "\n",
    "## This is called abstraction"
   ]
  },
  {
   "cell_type": "markdown",
   "metadata": {},
   "source": [
    "The design can be displayed graphically using a structure chart"
   ]
  },
  {
   "cell_type": "markdown",
   "metadata": {},
   "source": [
    "### Iteration #3 - Provide some details"
   ]
  },
  {
   "cell_type": "code",
   "execution_count": 24,
   "metadata": {},
   "outputs": [
    {
     "name": "stdout",
     "output_type": "stream",
     "text": [
      "This game simulates racquetball between two players, A and B\n",
      "What is the probability that A wins a serve?.7\n",
      "What is the probability that B wins a serve?.8\n",
      "How many games do you want to play?20\n",
      "Simulate one game - under construction\n",
      "Simulate one game - under construction\n",
      "Simulate one game - under construction\n",
      "Simulate one game - under construction\n",
      "Simulate one game - under construction\n",
      "Simulate one game - under construction\n",
      "Simulate one game - under construction\n",
      "Simulate one game - under construction\n",
      "Simulate one game - under construction\n",
      "Simulate one game - under construction\n",
      "Simulate one game - under construction\n",
      "Simulate one game - under construction\n",
      "Simulate one game - under construction\n",
      "Simulate one game - under construction\n",
      "Simulate one game - under construction\n",
      "Simulate one game - under construction\n",
      "Simulate one game - under construction\n",
      "Simulate one game - under construction\n",
      "Simulate one game - under construction\n",
      "Simulate one game - under construction\n",
      "Player A won 0.0  of the games.\n",
      "Player B won 1.0  of the games.\n"
     ]
    }
   ],
   "source": [
    "def print_intro():\n",
    "    print(\"This game simulates racquetball between two players, A and B\")\n",
    "\n",
    "def get_inputs():\n",
    "    prob_a = float(input(\"What is the probability that A wins a serve?\"))\n",
    "    prob_b = float(input(\"What is the probability that B wins a serve?\"))\n",
    "    num_games = int(input(\"How many games do you want to play?\"))\n",
    "    return prob_a, prob_b, num_games\n",
    "\n",
    "def simulate_game(prob_a, prob_b):\n",
    "    print(\"Simulate one game - under construction\")\n",
    "    score_a = 1\n",
    "    score_b = 1 \n",
    "    return score_a, score_b\n",
    "    \n",
    "def simulate(prob_a, prob_b, num_games):\n",
    "    games_won_by_a = 0\n",
    "    games_won_by_b = 0\n",
    "    for game in range(num_games):\n",
    "        score_a, score_b = simulate_game(prob_a, prob_b)\n",
    "        if (score_a > score_b):\n",
    "            games_won_by_a = games_won_by_a + 1\n",
    "        else:\n",
    "            games_won_by_b = games_won_by_b + 1\n",
    "    return games_won_by_a, games_won_by_b\n",
    "\n",
    "def print_results(games_won_by_a, games_won_by_b):\n",
    "    print(\"Player A won\", games_won_by_a / (games_won_by_a + games_won_by_b), \" of the games.\")\n",
    "    print(\"Player B won\", games_won_by_b / (games_won_by_a + games_won_by_b), \" of the games.\")\n",
    "\n",
    "# Simulate a racquetball game\n",
    "def racquetball_sim():\n",
    "    print_intro()\n",
    "    prob_a, prob_b, num_games = get_inputs()\n",
    "    games_won_by_a, games_won_by_b = simulate(prob_a, prob_b, num_games)\n",
    "    print_results(games_won_by_a, games_won_by_b)\n",
    "racquetball_sim()"
   ]
  },
  {
   "cell_type": "markdown",
   "metadata": {},
   "source": [
    "Update the structure chart ..."
   ]
  },
  {
   "cell_type": "markdown",
   "metadata": {},
   "source": [
    "### Iteration #4 - Implement single game simulation"
   ]
  },
  {
   "cell_type": "code",
   "execution_count": 7,
   "metadata": {},
   "outputs": [
    {
     "name": "stdout",
     "output_type": "stream",
     "text": [
      "This game simulates racquetball between two players, A and B\n",
      "What is the probability that A wins a serve?.5\n",
      "What is the probability that B wins a serve?.5\n",
      "How many games do you want to play?10000\n",
      "Player A won 5241 games (52.4%)\n",
      "Player B won 4759 games (47.6%)\n"
     ]
    }
   ],
   "source": [
    "from random import random\n",
    "def print_intro():\n",
    "    print(\"This game simulates racquetball between two players, A and B\")\n",
    "\n",
    "def get_inputs():\n",
    "    prob_a = float(input(\"What is the probability that A wins a serve?\"))\n",
    "    prob_b = float(input(\"What is the probability that B wins a serve?\"))\n",
    "    num_games = int(input(\"How many games do you want to play?\"))\n",
    "    return prob_a, prob_b, num_games\n",
    "\n",
    "def game_over(score_a, score_b):\n",
    "    return (score_a == 15) or (score_b == 15)\n",
    "    \n",
    "def simulate_game(prob_a, prob_b):\n",
    "    score_a = 0\n",
    "    score_b = 0\n",
    "    server = \"A\"\n",
    "    while not game_over(score_a, score_b):\n",
    "        if (server == \"A\"):\n",
    "            if (random() < prob_a):\n",
    "                score_a = score_a + 1\n",
    "            else:\n",
    "                server = \"B\"\n",
    "        else:\n",
    "            if (random() < prob_b):\n",
    "                score_b = score_b + 1\n",
    "            else:\n",
    "                server = \"A\"\n",
    "                \n",
    "    return score_a, score_b\n",
    "    \n",
    "def simulate(prob_a, prob_b, num_games):\n",
    "    games_won_by_a = 0\n",
    "    games_won_by_b = 0\n",
    "    for game in range(num_games):\n",
    "        score_a, score_b = simulate_game(prob_a, prob_b)\n",
    "        if (score_a > score_b):\n",
    "            games_won_by_a = games_won_by_a + 1\n",
    "        else:\n",
    "            games_won_by_b = games_won_by_b + 1\n",
    "    return games_won_by_a, games_won_by_b\n",
    "\n",
    "def print_results(games_won_by_a, games_won_by_b):\n",
    "    print(\"Player A won {0} games ({1:0.1%})\".format(games_won_by_a, games_won_by_a / (games_won_by_a + games_won_by_b)))\n",
    "    print(\"Player B won {0} games ({1:0.1%})\".format(games_won_by_b, games_won_by_b / (games_won_by_a + games_won_by_b)))\n",
    "\n",
    "# Simulate a racquetball game\n",
    "def racquetball_sim():\n",
    "    print_intro()\n",
    "    prob_a, prob_b, num_games = get_inputs()\n",
    "    games_won_by_a, games_won_by_b = simulate(prob_a, prob_b, num_games)\n",
    "    print_results(games_won_by_a, games_won_by_b)\n",
    "racquetball_sim()"
   ]
  },
  {
   "cell_type": "markdown",
   "metadata": {},
   "source": [
    "## Design Summary"
   ]
  },
  {
   "cell_type": "markdown",
   "metadata": {},
   "source": [
    "<ol>\n",
    "    <li>Express the solution / algorithm as a series of smaller problems\n",
    "    <li>Define function interfaces\n",
    "    <li>Detail the algorithm by expressing it inter terms of its interfaces with the smaller problems\n",
    "    <li>Repeat for the smaller problems\n",
    "</ol>"
   ]
  },
  {
   "cell_type": "markdown",
   "metadata": {},
   "source": [
    "## Other design techniques"
   ]
  },
  {
   "cell_type": "markdown",
   "metadata": {},
   "source": [
    "Prototyping / spiral development - start with a simple version of the program and try to gradually add features until it meets the full specifications. Specify, design, implement and test each prototype. Then, add more features and repeat<p>\n",
    "In this example, we might start with simulation of one game as the first prototype, next prototype might be adding parameters, simulating multiple games, etc. ...\n"
   ]
  }
 ],
 "metadata": {
  "kernelspec": {
   "display_name": "Python 3",
   "language": "python",
   "name": "python3"
  },
  "language_info": {
   "codemirror_mode": {
    "name": "ipython",
    "version": 3
   },
   "file_extension": ".py",
   "mimetype": "text/x-python",
   "name": "python",
   "nbconvert_exporter": "python",
   "pygments_lexer": "ipython3",
   "version": "3.9.1"
  }
 },
 "nbformat": 4,
 "nbformat_minor": 4
}
