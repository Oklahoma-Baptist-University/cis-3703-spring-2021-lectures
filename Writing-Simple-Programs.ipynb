{
 "cells": [
  {
   "cell_type": "markdown",
   "metadata": {},
   "source": [
    "# CIS 3703 Python Programming - Spring 2021"
   ]
  },
  {
   "cell_type": "code",
   "execution_count": 1,
   "metadata": {},
   "outputs": [],
   "source": [
    "# The following should be included in each Jupyter Notebook. We will discuss this later in the course.\n",
    "# For now, just include these statements.\n",
    "\n",
    "# For more information, see\n",
    "# https://ipython.readthedocs.io/en/stable/config/extensions/autoreload.html\n",
    "\n",
    "%load_ext autoreload\n",
    "%autoreload 2"
   ]
  },
  {
   "cell_type": "markdown",
   "metadata": {},
   "source": [
    "## The Software Development Process"
   ]
  },
  {
   "cell_type": "markdown",
   "metadata": {},
   "source": [
    "<ul>\n",
    "    <li>Analyze the problem - what is the problem you are trying to solve?\n",
    "    <li>Determine specifications - what exactly will the program do? Don't worry about the how\n",
    "    <li>Create a design - what are the algorithms / data structures to use?\n",
    "    <li>Implement the design -translate the design into program code\n",
    "    <li>Test / debug the program - see if it works. If there are errors (bugs), then fix them (debug). Try to break the program\n",
    "    <li>Maintain the program - continue program development\n",
    "</ul>"
   ]
  },
  {
   "cell_type": "markdown",
   "metadata": {},
   "source": [
    "<i>Pick up here on FEB 01</i>"
   ]
  },
  {
   "cell_type": "markdown",
   "metadata": {},
   "source": [
    "## An Example Program"
   ]
  },
  {
   "cell_type": "markdown",
   "metadata": {},
   "source": [
    "Temperature conversion"
   ]
  },
  {
   "cell_type": "code",
   "execution_count": 2,
   "metadata": {},
   "outputs": [],
   "source": [
    "def tempConversion():\n",
    "    celsius = eval(input(\"What is the Celsius temperature? \"))\n",
    "    print(\"The user entered \", celsius, \" degrees C\")\n",
    "    fahrenheit = 9 / 5 * celsius + 32\n",
    "    print(\"The temperature is \", fahrenheit, \"degrees Fahrenheit\")"
   ]
  },
  {
   "cell_type": "code",
   "execution_count": 3,
   "metadata": {},
   "outputs": [
    {
     "name": "stdout",
     "output_type": "stream",
     "text": [
      "What is the Celsius temperature? 12\n",
      "The user entered  12  degrees C\n",
      "The temperature is  53.6 degrees Fahrenheit\n"
     ]
    }
   ],
   "source": [
    "tempConversion()"
   ]
  },
  {
   "cell_type": "markdown",
   "metadata": {},
   "source": [
    "## Elements of Programs"
   ]
  },
  {
   "cell_type": "markdown",
   "metadata": {},
   "source": [
    "### Names"
   ]
  },
  {
   "cell_type": "markdown",
   "metadata": {},
   "source": [
    "aka identifiers.\n",
    "<ul>\n",
    "    <li>Begin with letter or underscore, followed by any sequence of letters, digits or underscores\n",
    "    <li>Case sensitive\n",
    "    <li><i><b>Choose names that describe the thing being named</b></i>\n",
    "    <li>Avoid using reserved keywords / names\n",
    "</ul>"
   ]
  },
  {
   "cell_type": "code",
   "execution_count": 5,
   "metadata": {},
   "outputs": [],
   "source": [
    "def __89gjaytiuads():\n",
    "    hlkugoiuays = eval(input(\"What is the hlkugoiuays temperature? \"))\n",
    "    print(\"The user entered \", hlkugoiuays, \" degrees hlkugoiuays\")\n",
    "    liuYREHGLH = 9 / 5 * hlkugoiuays + 32\n",
    "    print(\"The temperature is \", liuYREHGLH, \"degrees liuYREHGLH\")"
   ]
  },
  {
   "cell_type": "markdown",
   "metadata": {},
   "source": [
    "### Expressions"
   ]
  },
  {
   "cell_type": "markdown",
   "metadata": {},
   "source": [
    "Fragments of program code that produce or calculate new data.\n",
    "<p>A literal is a specific value (numbers, strings)\n",
    "<p>The process of turning an expression into an underlying data type is called <i>evaluation</i>"
   ]
  },
  {
   "cell_type": "code",
   "execution_count": null,
   "metadata": {},
   "outputs": [],
   "source": [
    "# Example literals\n",
    "32"
   ]
  },
  {
   "cell_type": "code",
   "execution_count": null,
   "metadata": {},
   "outputs": [],
   "source": [
    "\"Hello\""
   ]
  },
  {
   "cell_type": "code",
   "execution_count": null,
   "metadata": {},
   "outputs": [],
   "source": [
    "\"32\""
   ]
  },
  {
   "cell_type": "code",
   "execution_count": 6,
   "metadata": {},
   "outputs": [
    {
     "data": {
      "text/plain": [
       "5"
      ]
     },
     "execution_count": 6,
     "metadata": {},
     "output_type": "execute_result"
    }
   ],
   "source": [
    "# When an identifier appears as an expression its value is retrieved to provide a result for the expression\n",
    "# Assign a value\n",
    "x = 5\n",
    "# What is the value\n",
    "x"
   ]
  },
  {
   "cell_type": "code",
   "execution_count": 7,
   "metadata": {},
   "outputs": [
    {
     "name": "stdout",
     "output_type": "stream",
     "text": [
      "5\n"
     ]
    }
   ],
   "source": [
    "# x can now be used in an expression\n",
    "print(x)"
   ]
  },
  {
   "cell_type": "code",
   "execution_count": 8,
   "metadata": {},
   "outputs": [
    {
     "ename": "NameError",
     "evalue": "name 'notDefined' is not defined",
     "output_type": "error",
     "traceback": [
      "\u001b[1;31m---------------------------------------------------------------------------\u001b[0m",
      "\u001b[1;31mNameError\u001b[0m                                 Traceback (most recent call last)",
      "\u001b[1;32m<ipython-input-8-1c0e3805dfdd>\u001b[0m in \u001b[0;36m<module>\u001b[1;34m\u001b[0m\n\u001b[0;32m      1\u001b[0m \u001b[1;31m# Try to print something not defined\u001b[0m\u001b[1;33m\u001b[0m\u001b[1;33m\u001b[0m\u001b[1;33m\u001b[0m\u001b[0m\n\u001b[1;32m----> 2\u001b[1;33m \u001b[0mprint\u001b[0m\u001b[1;33m(\u001b[0m\u001b[0mnotDefined\u001b[0m\u001b[1;33m)\u001b[0m\u001b[1;33m\u001b[0m\u001b[1;33m\u001b[0m\u001b[0m\n\u001b[0m",
      "\u001b[1;31mNameError\u001b[0m: name 'notDefined' is not defined"
     ]
    }
   ],
   "source": [
    "# Try to print something not defined\n",
    "print(notDefined)"
   ]
  },
  {
   "cell_type": "code",
   "execution_count": 10,
   "metadata": {},
   "outputs": [
    {
     "name": "stdout",
     "output_type": "stream",
     "text": [
      "False\n"
     ]
    }
   ],
   "source": [
    "notDefined = False\n",
    "print(notDefined)"
   ]
  },
  {
   "cell_type": "markdown",
   "metadata": {},
   "source": [
    "The usual operators are available for expressions"
   ]
  },
  {
   "cell_type": "code",
   "execution_count": 12,
   "metadata": {},
   "outputs": [
    {
     "data": {
      "text/plain": [
       "0.35100000000000003"
      ]
     },
     "execution_count": 12,
     "metadata": {},
     "output_type": "execute_result"
    }
   ],
   "source": [
    "x = .1\n",
    "3.9 * x * (1 - x)"
   ]
  },
  {
   "cell_type": "code",
   "execution_count": 13,
   "metadata": {},
   "outputs": [
    {
     "data": {
      "text/plain": [
       "66.2"
      ]
     },
     "execution_count": 13,
     "metadata": {},
     "output_type": "execute_result"
    }
   ],
   "source": [
    "celsius = 19\n",
    "9/5 * celsius + 32"
   ]
  },
  {
   "cell_type": "code",
   "execution_count": 14,
   "metadata": {},
   "outputs": [
    {
     "data": {
      "text/plain": [
       "'Captain America'"
      ]
     },
     "execution_count": 14,
     "metadata": {},
     "output_type": "execute_result"
    }
   ],
   "source": [
    "# The + operator on strings - concatenation\n",
    "\"Captain \" + \"America\""
   ]
  },
  {
   "cell_type": "markdown",
   "metadata": {},
   "source": [
    "## Output Statements"
   ]
  },
  {
   "cell_type": "markdown",
   "metadata": {},
   "source": [
    "A meta-language is used for describing programming languages.\n",
    "<code>\n",
    "    print(&lt;expr1&gt;, &lt;expr2&gt;, ..., &lt;exprn&gt;)\n",
    "    print()\n",
    "</code>"
   ]
  },
  {
   "cell_type": "code",
   "execution_count": 15,
   "metadata": {},
   "outputs": [
    {
     "name": "stdout",
     "output_type": "stream",
     "text": [
      "7\n",
      "3 4 7\n",
      "The answer is  7\n"
     ]
    }
   ],
   "source": [
    "print(3+4)\n",
    "print(3, 4, 3 + 4)\n",
    "print(\"The answer is \", 3 + 4)"
   ]
  },
  {
   "cell_type": "markdown",
   "metadata": {},
   "source": [
    "The print function automatically appends some text after all the expressions are printed. By default, it is the newline character ('\\n'). It can be overridden"
   ]
  },
  {
   "cell_type": "code",
   "execution_count": 16,
   "metadata": {},
   "outputs": [
    {
     "name": "stdout",
     "output_type": "stream",
     "text": [
      "The answer is  7!!"
     ]
    }
   ],
   "source": [
    "print(\"The answer is \", 3 + 4, end=\"!!\")"
   ]
  },
  {
   "cell_type": "code",
   "execution_count": 17,
   "metadata": {},
   "outputs": [
    {
     "name": "stdout",
     "output_type": "stream",
     "text": [
      "The answer is  7!!Not another line\n"
     ]
    }
   ],
   "source": [
    "print(\"The answer is \", 3 + 4, end=\"!!\")\n",
    "print(\"Not another line\")"
   ]
  },
  {
   "cell_type": "code",
   "execution_count": 18,
   "metadata": {},
   "outputs": [
    {
     "name": "stdout",
     "output_type": "stream",
     "text": [
      "The answer is  7\n",
      "Not another line\n"
     ]
    }
   ],
   "source": [
    "print(\"The answer is \", 3 + 4)\n",
    "print(\"Not another line\")"
   ]
  },
  {
   "cell_type": "markdown",
   "metadata": {},
   "source": [
    "## Assignment Statements"
   ]
  },
  {
   "cell_type": "markdown",
   "metadata": {},
   "source": [
    "The basic assignment statement. The expression on the right side is evaluated to produce a value and that value is associated with the variable on the left side\n",
    "<code>\n",
    "    &lt;variable&gt; = &lt;expr&gt;\n",
    "</code>\n",
    "Variables can be thought of as a named storage location in memory - a box to put things in."
   ]
  },
  {
   "cell_type": "code",
   "execution_count": 20,
   "metadata": {},
   "outputs": [
    {
     "data": {
      "text/plain": [
       "3"
      ]
     },
     "execution_count": 20,
     "metadata": {},
     "output_type": "execute_result"
    }
   ],
   "source": [
    "x = 3\n",
    "x"
   ]
  },
  {
   "cell_type": "code",
   "execution_count": 22,
   "metadata": {},
   "outputs": [],
   "source": [
    "#3 = x"
   ]
  },
  {
   "cell_type": "code",
   "execution_count": 23,
   "metadata": {},
   "outputs": [],
   "source": [
    "x = 3.9 * x * (1 - x)\n",
    "fahrenheit = 9 / 5 * celsius + 32\n",
    "x = 5"
   ]
  },
  {
   "cell_type": "code",
   "execution_count": 24,
   "metadata": {},
   "outputs": [
    {
     "name": "stdout",
     "output_type": "stream",
     "text": [
      "myVar =  0\n",
      "myVar =  7\n",
      "myVar =  8\n"
     ]
    }
   ],
   "source": [
    "# A variable can be assigned multiple times\n",
    "myVar = 0\n",
    "print(\"myVar = \", myVar)\n",
    "myVar = 7\n",
    "print(\"myVar = \", myVar)\n",
    "myVar = myVar + 1\n",
    "print(\"myVar = \", myVar)"
   ]
  },
  {
   "cell_type": "markdown",
   "metadata": {},
   "source": [
    "The input statement is used to get information from the user.\n",
    "<code>\n",
    "    &lt;variable&gt; = input(&lt;prompt&gt;)\n",
    "</code>\n",
    "Python prints the prompt, waits for user input, stores the entered information in a string an assigns it to the variable."
   ]
  },
  {
   "cell_type": "code",
   "execution_count": 26,
   "metadata": {},
   "outputs": [
    {
     "name": "stdout",
     "output_type": "stream",
     "text": [
      "What is your name?987awerlga7^(*&^\n",
      "You entered  987awerlga7^(*&^\n"
     ]
    }
   ],
   "source": [
    "# Get the user's name\n",
    "name = input(\"What is your name?\")\n",
    "print(\"You entered \", name)"
   ]
  },
  {
   "cell_type": "markdown",
   "metadata": {},
   "source": [
    "When the input is a number, it needs to be <i>evaluated</i>.\n",
    "<code>\n",
    "    &lt;variable&gt; = eval(input(&lt;prompt&gt;))\n",
    "</code>"
   ]
  },
  {
   "cell_type": "code",
   "execution_count": 27,
   "metadata": {},
   "outputs": [
    {
     "name": "stdout",
     "output_type": "stream",
     "text": [
      "Enter the temperature in degrees celsius45\n",
      "45  degrees C is  113.0  in degrees F.\n"
     ]
    }
   ],
   "source": [
    "celsius = eval(input(\"Enter the temperature in degrees celsius\"))\n",
    "fahrenheit = 9/5 * celsius + 32\n",
    "print(celsius, \" degrees C is \", fahrenheit, \" in degrees F.\")"
   ]
  },
  {
   "cell_type": "markdown",
   "metadata": {},
   "source": [
    "Be very careful in using the eval function - it will evaluate whatever the user types in. This can be used as a code injection attack."
   ]
  },
  {
   "cell_type": "code",
   "execution_count": 30,
   "metadata": {},
   "outputs": [
    {
     "name": "stdout",
     "output_type": "stream",
     "text": [
      "Enter something x = 5 print(x)\n"
     ]
    },
    {
     "ename": "SyntaxError",
     "evalue": "invalid syntax (<string>, line 1)",
     "output_type": "error",
     "traceback": [
      "Traceback \u001b[1;36m(most recent call last)\u001b[0m:\n",
      "  File \u001b[0;32m\"c:\\python-envs\\cis-3703\\lib\\site-packages\\IPython\\core\\interactiveshell.py\"\u001b[0m, line \u001b[0;32m3418\u001b[0m, in \u001b[0;35mrun_code\u001b[0m\n    exec(code_obj, self.user_global_ns, self.user_ns)\n",
      "\u001b[1;36m  File \u001b[1;32m\"<ipython-input-30-e82a0ec46671>\"\u001b[1;36m, line \u001b[1;32m1\u001b[1;36m, in \u001b[1;35m<module>\u001b[1;36m\u001b[0m\n\u001b[1;33m    x = eval(input(\"Enter something \"))\u001b[0m\n",
      "\u001b[1;36m  File \u001b[1;32m\"<string>\"\u001b[1;36m, line \u001b[1;32m1\u001b[0m\n\u001b[1;33m    x = 5 print(x)\u001b[0m\n\u001b[1;37m      ^\u001b[0m\n\u001b[1;31mSyntaxError\u001b[0m\u001b[1;31m:\u001b[0m invalid syntax\n"
     ]
    }
   ],
   "source": [
    "x = eval(input(\"Enter something \"))"
   ]
  },
  {
   "cell_type": "markdown",
   "metadata": {},
   "source": [
    "We can calculate an assign more than one variable all at the same time.\n",
    "<code>\n",
    "    &lt;var1&gt;, &lt;var2&gt;, ..., &lt;varn&gt; = &lt;expr1&gt;, &lt;expr2&gt;, ..., &lt;exprn;&gt;\n",
    "</code>"
   ]
  },
  {
   "cell_type": "code",
   "execution_count": null,
   "metadata": {},
   "outputs": [],
   "source": [
    "x = 5\n",
    "y = 4\n",
    "sum, diff = x + y, x - y\n",
    "print(\"sum =\", sum, \"diff = \", diff)"
   ]
  },
  {
   "cell_type": "code",
   "execution_count": null,
   "metadata": {},
   "outputs": [],
   "source": [
    "def avg2():\n",
    "    score1, score2 = eval(input(\"Enter two scores separated by commas: \"))\n",
    "    average = (score1 + score2) / 2\n",
    "    print(\"The average is\", average)\n",
    "avg2()"
   ]
  },
  {
   "cell_type": "markdown",
   "metadata": {},
   "source": [
    "## Definite Loops"
   ]
  },
  {
   "cell_type": "markdown",
   "metadata": {},
   "source": [
    "Loops are used to execute a sequence of statements multiple times in succession. A <i>definite</i> loop will execute a definite number of times.\n",
    "<code>\n",
    "    for &lt;var&gt; in &lt;sequence&gt;:\n",
    "        &lt;body&gt;\n",
    "</code>"
   ]
  },
  {
   "cell_type": "code",
   "execution_count": null,
   "metadata": {},
   "outputs": [],
   "source": [
    "# A counted loop\n",
    "# The variable i is called with loop index\n",
    "# Often the sequence is a list of values\n",
    "for i in range(10):\n",
    "    x = 3.9 * x * (1 - x)\n",
    "    print(x)"
   ]
  },
  {
   "cell_type": "code",
   "execution_count": null,
   "metadata": {},
   "outputs": [],
   "source": [
    "for i in [0, 1, 2, 3]:\n",
    "    print(i)"
   ]
  },
  {
   "cell_type": "code",
   "execution_count": null,
   "metadata": {},
   "outputs": [],
   "source": [
    "for odd in [1, 3, 5, 7, 9]:\n",
    "    print(odd * odd)"
   ]
  },
  {
   "cell_type": "code",
   "execution_count": null,
   "metadata": {},
   "outputs": [],
   "source": [
    "# the range() function generates a sequence in real time that starts with 0\n",
    "list(range(5))"
   ]
  },
  {
   "cell_type": "markdown",
   "metadata": {},
   "source": [
    "## Example Program - Future Value"
   ]
  },
  {
   "cell_type": "code",
   "execution_count": null,
   "metadata": {},
   "outputs": [],
   "source": [
    "def future_value():\n",
    "    print(\"This function calculates the future value of a 10 year investment\")\n",
    "    principal = eval(input(\"Enter the principal: \"))\n",
    "    apr = eval(input(\"Enter the APR: \"))\n",
    "    for i in range(10):\n",
    "        principal = principal * (1 + apr)\n",
    "    print(\"The value in 10 years is: \", principal)"
   ]
  },
  {
   "cell_type": "code",
   "execution_count": null,
   "metadata": {},
   "outputs": [],
   "source": [
    "future_value()"
   ]
  },
  {
   "cell_type": "code",
   "execution_count": null,
   "metadata": {},
   "outputs": [],
   "source": []
  }
 ],
 "metadata": {
  "kernelspec": {
   "display_name": "Python 3",
   "language": "python",
   "name": "python3"
  },
  "language_info": {
   "codemirror_mode": {
    "name": "ipython",
    "version": 3
   },
   "file_extension": ".py",
   "mimetype": "text/x-python",
   "name": "python",
   "nbconvert_exporter": "python",
   "pygments_lexer": "ipython3",
   "version": "3.9.1"
  }
 },
 "nbformat": 4,
 "nbformat_minor": 4
}
