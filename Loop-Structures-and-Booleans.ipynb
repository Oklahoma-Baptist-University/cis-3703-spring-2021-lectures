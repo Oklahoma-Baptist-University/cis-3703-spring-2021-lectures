{
 "cells": [
  {
   "cell_type": "markdown",
   "metadata": {},
   "source": [
    "# CIS 3703 Python Programming - Spring 2021¶"
   ]
  },
  {
   "cell_type": "code",
   "execution_count": 1,
   "metadata": {},
   "outputs": [],
   "source": [
    "# The following should be included in each Jupyter Notebook. We will discuss this later in the course.\n",
    "# For now, just include these statements.\n",
    "\n",
    "# For more information, see\n",
    "# https://ipython.readthedocs.io/en/stable/config/extensions/autoreload.html\n",
    "\n",
    "%load_ext autoreload\n",
    "%autoreload 2"
   ]
  },
  {
   "cell_type": "markdown",
   "metadata": {},
   "source": [
    "## For Loops: A Quick Review"
   ]
  },
  {
   "cell_type": "markdown",
   "metadata": {},
   "source": [
    "Basic form of a counted loop (the number of times the loop is executed is known):<p>\n",
    "<code>for &lt;var&gt; in &lt;sequence&gt;:\n",
    "    &lt;body&gt;</code><p>\n",
    "The loop index variable takes on each successive value in the sequence, and the statements in the body of the loop are executed once for each value."
   ]
  },
  {
   "cell_type": "code",
   "execution_count": 10,
   "metadata": {},
   "outputs": [
    {
     "name": "stdout",
     "output_type": "stream",
     "text": [
      "How many numbers do you have > 2\n",
      "Enter a number > 2\n",
      "Enter a number > 2\n",
      "The average of the numbers is: 2.0\n"
     ]
    }
   ],
   "source": [
    "## Counted loop\n",
    "## Accumulator pattern\n",
    "def compute_average():\n",
    "    n = eval(input(\"How many numbers do you have > \"))\n",
    "    total = 0.0\n",
    "    for i in range(n):\n",
    "        x = float(input(\"Enter a number > \"))\n",
    "        total = total + x\n",
    "    print(\"The average of the numbers is:\", total / n)\n",
    "compute_average()"
   ]
  },
  {
   "cell_type": "code",
   "execution_count": 11,
   "metadata": {},
   "outputs": [
    {
     "name": "stdout",
     "output_type": "stream",
     "text": [
      "Enter a number > 3\n",
      "Enter a number > 3\n",
      "Enter a number > 4\n",
      "The average of the numbers is: 3.3333333333333335\n"
     ]
    }
   ],
   "source": [
    "## Counted loop\n",
    "## Accumulator pattern\n",
    "def compute_average(nums):\n",
    "    total = 0.0\n",
    "    for i in range(nums):\n",
    "        x = float(input(\"Enter a number > \"))\n",
    "        total = total + x\n",
    "    print(\"The average of the numbers is:\", total / nums)\n",
    "compute_average(3)"
   ]
  },
  {
   "cell_type": "markdown",
   "metadata": {},
   "source": [
    "## Indefinite Loops"
   ]
  },
  {
   "cell_type": "markdown",
   "metadata": {},
   "source": [
    "Basic form of an indefinite loop (it is not known how many times the loop is executed):<p>\n",
    "<code>while &lt;condition&gt;:\n",
    "    &lt;body&gt;</code><p>\n",
    "The loop continues to execute as long as the condition is met.<p>\n",
    "    This is also known as a <i>pre-test loop</i>."
   ]
  },
  {
   "cell_type": "code",
   "execution_count": 13,
   "metadata": {},
   "outputs": [
    {
     "name": "stdout",
     "output_type": "stream",
     "text": [
      "i is  0\n",
      "i is  1\n",
      "i is  2\n",
      "i is  3\n",
      "i is  4\n"
     ]
    }
   ],
   "source": [
    "i = 0\n",
    "while (i < 5):\n",
    "    print(\"i is \", i)\n",
    "    i = i + 1"
   ]
  },
  {
   "cell_type": "code",
   "execution_count": 15,
   "metadata": {},
   "outputs": [
    {
     "name": "stdout",
     "output_type": "stream",
     "text": [
      "i is  0\n",
      "i is  1\n",
      "i is  2\n",
      "i is  3\n",
      "i is  4\n"
     ]
    }
   ],
   "source": [
    "## The above is equivalent to:\n",
    "## Here the loop handles initialization and incrementing of i\n",
    "for i in range(5):\n",
    "    print(\"i is \", i)"
   ]
  },
  {
   "cell_type": "markdown",
   "metadata": {},
   "source": [
    "<b>DON'T DO THIS (FORGET TO INCREMENT THE LOOP VARIABLE) - IT IS AN INFINITE LOOP</b>"
   ]
  },
  {
   "cell_type": "code",
   "execution_count": 16,
   "metadata": {},
   "outputs": [],
   "source": [
    "#i = 0\n",
    "#while (i < 5):\n",
    "#    print(\"i is \", i)"
   ]
  },
  {
   "cell_type": "markdown",
   "metadata": {},
   "source": [
    "## Common Loop Patterns"
   ]
  },
  {
   "cell_type": "markdown",
   "metadata": {},
   "source": [
    "### Interactive Loops"
   ]
  },
  {
   "cell_type": "markdown",
   "metadata": {},
   "source": [
    "Allows the user to repeat certain portions of a program on demand."
   ]
  },
  {
   "cell_type": "code",
   "execution_count": 21,
   "metadata": {},
   "outputs": [
    {
     "name": "stdout",
     "output_type": "stream",
     "text": [
      "Enter a number > 3\n",
      "Do you have more numbers (yes or no)? > y\n",
      "Enter a number > 5\n",
      "Do you have more numbers (yes or no)? > y\n",
      "Enter a number > 7\n",
      "Do you have more numbers (yes or no)? > n\n",
      "The average is 5.00\n"
     ]
    }
   ],
   "source": [
    "## Compute an average when you don't know how many numbers there are\n",
    "def compute_average():\n",
    "    total = 0.0 # This is the running total\n",
    "    count = 0 # This is the number of values that will be used to compute the average\n",
    "    moredata = \"yes\" # This is used in the loop condition\n",
    "    while moredata[0] == \"y\":\n",
    "        x = float(input(\"Enter a number > \"))\n",
    "        total = total + x\n",
    "        count = count + 1\n",
    "        moredata = input(\"Do you have more numbers (yes or no)? > \")\n",
    "    print(\"The average is {0:0.2f}\".format(total / count))\n",
    "compute_average()"
   ]
  },
  {
   "cell_type": "markdown",
   "metadata": {},
   "source": [
    "### Sentinel Loops"
   ]
  },
  {
   "cell_type": "markdown",
   "metadata": {},
   "source": [
    "Continue to process data until reaching a special value that signals the end. This value is called the <i>sentinel</i>. The sentinel should be indistinguishable from actual data values (it is not processed as part of the data)."
   ]
  },
  {
   "cell_type": "code",
   "execution_count": 24,
   "metadata": {},
   "outputs": [
    {
     "name": "stdout",
     "output_type": "stream",
     "text": [
      "Enter a number (negative to quit) > 4\n",
      "Enter a number (negative to quit) > 3\n",
      "Enter a number (negative to quit) > 7\n",
      "Enter a number (negative to quit) > 8\n",
      "Enter a number (negative to quit) > 2\n",
      "Enter a number (negative to quit) > 3\n",
      "Enter a number (negative to quit) > -1\n",
      "The average is 4.50\n"
     ]
    }
   ],
   "source": [
    "def average_with_sentinel():\n",
    "    total = 0.0\n",
    "    count = 0\n",
    "    # Sentinel loops require that the first item be retrieved before the loop starts. This\n",
    "    # is sometimes called a priming read.\n",
    "    x = float(input(\"Enter a number (negative to quit) > \"))\n",
    "    # Loop test ensures that the next item is not the sentinel before processing it\n",
    "    # (when the sentinel is reached, the loop terminates)\n",
    "    while x >= 0:\n",
    "        total = total + x\n",
    "        count = count + 1\n",
    "        x = float(input(\"Enter a number (negative to quit) > \"))\n",
    "    print(\"The average is {0:0.2f}\".format(total / count))\n",
    "average_with_sentinel()"
   ]
  },
  {
   "cell_type": "code",
   "execution_count": 26,
   "metadata": {},
   "outputs": [
    {
     "name": "stdout",
     "output_type": "stream",
     "text": [
      "Enter a number (<Enter> to quit) > 4\n",
      "Enter a number (<Enter> to quit) > 5\n",
      "Enter a number (<Enter> to quit) > 6\n",
      "Enter a number (<Enter> to quit) > 7\n",
      "Enter a number (<Enter> to quit) > 2\n",
      "Enter a number (<Enter> to quit) > 3\n",
      "Enter a number (<Enter> to quit) > 4\n",
      "Enter a number (<Enter> to quit) > 9\n",
      "Enter a number (<Enter> to quit) > \n",
      "The average is 5.00\n"
     ]
    }
   ],
   "source": [
    "# We may want to have negative numbers as part of our calculation ...\n",
    "def average_with_sentinel():\n",
    "    total = 0.0\n",
    "    count = 0\n",
    "    # Sentinel loops require that the first item be retrieved before the loop starts. This\n",
    "    # is sometimes called a priming read.\n",
    "    # The sentinel is not a number, but an empty string\n",
    "    xStr = input(\"Enter a number (<Enter> to quit) > \")\n",
    "    # Loop test ensures that the next item is not the sentinel before processing it\n",
    "    # (when the sentinel is reached, the loop terminates)\n",
    "    while xStr != \"\":\n",
    "        x = float(xStr)\n",
    "        total = total + x\n",
    "        count = count + 1\n",
    "        xStr = input(\"Enter a number (<Enter> to quit) > \")\n",
    "    print(\"The average is {0:0.2f}\".format(total / count))\n",
    "average_with_sentinel()"
   ]
  },
  {
   "cell_type": "markdown",
   "metadata": {},
   "source": [
    "### File Loops"
   ]
  },
  {
   "cell_type": "markdown",
   "metadata": {},
   "source": [
    "If there are a lot of numbers to process, it is must faster to read the data from a file (than to have the user enter it)."
   ]
  },
  {
   "cell_type": "code",
   "execution_count": 28,
   "metadata": {},
   "outputs": [
    {
     "name": "stdout",
     "output_type": "stream",
     "text": [
      "What is the name of the file? > average_data.dat\n",
      "The average is 38.55\n"
     ]
    }
   ],
   "source": [
    "## The loop variable line iterates through the file as a sequence of lines; each line is\n",
    "## converted to a number and added to the running total\n",
    "def average_from_file():\n",
    "    file_name = input(\"What is the name of the file? > \")\n",
    "    infile = open(file_name, \"r\")\n",
    "    total = 0.0\n",
    "    count = 0\n",
    "    for line in infile:\n",
    "        total = total + float(line)\n",
    "        count = count + 1\n",
    "    print(\"The average is {0:0.2f}\".format(total / count))\n",
    "average_from_file()"
   ]
  },
  {
   "cell_type": "code",
   "execution_count": 30,
   "metadata": {},
   "outputs": [
    {
     "name": "stdout",
     "output_type": "stream",
     "text": [
      "What is the name of the file? > average_data.dat\n",
      "The average is 38.55\n"
     ]
    }
   ],
   "source": [
    "## HEre is a general pattern for file processing\n",
    "def average_from_file():\n",
    "    file_name = input(\"What is the name of the file? > \")\n",
    "    infile = open(file_name, \"r\")\n",
    "    total = 0.0\n",
    "    count = 0\n",
    "    # Read the line before the loop\n",
    "    line = infile.readline()\n",
    "    while line != \"\":\n",
    "        total = total + float(line)\n",
    "        count = count + 1\n",
    "        line = infile.readline()\n",
    "    print(\"The average is {0:0.2f}\".format(total / count))\n",
    "average_from_file()"
   ]
  },
  {
   "cell_type": "markdown",
   "metadata": {},
   "source": [
    "### Nested Loops"
   ]
  },
  {
   "cell_type": "code",
   "execution_count": 31,
   "metadata": {},
   "outputs": [
    {
     "name": "stdout",
     "output_type": "stream",
     "text": [
      "What is the name of the file? > average_data2.dat\n",
      "Read data item  23\n",
      "Read data item   13\n",
      "\n",
      "Read data item  45.6\n",
      "\n",
      "Read data item  37.7\n",
      "Read data item   89.5\n",
      "Read data item   41.33\n",
      "The average is 41.69\n"
     ]
    }
   ],
   "source": [
    "## The data has multiple values on a line\n",
    "## The outer loop will read a line, the inner loop will process the data on a line\n",
    "def average_from_comma_file():\n",
    "    file_name = input(\"What is the name of the file? > \")\n",
    "    infile = open(file_name, \"r\")\n",
    "    total = 0.0\n",
    "    count = 0\n",
    "    # Read the line before the loop\n",
    "    line = infile.readline()\n",
    "    while line != \"\":\n",
    "        # Break the line into token separated by comma\n",
    "        for xStr in line.split(\",\"):\n",
    "            print(\"Read data item \", xStr)\n",
    "            total = total + float(xStr)\n",
    "            count = count + 1\n",
    "        line = infile.readline()\n",
    "    print(\"The average is {0:0.2f}\".format(total / count))\n",
    "average_from_comma_file()"
   ]
  },
  {
   "cell_type": "markdown",
   "metadata": {},
   "source": [
    "## Computing with Booleans"
   ]
  },
  {
   "cell_type": "markdown",
   "metadata": {},
   "source": [
    "A Boolean expression evaluates to true or false."
   ]
  },
  {
   "cell_type": "code",
   "execution_count": 33,
   "metadata": {},
   "outputs": [
    {
     "name": "stdout",
     "output_type": "stream",
     "text": [
      "The value of x is True\n"
     ]
    }
   ],
   "source": [
    "x = True\n",
    "print(\"The value of x is\", x)"
   ]
  },
  {
   "cell_type": "markdown",
   "metadata": {},
   "source": [
    "## Other Common Structures"
   ]
  },
  {
   "cell_type": "markdown",
   "metadata": {},
   "source": [
    "## A Simple Event Loop"
   ]
  },
  {
   "cell_type": "markdown",
   "metadata": {},
   "source": [
    "See simple_event_loop.py"
   ]
  },
  {
   "cell_type": "code",
   "execution_count": null,
   "metadata": {},
   "outputs": [],
   "source": []
  }
 ],
 "metadata": {
  "kernelspec": {
   "display_name": "Python 3",
   "language": "python",
   "name": "python3"
  },
  "language_info": {
   "codemirror_mode": {
    "name": "ipython",
    "version": 3
   },
   "file_extension": ".py",
   "mimetype": "text/x-python",
   "name": "python",
   "nbconvert_exporter": "python",
   "pygments_lexer": "ipython3",
   "version": "3.9.1"
  }
 },
 "nbformat": 4,
 "nbformat_minor": 4
}
