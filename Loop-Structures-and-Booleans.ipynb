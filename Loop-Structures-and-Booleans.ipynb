{
 "cells": [
  {
   "cell_type": "markdown",
   "metadata": {},
   "source": [
    "# CIS 3703 Python Programming - Spring 2021¶"
   ]
  },
  {
   "cell_type": "code",
   "execution_count": null,
   "metadata": {},
   "outputs": [],
   "source": [
    "# The following should be included in each Jupyter Notebook. We will discuss this later in the course.\n",
    "# For now, just include these statements.\n",
    "\n",
    "# For more information, see\n",
    "# https://ipython.readthedocs.io/en/stable/config/extensions/autoreload.html\n",
    "\n",
    "%load_ext autoreload\n",
    "%autoreload 2"
   ]
  },
  {
   "cell_type": "code",
   "execution_count": 9,
   "metadata": {},
   "outputs": [
    {
     "name": "stdout",
     "output_type": "stream",
     "text": [
      "    i     j   i+j\n",
      "------------------\n",
      "    1    99   100\n",
      "    1   100   101\n",
      "    1   101   102\n",
      "    2    99   101\n",
      "    2   100   102\n",
      "    2   101   103\n",
      "    3    99   102\n",
      "    3   100   103\n",
      "    3   101   104\n",
      "    4    99   103\n",
      "    4   100   104\n",
      "    4   101   105\n"
     ]
    }
   ],
   "source": [
    "print(\"{0:>5} {1:>5} {2:>5}\".format(\"i\", \"j\", \"i+j\"))\n",
    "print(\"------------------\")\n",
    "for i in range(1, 5):\n",
    "    for j in range(99, 102):\n",
    "        print(\"{0:5} {1:5} {2:5}\".format(i, j, i+j))"
   ]
  },
  {
   "cell_type": "markdown",
   "metadata": {},
   "source": [
    "## For Loops: A Quick Review"
   ]
  },
  {
   "cell_type": "markdown",
   "metadata": {},
   "source": [
    "Basic form of a counted loop (the number of times the loop is executed is known):<p>\n",
    "<code>for &lt;var&gt; in &lt;sequence&gt;:\n",
    "    &lt;body&gt;</code><p>\n",
    "The loop index variable takes on each successive value in the sequence, and the statements in the body of the loop are executed once for each value."
   ]
  },
  {
   "cell_type": "code",
   "execution_count": null,
   "metadata": {},
   "outputs": [],
   "source": [
    "## Counted loop\n",
    "## Accumulator pattern\n",
    "def compute_average():\n",
    "    n = eval(input(\"How many numbers do you have > \"))\n",
    "    total = 0.0\n",
    "    for i in range(20, 100, 5):\n",
    "        x = float(input(\"Enter a number > \"))\n",
    "        print(\"We are are in iteration #{0} of the loop\".format(i))\n",
    "        total = total + x\n",
    "        print(\"Adding {0} to the total, new total is {1}\".format(x, total))\n",
    "    print(\"The average of the numbers is:\", total / n)\n",
    "compute_average()"
   ]
  },
  {
   "cell_type": "code",
   "execution_count": 1,
   "metadata": {},
   "outputs": [
    {
     "ename": "NameError",
     "evalue": "name 'nums' is not defined",
     "output_type": "error",
     "traceback": [
      "\u001b[1;31m---------------------------------------------------------------------------\u001b[0m",
      "\u001b[1;31mNameError\u001b[0m                                 Traceback (most recent call last)",
      "\u001b[1;32m<ipython-input-1-5e242f8cf4d2>\u001b[0m in \u001b[0;36m<module>\u001b[1;34m\u001b[0m\n\u001b[0;32m      8\u001b[0m     \u001b[1;32mreturn\u001b[0m \u001b[0mtotal\u001b[0m \u001b[1;33m/\u001b[0m \u001b[0mnums\u001b[0m\u001b[1;33m\u001b[0m\u001b[1;33m\u001b[0m\u001b[0m\n\u001b[0;32m      9\u001b[0m \u001b[1;31m#nums = 4\u001b[0m\u001b[1;33m\u001b[0m\u001b[1;33m\u001b[0m\u001b[1;33m\u001b[0m\u001b[0m\n\u001b[1;32m---> 10\u001b[1;33m \u001b[0mtheAverage\u001b[0m \u001b[1;33m=\u001b[0m \u001b[0mcompute_average_002\u001b[0m\u001b[1;33m(\u001b[0m\u001b[1;33m)\u001b[0m\u001b[1;33m\u001b[0m\u001b[1;33m\u001b[0m\u001b[0m\n\u001b[0m\u001b[0;32m     11\u001b[0m \u001b[0mprint\u001b[0m\u001b[1;33m(\u001b[0m\u001b[1;34m\"The function return an average of {0}\"\u001b[0m\u001b[1;33m.\u001b[0m\u001b[0mformat\u001b[0m\u001b[1;33m(\u001b[0m\u001b[0mtheAverage\u001b[0m\u001b[1;33m)\u001b[0m\u001b[1;33m)\u001b[0m\u001b[1;33m\u001b[0m\u001b[1;33m\u001b[0m\u001b[0m\n",
      "\u001b[1;32m<ipython-input-1-5e242f8cf4d2>\u001b[0m in \u001b[0;36mcompute_average_002\u001b[1;34m()\u001b[0m\n\u001b[0;32m      3\u001b[0m \u001b[1;32mdef\u001b[0m \u001b[0mcompute_average_002\u001b[0m\u001b[1;33m(\u001b[0m\u001b[1;33m)\u001b[0m\u001b[1;33m:\u001b[0m\u001b[1;33m\u001b[0m\u001b[1;33m\u001b[0m\u001b[0m\n\u001b[0;32m      4\u001b[0m     \u001b[0mtotal\u001b[0m \u001b[1;33m=\u001b[0m \u001b[1;36m0.0\u001b[0m\u001b[1;33m\u001b[0m\u001b[1;33m\u001b[0m\u001b[0m\n\u001b[1;32m----> 5\u001b[1;33m     \u001b[1;32mfor\u001b[0m \u001b[0mi\u001b[0m \u001b[1;32min\u001b[0m \u001b[0mrange\u001b[0m\u001b[1;33m(\u001b[0m\u001b[0mnums\u001b[0m\u001b[1;33m)\u001b[0m\u001b[1;33m:\u001b[0m\u001b[1;33m\u001b[0m\u001b[1;33m\u001b[0m\u001b[0m\n\u001b[0m\u001b[0;32m      6\u001b[0m         \u001b[0mx\u001b[0m \u001b[1;33m=\u001b[0m \u001b[0mfloat\u001b[0m\u001b[1;33m(\u001b[0m\u001b[0minput\u001b[0m\u001b[1;33m(\u001b[0m\u001b[1;34m\"Enter a number > \"\u001b[0m\u001b[1;33m)\u001b[0m\u001b[1;33m)\u001b[0m\u001b[1;33m\u001b[0m\u001b[1;33m\u001b[0m\u001b[0m\n\u001b[0;32m      7\u001b[0m         \u001b[0mtotal\u001b[0m \u001b[1;33m=\u001b[0m \u001b[0mtotal\u001b[0m \u001b[1;33m+\u001b[0m \u001b[0mx\u001b[0m\u001b[1;33m\u001b[0m\u001b[1;33m\u001b[0m\u001b[0m\n",
      "\u001b[1;31mNameError\u001b[0m: name 'nums' is not defined"
     ]
    }
   ],
   "source": [
    "## Counted loop\n",
    "## Accumulator pattern\n",
    "def compute_average_002():\n",
    "    total = 0.0\n",
    "    for i in range(nums):\n",
    "        x = float(input(\"Enter a number > \"))\n",
    "        total = total + x\n",
    "    return total / nums\n",
    "#nums = 4\n",
    "theAverage = compute_average_002()\n",
    "print(\"The function return an average of {0}\".format(theAverage))"
   ]
  },
  {
   "cell_type": "markdown",
   "metadata": {},
   "source": [
    "## Indefinite Loops"
   ]
  },
  {
   "cell_type": "markdown",
   "metadata": {},
   "source": [
    "Basic form of an indefinite loop (it is not known how many times the loop is executed):<p>\n",
    "<code>while &lt;condition&gt;:\n",
    "    &lt;body&gt;</code><p>\n",
    "The loop continues to execute as long as the condition is met.<p>\n",
    "    This is also known as a <i>pre-test loop</i>."
   ]
  },
  {
   "cell_type": "code",
   "execution_count": 5,
   "metadata": {},
   "outputs": [
    {
     "name": "stdout",
     "output_type": "stream",
     "text": [
      "i is  0\n",
      "i is  1\n",
      "i is  2\n",
      "i is  3\n",
      "i is  4\n"
     ]
    }
   ],
   "source": [
    "i = 0\n",
    "while (i < 5):\n",
    "    print(\"i is \", i)\n",
    "    i = i + 1"
   ]
  },
  {
   "cell_type": "code",
   "execution_count": 6,
   "metadata": {},
   "outputs": [
    {
     "name": "stdout",
     "output_type": "stream",
     "text": [
      "i is  0\n",
      "i is  1\n",
      "i is  2\n",
      "i is  3\n",
      "i is  4\n"
     ]
    }
   ],
   "source": [
    "## The above is equivalent to:\n",
    "## Here the loop handles initialization and incrementing of i\n",
    "for i in range(5):\n",
    "    print(\"i is \", i)"
   ]
  },
  {
   "cell_type": "markdown",
   "metadata": {},
   "source": [
    "<b>DON'T DO THIS (FORGET TO INCREMENT THE LOOP VARIABLE) - IT IS AN INFINITE LOOP</b>"
   ]
  },
  {
   "cell_type": "code",
   "execution_count": 8,
   "metadata": {},
   "outputs": [],
   "source": [
    "#i = 0\n",
    "#while (i < 5):\n",
    "#    print(\"i is \", i)"
   ]
  },
  {
   "cell_type": "markdown",
   "metadata": {},
   "source": [
    "## Common Loop Patterns"
   ]
  },
  {
   "cell_type": "markdown",
   "metadata": {},
   "source": [
    "### Interactive Loops"
   ]
  },
  {
   "cell_type": "markdown",
   "metadata": {},
   "source": [
    "Allows the user to repeat certain portions of a program on demand."
   ]
  },
  {
   "cell_type": "code",
   "execution_count": 16,
   "metadata": {},
   "outputs": [
    {
     "name": "stdout",
     "output_type": "stream",
     "text": [
      "Enter a number > 45\n",
      "Do you have more numbers (yes or no)? > y\n",
      "Enter a number > 56\n",
      "Do you have more numbers (yes or no)? > y\n",
      "Enter a number > 34.78\n",
      "Do you have more numbers (yes or no)? > n\n",
      "The average is 45.26\n"
     ]
    }
   ],
   "source": [
    "## Compute an average when you don't know how many numbers there are\n",
    "def compute_average():\n",
    "    total = 0.0 # This is the running total\n",
    "    count = 0 # This is the number of values that will be used to compute the average\n",
    "    moredata = \"yes\" # This is used in the loop condition\n",
    "    while moredata[0] == \"y\":\n",
    "        x = float(input(\"Enter a number > \"))\n",
    "        total = total + x\n",
    "        count = count + 1\n",
    "        moredata = input(\"Do you have more numbers (yes or no)? > \")\n",
    "    ## print(\"The average is {0:0.2f}\".format(total / count))\n",
    "    print(\"The average is {0}\".format(total / count))\n",
    "compute_average()"
   ]
  },
  {
   "cell_type": "markdown",
   "metadata": {},
   "source": [
    "### Sentinel Loops"
   ]
  },
  {
   "cell_type": "markdown",
   "metadata": {},
   "source": [
    "Continue to process data until reaching a special value that signals the end. This value is called the <i>sentinel</i>. The sentinel should be indistinguishable from actual data values (it is not processed as part of the data)."
   ]
  },
  {
   "cell_type": "code",
   "execution_count": 17,
   "metadata": {},
   "outputs": [
    {
     "name": "stdout",
     "output_type": "stream",
     "text": [
      "Enter a number (negative to quit) > 34\n",
      "Enter a number (negative to quit) > 45\n",
      "Enter a number (negative to quit) > 87\n",
      "Enter a number (negative to quit) > -1\n",
      "The average is 55.33\n"
     ]
    }
   ],
   "source": [
    "def average_with_sentinel():\n",
    "    total = 0.0\n",
    "    count = 0\n",
    "    # Sentinel loops require that the first item be retrieved before the loop starts. This\n",
    "    # is sometimes called a priming read.\n",
    "    x = float(input(\"Enter a number (negative to quit) > \"))\n",
    "    # Loop test ensures that the next item is not the sentinel before processing it\n",
    "    # (when the sentinel is reached, the loop terminates)\n",
    "    while x >= 0:\n",
    "        total = total + x\n",
    "        count = count + 1\n",
    "        x = float(input(\"Enter a number (negative to quit) > \"))\n",
    "    print(\"The average is {0:0.2f}\".format(total / count))\n",
    "average_with_sentinel()"
   ]
  },
  {
   "cell_type": "code",
   "execution_count": 18,
   "metadata": {},
   "outputs": [
    {
     "name": "stdout",
     "output_type": "stream",
     "text": [
      "Enter a number (<Enter> to quit) > 34\n",
      "Enter a number (<Enter> to quit) > 45\n",
      "Enter a number (<Enter> to quit) > 67\n",
      "Enter a number (<Enter> to quit) > 89\n",
      "Enter a number (<Enter> to quit) > \n",
      "The average is 58.75\n"
     ]
    }
   ],
   "source": [
    "# We may want to have negative numbers as part of our calculation ...\n",
    "def average_with_sentinel():\n",
    "    total = 0.0\n",
    "    count = 0\n",
    "    # Sentinel loops require that the first item be retrieved before the loop starts. This\n",
    "    # is sometimes called a priming read.\n",
    "    # The sentinel is not a number, but an empty string\n",
    "    xStr = input(\"Enter a number (<Enter> to quit) > \")\n",
    "    # Loop test ensures that the next item is not the sentinel before processing it\n",
    "    # (when the sentinel is reached, the loop terminates)\n",
    "    while xStr != \"\":\n",
    "        x = float(xStr)\n",
    "        total = total + x\n",
    "        count = count + 1\n",
    "        xStr = input(\"Enter a number (<Enter> to quit) > \")\n",
    "    print(\"The average is {0:0.2f}\".format(total / count))\n",
    "average_with_sentinel()"
   ]
  },
  {
   "cell_type": "markdown",
   "metadata": {},
   "source": [
    "### File Loops"
   ]
  },
  {
   "cell_type": "markdown",
   "metadata": {},
   "source": [
    "If there are a lot of numbers to process, it is must faster to read the data from a file (than to have the user enter it)."
   ]
  },
  {
   "cell_type": "code",
   "execution_count": 19,
   "metadata": {},
   "outputs": [
    {
     "name": "stdout",
     "output_type": "stream",
     "text": [
      "What is the name of the file? > average_data.dat\n",
      "The average is 38.55\n"
     ]
    }
   ],
   "source": [
    "## The loop variable line iterates through the file as a sequence of lines; each line is\n",
    "## converted to a number and added to the running total\n",
    "def average_from_file():\n",
    "    file_name = input(\"What is the name of the file? > \")\n",
    "    infile = open(file_name, \"r\")\n",
    "    total = 0.0\n",
    "    count = 0\n",
    "    for line in infile:\n",
    "        total = total + float(line)\n",
    "        count = count + 1\n",
    "    print(\"The average is {0:0.2f}\".format(total / count))\n",
    "average_from_file()"
   ]
  },
  {
   "cell_type": "code",
   "execution_count": null,
   "metadata": {},
   "outputs": [],
   "source": [
    "## HEre is a general pattern for file processing\n",
    "def average_from_file():\n",
    "    file_name = input(\"What is the name of the file? > \")\n",
    "    infile = open(file_name, \"r\")\n",
    "    total = 0.0\n",
    "    count = 0\n",
    "    # Read the line before the loop\n",
    "    line = infile.readline()\n",
    "    while line != \"\":\n",
    "        total = total + float(line)\n",
    "        count = count + 1\n",
    "        line = infile.readline()\n",
    "    print(\"The average is {0:0.2f}\".format(total / count))\n",
    "average_from_file()"
   ]
  },
  {
   "cell_type": "markdown",
   "metadata": {},
   "source": [
    "### Nested Loops"
   ]
  },
  {
   "cell_type": "code",
   "execution_count": 21,
   "metadata": {},
   "outputs": [
    {
     "name": "stdout",
     "output_type": "stream",
     "text": [
      "What is the name of the file? > average_data2.dat\n",
      "read in line 23, 13\n",
      "\n",
      "Read data item  23\n",
      "Read data item   13\n",
      "\n",
      "read in line 45.6\n",
      "\n",
      "Read data item  45.6\n",
      "\n",
      "read in line 37.7, 89.5, 41.33\n",
      "Read data item  37.7\n",
      "Read data item   89.5\n",
      "Read data item   41.33\n",
      "The average is 41.69\n"
     ]
    }
   ],
   "source": [
    "## The data has multiple values on a line\n",
    "## The outer loop will read a line, the inner loop will process the data on a line\n",
    "def average_from_comma_file():\n",
    "    file_name = input(\"What is the name of the file? > \")\n",
    "    infile = open(file_name, \"r\")\n",
    "    total = 0.0\n",
    "    count = 0\n",
    "    # Read the line before the loop\n",
    "    line = infile.readline()\n",
    "    while line != \"\":\n",
    "        # Break the line into token separated by comma\n",
    "        print(\"read in line\", line)\n",
    "        for xStr in line.split(\",\"):\n",
    "            print(\"Read data item \", xStr)\n",
    "            total = total + float(xStr)\n",
    "            count = count + 1\n",
    "        line = infile.readline()\n",
    "    print(\"The average is {0:0.2f}\".format(total / count))\n",
    "average_from_comma_file()"
   ]
  },
  {
   "cell_type": "markdown",
   "metadata": {},
   "source": [
    "## Computing with Booleans"
   ]
  },
  {
   "cell_type": "markdown",
   "metadata": {},
   "source": [
    "A Boolean expression evaluates to true or false."
   ]
  },
  {
   "cell_type": "code",
   "execution_count": 22,
   "metadata": {},
   "outputs": [
    {
     "name": "stdout",
     "output_type": "stream",
     "text": [
      "The value of x is True\n"
     ]
    }
   ],
   "source": [
    "x = True\n",
    "print(\"The value of x is\", x)"
   ]
  },
  {
   "cell_type": "markdown",
   "metadata": {},
   "source": [
    "There are three boolean operators: and, or and not.<p>\n",
    "The not operator switches a true expression to false and a false expression to true."
   ]
  },
  {
   "cell_type": "code",
   "execution_count": 23,
   "metadata": {},
   "outputs": [
    {
     "data": {
      "text/plain": [
       "False"
      ]
     },
     "execution_count": 23,
     "metadata": {},
     "output_type": "execute_result"
    }
   ],
   "source": [
    "x = True\n",
    "not x"
   ]
  },
  {
   "cell_type": "code",
   "execution_count": 24,
   "metadata": {},
   "outputs": [
    {
     "data": {
      "text/plain": [
       "True"
      ]
     },
     "execution_count": 24,
     "metadata": {},
     "output_type": "execute_result"
    }
   ],
   "source": [
    "not not x"
   ]
  },
  {
   "cell_type": "code",
   "execution_count": 25,
   "metadata": {},
   "outputs": [
    {
     "data": {
      "text/plain": [
       "True"
      ]
     },
     "execution_count": 25,
     "metadata": {},
     "output_type": "execute_result"
    }
   ],
   "source": [
    "x = 5\n",
    "x > 3"
   ]
  },
  {
   "cell_type": "code",
   "execution_count": 26,
   "metadata": {},
   "outputs": [
    {
     "data": {
      "text/plain": [
       "False"
      ]
     },
     "execution_count": 26,
     "metadata": {},
     "output_type": "execute_result"
    }
   ],
   "source": [
    "not x > 3"
   ]
  },
  {
   "cell_type": "markdown",
   "metadata": {},
   "source": [
    "The and binary operator is true if both expresions are true and false otherwise."
   ]
  },
  {
   "cell_type": "code",
   "execution_count": 27,
   "metadata": {},
   "outputs": [
    {
     "data": {
      "text/plain": [
       "False"
      ]
     },
     "execution_count": 27,
     "metadata": {},
     "output_type": "execute_result"
    }
   ],
   "source": [
    "True and False"
   ]
  },
  {
   "cell_type": "code",
   "execution_count": 28,
   "metadata": {},
   "outputs": [
    {
     "data": {
      "text/plain": [
       "True"
      ]
     },
     "execution_count": 28,
     "metadata": {},
     "output_type": "execute_result"
    }
   ],
   "source": [
    "True and True"
   ]
  },
  {
   "cell_type": "code",
   "execution_count": 29,
   "metadata": {},
   "outputs": [
    {
     "data": {
      "text/plain": [
       "True"
      ]
     },
     "execution_count": 29,
     "metadata": {},
     "output_type": "execute_result"
    }
   ],
   "source": [
    "x = 4\n",
    "y = 7\n",
    "x > 3 and y > x"
   ]
  },
  {
   "cell_type": "markdown",
   "metadata": {},
   "source": [
    "The or binary operator is true if either (or both) expressions are true"
   ]
  },
  {
   "cell_type": "code",
   "execution_count": 30,
   "metadata": {},
   "outputs": [
    {
     "data": {
      "text/plain": [
       "True"
      ]
     },
     "execution_count": 30,
     "metadata": {},
     "output_type": "execute_result"
    }
   ],
   "source": [
    "x > 3 or y > 10"
   ]
  },
  {
   "cell_type": "markdown",
   "metadata": {},
   "source": [
    "Complex conditions are possible"
   ]
  },
  {
   "cell_type": "code",
   "execution_count": 31,
   "metadata": {},
   "outputs": [
    {
     "data": {
      "text/plain": [
       "True"
      ]
     },
     "execution_count": 31,
     "metadata": {},
     "output_type": "execute_result"
    }
   ],
   "source": [
    "a = 4\n",
    "b = 5\n",
    "c = 6\n",
    "d = 4\n",
    "((a > b) and (c < 7)) or ((a + b) < (c + d))"
   ]
  },
  {
   "cell_type": "code",
   "execution_count": 32,
   "metadata": {},
   "outputs": [
    {
     "name": "stdout",
     "output_type": "stream",
     "text": [
      "in loop\n"
     ]
    }
   ],
   "source": [
    "while (((a > b) and (c < 7)) or ((a + b) < (c + d))):\n",
    "    print(\"in loop\")\n",
    "    a = a + 1"
   ]
  },
  {
   "cell_type": "markdown",
   "metadata": {},
   "source": [
    "## Other Common Structures"
   ]
  },
  {
   "cell_type": "markdown",
   "metadata": {},
   "source": [
    "### Input validation"
   ]
  },
  {
   "cell_type": "markdown",
   "metadata": {},
   "source": [
    "When accepting user input, it is good practice to continue to ask the user for a valid value. We basically continue to ask for a valid value inside a loop until a valid value is entered. When the user enters a valid value, we <i>break</i> out of the loop."
   ]
  },
  {
   "cell_type": "code",
   "execution_count": null,
   "metadata": {},
   "outputs": [],
   "source": [
    "## Generally this is a bad idea - it looks like an infinite loop ...\n",
    "while True:\n",
    "    x = float(input(\"Enter a positive number > \"))\n",
    "    if (x > 0):\n",
    "        # The break statement gets us out of the loop if the user enters a valid value\n",
    "        break"
   ]
  },
  {
   "cell_type": "code",
   "execution_count": null,
   "metadata": {},
   "outputs": [],
   "source": [
    "## Generally this is a bad idea - it looks like an infinite loop ...\n",
    "## We should explain why we are asking them again\n",
    "while True:\n",
    "    x = float(input(\"Enter a positive number > \"))\n",
    "    if (x > 0):\n",
    "        # The break statement gets us out of the loop if the user enters a valid value\n",
    "        break\n",
    "    else:\n",
    "        print(\"You did not enter a positive number\")"
   ]
  },
  {
   "cell_type": "markdown",
   "metadata": {},
   "source": [
    "### Boolean Expressions as Decisions"
   ]
  },
  {
   "cell_type": "code",
   "execution_count": null,
   "metadata": {},
   "outputs": [],
   "source": [
    "## Use input validation to do some processing until the user types in Yes\n",
    "response = \"Yes\"\n",
    "while response[0] == \"Y\" or response[0] == \"y\":\n",
    "    response = input(\"Do you want to continue (Y or N)\")"
   ]
  },
  {
   "cell_type": "code",
   "execution_count": null,
   "metadata": {},
   "outputs": [],
   "source": [
    "# This condition is not the same\n",
    "response = \"Yes\"\n",
    "response[0] == \"Y\" or \"y\""
   ]
  },
  {
   "cell_type": "code",
   "execution_count": null,
   "metadata": {},
   "outputs": [],
   "source": [
    "response = \"N\"\n",
    "response[0] == \"Y\" or \"y\""
   ]
  },
  {
   "cell_type": "code",
   "execution_count": null,
   "metadata": {},
   "outputs": [],
   "source": [
    "# The reason this is a problem is that the string \"y\" evaluates to True\n",
    "bool(\"y\")"
   ]
  },
  {
   "cell_type": "code",
   "execution_count": null,
   "metadata": {},
   "outputs": [],
   "source": [
    "# The above condition is actually something like\n",
    "(response[0] == \"Y\") or True \n",
    "# Because in a boolean expresion, \"Y\" is True, so this condition is always True,\n",
    "# Event when the response looks like it should evaluate to False"
   ]
  },
  {
   "cell_type": "code",
   "execution_count": null,
   "metadata": {},
   "outputs": [],
   "source": [
    "## The only string that evaluates to False as a Boolean is the empty string\n",
    "bool(\"\")"
   ]
  },
  {
   "cell_type": "code",
   "execution_count": null,
   "metadata": {},
   "outputs": [],
   "source": [
    "# We can take advantage of this as follows\n",
    "ans = input(\"What flavor do you want [vanilla]?\") # Vanilla is the default (the user does not specify anything)\n",
    "if ans:\n",
    "    flavor = ans # The user entered something other than vanilla\n",
    "else:\n",
    "    flavor = \"vanilla\""
   ]
  },
  {
   "cell_type": "markdown",
   "metadata": {},
   "source": [
    "## A Simple Event Loop"
   ]
  },
  {
   "cell_type": "markdown",
   "metadata": {},
   "source": [
    "See simple_event_loop.py"
   ]
  },
  {
   "cell_type": "code",
   "execution_count": null,
   "metadata": {},
   "outputs": [],
   "source": []
  }
 ],
 "metadata": {
  "kernelspec": {
   "display_name": "Python 3",
   "language": "python",
   "name": "python3"
  },
  "language_info": {
   "codemirror_mode": {
    "name": "ipython",
    "version": 3
   },
   "file_extension": ".py",
   "mimetype": "text/x-python",
   "name": "python",
   "nbconvert_exporter": "python",
   "pygments_lexer": "ipython3",
   "version": "3.9.1"
  }
 },
 "nbformat": 4,
 "nbformat_minor": 4
}
