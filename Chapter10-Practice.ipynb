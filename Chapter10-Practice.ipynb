{
 "cells": [
  {
   "cell_type": "code",
   "execution_count": null,
   "metadata": {},
   "outputs": [],
   "source": [
    "## Model book\n",
    "## Step 1 - name it - Book\n",
    "## Step 2 - how is it described? what are properties or attributes\n",
    "##     Title\n",
    "##     Author\n",
    "##     Publisher\n",
    "##     Pages\n",
    "##     Pub date\n",
    "## Step 3- what is its behavior? what are the functions that I want to do?\n",
    "##     Read it\n",
    "##     Buy it\n",
    "##     Keep track of where I am (book mark)\n",
    "##     When I finished reading it\n",
    "## Step 4 - implementing in Python"
   ]
  },
  {
   "cell_type": "code",
   "execution_count": 77,
   "metadata": {},
   "outputs": [],
   "source": [
    "## (1) Declare the class\n",
    "class Book:\n",
    "    ## (2) Initialize properties / attributes using constructor\n",
    "    def __init__(self, the_title, the_author, the_publisher, the_pages, the_pub_date):\n",
    "        self.title = the_title\n",
    "        self.author = the_author\n",
    "        self.publisher = the_publisher\n",
    "        self.pages = the_pages\n",
    "        self.pub_date = the_pub_date\n",
    "        self.date_finished = \"N/A\"\n",
    "        \n",
    "    ## (5) Define the behavior using functions\n",
    "    def current_page_read(self, page_num):\n",
    "        self.read_to = page_num\n",
    "        return self.read_to\n",
    "    \n",
    "    def finish_reading(self, date):\n",
    "        self.date_finished = date\n",
    "        self.read_to = self.current_page_read(self.pages)\n",
    "        return True\n",
    "        \n",
    "    ## (3) Human readable representation of the object\n",
    "    def __str__(self):\n",
    "        return \"Title: {0}\\n\\tAuthor {1}\\n\\tI have read to page {2}\\n\\tFinished Reading {3}\".format(self.title, \n",
    "                                                                                                   self.author, \n",
    "                                                                                                   self.read_to,\n",
    "                                                                                                  self.date_finished)"
   ]
  },
  {
   "cell_type": "code",
   "execution_count": 78,
   "metadata": {},
   "outputs": [],
   "source": [
    "## (4) Create objects of the class\n",
    "book1 = Book(\"The Return of the God Hypothesis\", \"Meyer\", \"Harvard Press\", 500, \"2020\")"
   ]
  },
  {
   "cell_type": "code",
   "execution_count": 79,
   "metadata": {},
   "outputs": [
    {
     "data": {
      "text/plain": [
       "125"
      ]
     },
     "execution_count": 79,
     "metadata": {},
     "output_type": "execute_result"
    }
   ],
   "source": [
    "book1.current_page_read(125)"
   ]
  },
  {
   "cell_type": "code",
   "execution_count": 80,
   "metadata": {},
   "outputs": [
    {
     "name": "stdout",
     "output_type": "stream",
     "text": [
      "Title: The Return of the God Hypothesis\n",
      "\tAuthor Meyer\n",
      "\tI have read to page 125\n",
      "\tFinished Reading N/A\n"
     ]
    }
   ],
   "source": [
    "print(book1)"
   ]
  },
  {
   "cell_type": "code",
   "execution_count": 81,
   "metadata": {},
   "outputs": [
    {
     "name": "stdout",
     "output_type": "stream",
     "text": [
      "Title: The Return of the God Hypothesis\n",
      "\tAuthor Meyer\n",
      "\tI have read to page 500\n",
      "\tFinished Reading MAy 1, 2021\n"
     ]
    }
   ],
   "source": [
    "book1.finish_reading(\"MAy 1, 2021\")\n",
    "print(book1)"
   ]
  },
  {
   "cell_type": "code",
   "execution_count": 30,
   "metadata": {},
   "outputs": [
    {
     "name": "stdout",
     "output_type": "stream",
     "text": [
      "The Return of the God Hypothesis\n"
     ]
    }
   ],
   "source": [
    "print(book1.title)"
   ]
  },
  {
   "cell_type": "code",
   "execution_count": 31,
   "metadata": {},
   "outputs": [],
   "source": [
    "book2 = Book(\"Frankenstein\", \"Shelley\", \"TBD\", 300, \"1820\")"
   ]
  },
  {
   "cell_type": "code",
   "execution_count": 32,
   "metadata": {},
   "outputs": [
    {
     "name": "stdout",
     "output_type": "stream",
     "text": [
      "Frankenstein\n"
     ]
    }
   ],
   "source": [
    "print(book2.title)"
   ]
  },
  {
   "cell_type": "code",
   "execution_count": 33,
   "metadata": {},
   "outputs": [
    {
     "name": "stdout",
     "output_type": "stream",
     "text": [
      "Title: The Return of the God Hypothesis, Author Meyer\n"
     ]
    }
   ],
   "source": [
    "print(book1)"
   ]
  },
  {
   "cell_type": "code",
   "execution_count": 34,
   "metadata": {},
   "outputs": [
    {
     "name": "stdout",
     "output_type": "stream",
     "text": [
      "Title: Frankenstein, Author Shelley\n"
     ]
    }
   ],
   "source": [
    "print(book2)"
   ]
  },
  {
   "cell_type": "code",
   "execution_count": 1,
   "metadata": {},
   "outputs": [
    {
     "data": {
      "text/plain": [
       "7"
      ]
     },
     "execution_count": 1,
     "metadata": {},
     "output_type": "execute_result"
    }
   ],
   "source": [
    "3 + 4"
   ]
  },
  {
   "cell_type": "code",
   "execution_count": 2,
   "metadata": {},
   "outputs": [
    {
     "name": "stdout",
     "output_type": "stream",
     "text": [
      "The sum of two numbers is 7\n"
     ]
    }
   ],
   "source": [
    "print(\"The sum of two numbers is {0}\".format(3+4))"
   ]
  },
  {
   "cell_type": "code",
   "execution_count": null,
   "metadata": {},
   "outputs": [],
   "source": [
    "## Write a class called C1 that adds two numbers using the function \"add\" and prints out the result to two decimal points using the __str__ function"
   ]
  },
  {
   "cell_type": "code",
   "execution_count": null,
   "metadata": {},
   "outputs": [],
   "source": [
    "### Enter you code here"
   ]
  },
  {
   "cell_type": "code",
   "execution_count": 3,
   "metadata": {},
   "outputs": [],
   "source": [
    "class C1:\n",
    "    def __init__(self, number1, number2):\n",
    "        self.number1 = number1\n",
    "        self.number2 = number2\n",
    "        \n",
    "    def add(self):\n",
    "        return self.number1 + self.number2\n",
    "    \n",
    "    def __str__(self):\n",
    "        return \"{0} + {1} = {2:0.2f}\".format(self.number1, self.number2, self.add())"
   ]
  },
  {
   "cell_type": "code",
   "execution_count": null,
   "metadata": {},
   "outputs": [],
   "source": [
    "### Test your code by creating an object of class C1 and adding 3.0 amd 4.0"
   ]
  },
  {
   "cell_type": "code",
   "execution_count": 4,
   "metadata": {},
   "outputs": [
    {
     "name": "stdout",
     "output_type": "stream",
     "text": [
      "3.0 + 4.0 = 7.00\n"
     ]
    }
   ],
   "source": [
    "a = C1(3.0, 4.0)\n",
    "print(a)"
   ]
  },
  {
   "cell_type": "code",
   "execution_count": null,
   "metadata": {},
   "outputs": [],
   "source": [
    "# Add a function / method to get the numbers from the user"
   ]
  },
  {
   "cell_type": "code",
   "execution_count": 5,
   "metadata": {},
   "outputs": [],
   "source": [
    "class C1:\n",
    "    def __init__(self, number1, number2):\n",
    "        self.number1 = number1\n",
    "        self.number2 = number2\n",
    "        \n",
    "    def add(self):\n",
    "        return self.number1 + self.number2\n",
    "    \n",
    "    def get_numbers_from_user(self):\n",
    "        self.number1 = float(input(\"Enter number 1 >> \"))\n",
    "        self.number2 = float(input(\"Enter number 2 >> \"))\n",
    "    \n",
    "    def __str__(self):\n",
    "        return \"{0} + {1} = {2:0.2f}\".format(self.number1, self.number2, self.add())"
   ]
  },
  {
   "cell_type": "code",
   "execution_count": 6,
   "metadata": {},
   "outputs": [
    {
     "name": "stdout",
     "output_type": "stream",
     "text": [
      "Enter number 1 >> 25.7\n",
      "Enter number 2 >> 67.8\n",
      "25.7 + 67.8 = 93.50\n"
     ]
    }
   ],
   "source": [
    "b = C1(3.0, 4.0)\n",
    "b.get_numbers_from_user()\n",
    "print(b)"
   ]
  },
  {
   "cell_type": "code",
   "execution_count": 7,
   "metadata": {},
   "outputs": [],
   "source": [
    "## Get the data from a file"
   ]
  },
  {
   "cell_type": "code",
   "execution_count": 18,
   "metadata": {},
   "outputs": [],
   "source": [
    "class C1:\n",
    "    def __init__(self, number1, number2):\n",
    "        self.number1 = number1\n",
    "        self.number2 = number2\n",
    "        \n",
    "    def add(self):\n",
    "        return self.number1 + self.number2\n",
    "    \n",
    "    def get_numbers_from_user(self):\n",
    "        self.number1 = float(input(\"Enter number 1 >> \"))\n",
    "        self.number2 = float(input(\"Enter number 2 >> \"))\n",
    "    \n",
    "    def get_numbers_from_file(self, filename):\n",
    "        infile = open(filename, \"r\")\n",
    "        thenumbers = infile.readline().split()\n",
    "        # print(thenumbers)\n",
    "        self.number1 = float(thenumbers[0])\n",
    "        self.number2 = float(thenumbers[1])\n",
    "    \n",
    "    def __str__(self):\n",
    "        return \"{0} + {1} = {2:0.2f}\".format(self.number1, self.number2, self.add())"
   ]
  },
  {
   "cell_type": "code",
   "execution_count": 19,
   "metadata": {},
   "outputs": [
    {
     "name": "stdout",
     "output_type": "stream",
     "text": [
      "100.6 + 200.7 = 301.30\n"
     ]
    }
   ],
   "source": [
    "c = C1(3.0, 4.0)\n",
    "c.get_numbers_from_file(\"apr-16.dat\")\n",
    "print(c)"
   ]
  },
  {
   "cell_type": "code",
   "execution_count": 20,
   "metadata": {},
   "outputs": [],
   "source": [
    "# Add two randoms numbers"
   ]
  },
  {
   "cell_type": "code",
   "execution_count": 21,
   "metadata": {},
   "outputs": [],
   "source": [
    "from random import random\n",
    "\n",
    "class C1:\n",
    "\n",
    "    def __init__(self, number1, number2):\n",
    "        self.number1 = number1\n",
    "        self.number2 = number2\n",
    "        \n",
    "    def add(self):\n",
    "        return self.number1 + self.number2\n",
    "    \n",
    "    def get_numbers_from_user(self):\n",
    "        self.number1 = float(input(\"Enter number 1 >> \"))\n",
    "        self.number2 = float(input(\"Enter number 2 >> \"))\n",
    "    \n",
    "    def get_numbers_from_file(self, filename):\n",
    "        infile = open(filename, \"r\")\n",
    "        thenumbers = infile.readline().split()\n",
    "        # print(thenumbers)\n",
    "        self.number1 = float(thenumbers[0])\n",
    "        self.number2 = float(thenumbers[1])\n",
    "        \n",
    "    def get_random_numbers(self):\n",
    "        self.number1 = random()\n",
    "        self.number2 = random()\n",
    "    \n",
    "    def __str__(self):\n",
    "        return \"{0} + {1} = {2:0.2f}\".format(self.number1, self.number2, self.add())"
   ]
  },
  {
   "cell_type": "code",
   "execution_count": 22,
   "metadata": {},
   "outputs": [
    {
     "name": "stdout",
     "output_type": "stream",
     "text": [
      "0.49961199446780735 + 0.9562935856858139 = 1.46\n"
     ]
    }
   ],
   "source": [
    "d = C1(3.0, 4.0)\n",
    "d.get_random_numbers()\n",
    "print(d)"
   ]
  },
  {
   "cell_type": "code",
   "execution_count": 26,
   "metadata": {},
   "outputs": [],
   "source": [
    "from random import random\n",
    "\n",
    "class C1:\n",
    "\n",
    "    def __init__(self, number1, number2):\n",
    "        self.number1 = number1\n",
    "        self.number2 = number2\n",
    "        \n",
    "    def add(self):\n",
    "        return self.number1 + self.number2\n",
    "    \n",
    "    def get_numbers_from_user(self):\n",
    "        self.number1 = float(input(\"Enter number 1 >> \"))\n",
    "        self.number2 = float(input(\"Enter number 2 >> \"))\n",
    "    \n",
    "    def get_numbers_from_file(self, filename):\n",
    "        infile = open(filename, \"r\")\n",
    "        thenumbers = infile.readline().split()\n",
    "        # print(thenumbers)\n",
    "        self.number1 = float(thenumbers[0])\n",
    "        self.number2 = float(thenumbers[1])\n",
    "        \n",
    "    def sum_numbers_from_file(self, filename):\n",
    "        infile = open(filename, \"r\")\n",
    "        self.total = 0\n",
    "        self.n = 0\n",
    "        for line in infile.readlines():\n",
    "            thenumbers = line.split()\n",
    "            for number in thenumbers:\n",
    "                self.total = self.total + float(number)\n",
    "                self.n = self.n + 1\n",
    "        return self.total, self.n\n",
    "     \n",
    "    def find_average_from_file(self, filename):\n",
    "        self.sum_numbers_from_file(filename)\n",
    "        self.average = self.total / self.n\n",
    "        return self.average\n",
    "        \n",
    "    def get_random_numbers(self):\n",
    "        self.number1 = random()\n",
    "        self.number2 = random()\n",
    "    \n",
    "    def __str__(self):\n",
    "        return \"{0} + {1} = {2:0.2f}\".format(self.number1, self.number2, self.add())"
   ]
  },
  {
   "cell_type": "code",
   "execution_count": 28,
   "metadata": {},
   "outputs": [
    {
     "name": "stdout",
     "output_type": "stream",
     "text": [
      "The average is 514.3167\n"
     ]
    }
   ],
   "source": [
    "e = C1(3.0, 4.0)\n",
    "print(\"The average is {0:0.4f}\".format(e.find_average_from_file(\"apr-16.dat\")))"
   ]
  },
  {
   "cell_type": "code",
   "execution_count": null,
   "metadata": {},
   "outputs": [],
   "source": []
  }
 ],
 "metadata": {
  "kernelspec": {
   "display_name": "Python 3",
   "language": "python",
   "name": "python3"
  },
  "language_info": {
   "codemirror_mode": {
    "name": "ipython",
    "version": 3
   },
   "file_extension": ".py",
   "mimetype": "text/x-python",
   "name": "python",
   "nbconvert_exporter": "python",
   "pygments_lexer": "ipython3",
   "version": "3.9.1"
  }
 },
 "nbformat": 4,
 "nbformat_minor": 4
}
